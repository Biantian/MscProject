{
 "cells": [
  {
   "cell_type": "markdown",
   "metadata": {},
   "source": [
    "# COCO Train set\n"
   ]
  },
  {
   "cell_type": "code",
   "execution_count": 1,
   "metadata": {},
   "outputs": [],
   "source": [
    "from pycocotools.coco import COCO\n",
    "import os"
   ]
  },
  {
   "cell_type": "code",
   "execution_count": 3,
   "metadata": {},
   "outputs": [
    {
     "name": "stdout",
     "output_type": "stream",
     "text": [
      "loading annotations into memory...\n",
      "Done (t=28.78s)\n",
      "creating index...\n",
      "index created!\n"
     ]
    }
   ],
   "source": [
    "dsNm = 'train2017'\n",
    "root = 'E:\\Resource\\Dataset\\COCO'\n",
    "annDir = os.path.join(root,'annotations','instances_{}.json'.format(dsNm))\n",
    "\n",
    "# Initialize coco api\n",
    "coco = COCO(annDir)"
   ]
  },
  {
   "cell_type": "markdown",
   "metadata": {},
   "source": [
    "## Record of Images Number for different Cats\n",
    "\n",
    "|    Cat's Nm | Amount |\n",
    "| ----------: | -----: |\n",
    "|      person |  64115 |\n",
    "|         car |  12251 |\n",
    "| person, car |   8519 |"
   ]
  },
  {
   "cell_type": "code",
   "execution_count": 13,
   "metadata": {},
   "outputs": [
    {
     "name": "stdout",
     "output_type": "stream",
     "text": [
      "Categories IDs: [1, 3]\n",
      "8519\n"
     ]
    }
   ],
   "source": [
    "# select categories\n",
    "catNms = ['person','car']\n",
    "# get catIds\n",
    "catIds = coco.getCatIds(catNms=catNms)\n",
    "print(\"Categories IDs:\",catIds)\n",
    "# get ImgIds\n",
    "imgIds = coco.getImgIds(catIds=catIds)\n",
    "# count imgs number\n",
    "print(len(imgIds))"
   ]
  },
  {
   "cell_type": "code",
   "execution_count": 22,
   "metadata": {},
   "outputs": [
    {
     "name": "stdout",
     "output_type": "stream",
     "text": [
      "67847\n"
     ]
    }
   ],
   "source": [
    "imgIds = []\n",
    "for catId in catIds:\n",
    "    imgIds = imgIds + coco.getImgIds(catIds=[catId])\n",
    "imgIds = list(dict.fromkeys(imgIds))  # remove duplicate id\n",
    "print(len(imgIds))"
   ]
  },
  {
   "cell_type": "code",
   "execution_count": null,
   "metadata": {},
   "outputs": [],
   "source": [
    "# get seg ids seperately based on cats\n",
    "# when making anns, we should get segs for \n",
    "# different cats seperately, then combine\n",
    "# them\n",
    "\n"
   ]
  }
 ],
 "metadata": {
  "kernelspec": {
   "display_name": "Python 3",
   "language": "python",
   "name": "python3"
  },
  "language_info": {
   "codemirror_mode": {
    "name": "ipython",
    "version": 3
   },
   "file_extension": ".py",
   "mimetype": "text/x-python",
   "name": "python",
   "nbconvert_exporter": "python",
   "pygments_lexer": "ipython3",
   "version": "3.7.7"
  }
 },
 "nbformat": 4,
 "nbformat_minor": 4
}
