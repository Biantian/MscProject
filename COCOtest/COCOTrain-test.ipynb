{
 "cells": [
  {
   "cell_type": "markdown",
   "metadata": {},
   "source": [
    "# COCO Train set\n"
   ]
  },
  {
   "cell_type": "code",
   "execution_count": 1,
   "metadata": {},
   "outputs": [],
   "source": [
    "from pycocotools.coco import COCO\n",
    "import os"
   ]
  },
  {
   "cell_type": "code",
   "execution_count": 2,
   "metadata": {},
   "outputs": [
    {
     "name": "stdout",
     "output_type": "stream",
     "text": [
      "loading annotations into memory...\n",
      "Done (t=26.59s)\n",
      "creating index...\n",
      "index created!\n"
     ]
    }
   ],
   "source": [
    "dsNm = 'train2017'\n",
    "root = 'E:\\Resource\\Dataset\\COCO'\n",
    "annDir = os.path.join(root,'annotations','instances_{}.json'.format(dsNm))\n",
    "\n",
    "# Initialize coco api\n",
    "coco = COCO(annDir)"
   ]
  },
  {
   "cell_type": "markdown",
   "metadata": {},
   "source": [
    "## Record of Images Number for different Cats"
   ]
  },
  {
   "cell_type": "markdown",
   "metadata": {},
   "source": [
    "I select bicycle, car, motorcycle, bus, truck"
   ]
  },
  {
   "cell_type": "code",
   "execution_count": 3,
   "metadata": {},
   "outputs": [
    {
     "name": "stdout",
     "output_type": "stream",
     "text": [
      "bicycle :  3252\n",
      "car :  12251\n",
      "motorcycle :  3502\n",
      "bus :  3952\n",
      "truck :  6127\n",
      "Total number of images: 19759\n"
     ]
    }
   ],
   "source": [
    "# load cats\n",
    "catNms = ['bicycle', 'car', 'motorcycle', 'bus', 'truck']\n",
    "cats = coco.loadCats(coco.getCatIds(catNms=catNms))\n",
    "count = []\n",
    "for cat in cats:\n",
    "    imgIds = coco.getImgIds(catIds=cat['id'])\n",
    "    count = count + imgIds\n",
    "    count = list(dict.fromkeys(count))\n",
    "    print(cat['name'],': ',len(imgIds))\n",
    "print('Total number of images:',len(count))"
   ]
  },
  {
   "cell_type": "markdown",
   "metadata": {},
   "source": [
    "|    Cat's Nm | Amount |\n",
    "| ----------: | -----: |\n",
    "|      person |  64115 |\n",
    "|         car |  12251 |\n",
    "| person and car |   8519 |\n",
    "| persion or car | 67847 |"
   ]
  },
  {
   "cell_type": "code",
   "execution_count": 8,
   "metadata": {},
   "outputs": [
    {
     "name": "stdout",
     "output_type": "stream",
     "text": [
      "Categories IDs: [1, 3]\n",
      "Intersection: 8519\n",
      "Union: 67847\n"
     ]
    }
   ],
   "source": [
    "# select categories\n",
    "catNms = ['person','car']\n",
    "# get catIds\n",
    "catIds = coco.getCatIds(catNms=catNms)\n",
    "print(\"Categories IDs:\",catIds)\n",
    "# get ImgIds\n",
    "imgIds = coco.getImgIds(catIds=catIds)\n",
    "# count imgs number\n",
    "print('Intersection:',len(imgIds))\n",
    "\n",
    "imgIds = []\n",
    "for catId in catIds:\n",
    "    imgIds = imgIds + coco.getImgIds(catIds=[catId])\n",
    "imgIds = list(dict.fromkeys(imgIds))  # remove duplicate id\n",
    "print('Union:',len(imgIds))"
   ]
  },
  {
   "cell_type": "code",
   "execution_count": 13,
   "metadata": {},
   "outputs": [
    {
     "name": "stdout",
     "output_type": "stream",
     "text": [
      "1.person:64115\n",
      "2.bicycle:3252\n",
      "3.car:12251\n",
      "4.motorcycle:3502\n",
      "5.airplane:2986\n",
      "6.bus:3952\n",
      "7.train:3588\n",
      "8.truck:6127\n",
      "9.boat:3025\n",
      "10.traffic light:4139\n",
      "11.fire hydrant:1711\n",
      "13.stop sign:1734\n",
      "14.parking meter:705\n",
      "15.bench:5570\n",
      "16.bird:3237\n",
      "17.cat:4114\n",
      "18.dog:4385\n",
      "19.horse:2941\n",
      "20.sheep:1529\n",
      "21.cow:1968\n",
      "22.elephant:2143\n",
      "23.bear:960\n",
      "24.zebra:1916\n",
      "25.giraffe:2546\n",
      "27.backpack:5528\n",
      "28.umbrella:3968\n",
      "31.handbag:6841\n",
      "32.tie:3810\n",
      "33.suitcase:2402\n",
      "34.frisbee:2184\n",
      "35.skis:3082\n",
      "36.snowboard:1654\n",
      "37.sports ball:4262\n",
      "38.kite:2261\n",
      "39.baseball bat:2506\n",
      "40.baseball glove:2629\n",
      "41.skateboard:3476\n",
      "42.surfboard:3486\n",
      "43.tennis racket:3394\n",
      "44.bottle:8501\n",
      "46.wine glass:2533\n",
      "47.cup:9189\n",
      "48.fork:3555\n",
      "49.knife:4326\n",
      "50.spoon:3529\n",
      "51.bowl:7111\n",
      "52.banana:2243\n",
      "53.apple:1586\n",
      "54.sandwich:2365\n",
      "55.orange:1699\n",
      "56.broccoli:1939\n",
      "57.carrot:1683\n",
      "58.hot dog:1222\n",
      "59.pizza:3166\n",
      "60.donut:1523\n",
      "61.cake:2925\n",
      "62.chair:12774\n",
      "63.couch:4423\n",
      "64.potted plant:4452\n",
      "65.bed:3682\n",
      "67.dining table:11837\n",
      "70.toilet:3353\n",
      "72.tv:4561\n",
      "73.laptop:3524\n",
      "74.mouse:1876\n",
      "75.remote:3076\n",
      "76.keyboard:2115\n",
      "77.cell phone:4803\n",
      "78.microwave:1547\n",
      "79.oven:2877\n",
      "80.toaster:217\n",
      "81.sink:4678\n",
      "82.refrigerator:2360\n",
      "84.book:5332\n",
      "85.clock:4659\n",
      "86.vase:3593\n",
      "87.scissors:947\n",
      "88.teddy bear:2140\n",
      "89.hair drier:189\n",
      "90.toothbrush:1007\n"
     ]
    }
   ],
   "source": [
    "cats = coco.loadCats(coco.getCatIds())\n",
    "for cat in cats:\n",
    "    idx = cat['id']\n",
    "    name = cat['name']\n",
    "    count = len(coco.getImgIds(catIds=idx))\n",
    "    print('{}.{}:{}'.format(idx, name, count))"
   ]
  },
  {
   "cell_type": "code",
   "execution_count": null,
   "metadata": {},
   "outputs": [],
   "source": [
    "# only use one class, just as Penn-Fudan Demo did. For example, dog.\n"
   ]
  }
 ],
 "metadata": {
  "kernelspec": {
   "display_name": "Python 3",
   "language": "python",
   "name": "python3"
  },
  "language_info": {
   "codemirror_mode": {
    "name": "ipython",
    "version": 3
   },
   "file_extension": ".py",
   "mimetype": "text/x-python",
   "name": "python",
   "nbconvert_exporter": "python",
   "pygments_lexer": "ipython3",
   "version": "3.7.7"
  }
 },
 "nbformat": 4,
 "nbformat_minor": 4
}
