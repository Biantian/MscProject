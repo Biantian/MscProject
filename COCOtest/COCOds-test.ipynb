{
 "cells": [
  {
   "cell_type": "markdown",
   "metadata": {},
   "source": [
    "## 1. Create test Dataset\n",
    "[link](https://pytorch.org/docs/stable/_modules/torchvision/datasets/coco.html#CocoDetection)."
   ]
  },
  {
   "cell_type": "code",
   "execution_count": null,
   "metadata": {},
   "outputs": [],
   "source": [
    "import torch\n",
    "import torchvision\n",
    "root = 'E:/Resource/Dataset/COCO/test2017/'\n",
    "annFile = 'E:/Resource/Dataset/COCO/annotations/instances_val2017.json'\n",
    "CocoDataset = torchvision.datasets.CocoDetection()"
   ]
  }
 ],
 "metadata": {
  "kernelspec": {
   "display_name": "Python 3",
   "language": "python",
   "name": "python3"
  },
  "language_info": {
   "codemirror_mode": {
    "name": "ipython",
    "version": 3
   },
   "file_extension": ".py",
   "mimetype": "text/x-python",
   "name": "python",
   "nbconvert_exporter": "python",
   "pygments_lexer": "ipython3",
   "version": "3.7.7"
  }
 },
 "nbformat": 4,
 "nbformat_minor": 4
}
