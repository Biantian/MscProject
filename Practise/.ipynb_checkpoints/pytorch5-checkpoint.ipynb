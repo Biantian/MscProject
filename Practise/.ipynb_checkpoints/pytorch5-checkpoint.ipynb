{
 "cells": [
  {
   "cell_type": "markdown",
   "metadata": {},
   "source": [
    "# CNN Implementation\n",
    "\n",
    "[TOC]\n",
    "\n",
    "## Make Training Data\n",
    "Using OpenCV-Python and Numpy library.\n",
    "Aim to shrink all images and store all images with its labels in to one `.npy` file.\n",
    "\n",
    "### Function Explain\n",
    "\n",
    "`os.listdir(<address>)`: list all name of file and directory in the given address.<br/>\n",
    "`self.training_data.append([np.array(img),np.eye(5)[self.LABELS[label]]])`: Transform img data into `np.array`,using [One-Hot Vector](https://en.wikipedia.org/wiki/One-hot) to mark the class of each img.<br/>\n",
    "`np.random.shuffle(self.training_data)`: Shuffle the Dataset to avoid the NN easily get overfit into one specific class. Avoid Shortcut.<br/>\n",
    "`np.save(\"training_data.npy\",self.training_data)`: Easily save the data.\n"
   ]
  },
  {
   "cell_type": "code",
   "execution_count": 3,
   "metadata": {},
   "outputs": [
    {
     "name": "stderr",
     "output_type": "stream",
     "text": [
      "\r",
      "  0%|                                                                                          | 0/769 [00:00<?, ?it/s]"
     ]
    },
    {
     "name": "stdout",
     "output_type": "stream",
     "text": [
      "daisy\n"
     ]
    },
    {
     "name": "stderr",
     "output_type": "stream",
     "text": [
      "100%|███████████████████████████████████████████████████████████████████████████████| 769/769 [00:04<00:00, 184.08it/s]\n",
      "  2%|█▌                                                                             | 21/1055 [00:00<00:05, 198.50it/s]"
     ]
    },
    {
     "name": "stdout",
     "output_type": "stream",
     "text": [
      "dandelion\n"
     ]
    },
    {
     "name": "stderr",
     "output_type": "stream",
     "text": [
      "100%|█████████████████████████████████████████████████████████████████████████████| 1055/1055 [00:06<00:00, 167.50it/s]\n",
      "  3%|██▍                                                                             | 24/784 [00:00<00:03, 235.75it/s]"
     ]
    },
    {
     "name": "stdout",
     "output_type": "stream",
     "text": [
      "rose\n"
     ]
    },
    {
     "name": "stderr",
     "output_type": "stream",
     "text": [
      "100%|███████████████████████████████████████████████████████████████████████████████| 784/784 [00:04<00:00, 165.92it/s]\n",
      "  2%|█▋                                                                              | 16/734 [00:00<00:05, 139.95it/s]"
     ]
    },
    {
     "name": "stdout",
     "output_type": "stream",
     "text": [
      "sunflower\n"
     ]
    },
    {
     "name": "stderr",
     "output_type": "stream",
     "text": [
      "100%|███████████████████████████████████████████████████████████████████████████████| 734/734 [00:05<00:00, 138.75it/s]\n",
      "  1%|▉                                                                               | 11/984 [00:00<00:09, 102.58it/s]"
     ]
    },
    {
     "name": "stdout",
     "output_type": "stream",
     "text": [
      "tulip\n"
     ]
    },
    {
     "name": "stderr",
     "output_type": "stream",
     "text": [
      "100%|███████████████████████████████████████████████████████████████████████████████| 984/984 [00:06<00:00, 149.66it/s]\n"
     ]
    }
   ],
   "source": [
    "import os\n",
    "import cv2\n",
    "import numpy as np\n",
    "from tqdm import tqdm\n",
    "\n",
    "REBUILD_DATA = False\n",
    "DB_DIR = \"flowers/flowers/\"\n",
    "\n",
    "class FlowersDataset():\n",
    "    IMG_SIZE = 115\n",
    "    LABELS = {\"daisy\":0,\"dandelion\":1,\"rose\":2,\"sunflower\":3,\"tulip\":4}\n",
    "    training_data = []\n",
    "    \n",
    "    def make_training_data(self):\n",
    "        for label in self.LABELS:\n",
    "            print(label)\n",
    "            for f in tqdm(os.listdir(DB_DIR+label)):\n",
    "                try:\n",
    "                    path = os.path.join(DB_DIR+label,f)\n",
    "                    img = cv2.imread(path,cv2.IMREAD_COLOR)\n",
    "                    img = cv2.resize(img,(self.IMG_SIZE,self.IMG_SIZE))\n",
    "                    self.training_data.append([np.array(img),np.eye(5)[self.LABELS[label]]])\n",
    "                except Exception as e:\n",
    "                    pass\n",
    "                \n",
    "        np.random.shuffle(self.training_data)\n",
    "        np.save(\"flowers/flowers_training_data.npy\",self.training_data)\n",
    "            \n",
    "if REBUILD_DATA:\n",
    "    flowers = FlowersDataset()\n",
    "    flowers.make_training_data()"
   ]
  },
  {
   "cell_type": "markdown",
   "metadata": {},
   "source": [
    "## Load Data\n",
    "    Load and Check data.A visualize attempt."
   ]
  },
  {
   "cell_type": "code",
   "execution_count": 4,
   "metadata": {},
   "outputs": [],
   "source": [
    "training_data = np.load(\"flowers/flowers_training_data.npy\",allow_pickle=True)"
   ]
  },
  {
   "cell_type": "code",
   "execution_count": 5,
   "metadata": {},
   "outputs": [
    {
     "name": "stdout",
     "output_type": "stream",
     "text": [
      "4323\n"
     ]
    }
   ],
   "source": [
    "print(len(training_data))"
   ]
  },
  {
   "cell_type": "code",
   "execution_count": 6,
   "metadata": {},
   "outputs": [
    {
     "name": "stdout",
     "output_type": "stream",
     "text": [
      "[array([[[ 0,  0,  0],\n",
      "        [ 0,  0,  0],\n",
      "        [ 0,  0,  0],\n",
      "        ...,\n",
      "        [ 0,  0,  0],\n",
      "        [ 0,  0,  0],\n",
      "        [ 0,  0,  0]],\n",
      "\n",
      "       [[ 0,  0,  0],\n",
      "        [ 0,  0,  0],\n",
      "        [ 0,  0,  0],\n",
      "        ...,\n",
      "        [ 0,  0,  0],\n",
      "        [ 0,  0,  0],\n",
      "        [ 0,  0,  0]],\n",
      "\n",
      "       [[ 0,  0,  0],\n",
      "        [ 0,  0,  0],\n",
      "        [ 0,  0,  0],\n",
      "        ...,\n",
      "        [ 0,  0,  0],\n",
      "        [ 0,  0,  0],\n",
      "        [ 0,  0,  0]],\n",
      "\n",
      "       ...,\n",
      "\n",
      "       [[ 0,  0,  0],\n",
      "        [ 0,  0,  0],\n",
      "        [ 0,  0,  0],\n",
      "        ...,\n",
      "        [24, 36, 26],\n",
      "        [17, 28, 19],\n",
      "        [18, 26, 19]],\n",
      "\n",
      "       [[ 0,  0,  0],\n",
      "        [ 0,  0,  0],\n",
      "        [ 0,  0,  0],\n",
      "        ...,\n",
      "        [27, 40, 29],\n",
      "        [25, 36, 25],\n",
      "        [21, 32, 20]],\n",
      "\n",
      "       [[ 0,  0,  0],\n",
      "        [ 0,  0,  0],\n",
      "        [ 0,  0,  0],\n",
      "        ...,\n",
      "        [24, 34, 26],\n",
      "        [23, 32, 22],\n",
      "        [21, 29, 18]]], dtype=uint8)\n",
      " array([0., 0., 1., 0., 0.])]\n"
     ]
    }
   ],
   "source": [
    "print(training_data[1])"
   ]
  },
  {
   "cell_type": "code",
   "execution_count": 7,
   "metadata": {},
   "outputs": [
    {
     "data": {
      "image/png": "[encoded data removed]",
      "text/plain": [
       "<Figure size 432x288 with 1 Axes>"
      ]
     },
     "metadata": {
      "needs_background": "light"
     },
     "output_type": "display_data"
    }
   ],
   "source": [
    "import matplotlib.pyplot as plt\n",
    "\n",
    "RGB_img = cv2.cvtColor(training_data[1][0],cv2.COLOR_BGR2RGB)\n",
    "plt.imshow(RGB_img)\n",
    "plt.show()"
   ]
  },
  {
   "cell_type": "markdown",
   "metadata": {},
   "source": [
    "## CNN Structure\n",
    "\n",
    "> 115\\*115\\*3 dimention image \n",
    "\n",
    "### How to design Conv Layer and other layers?\n",
    "\n",
    "$(W-F+2P)/S+1$\n",
    "\n",
    "*W*: input volume size<br/>\n",
    "*F*: receptive field size of Conv Layer Neuron<br/>\n",
    "*P*: amount of zero padding<br/>\n",
    "*S*: stride<br/>\n",
    "\n",
    "**Where to use this formula?**\n",
    "To compute the number of neurons in Fully Connected Network.\n",
    "\n",
    "### How to settle down the size of each layer?\n",
    "\n",
    "From buttom to above! <br/>\n",
    "In this attemptation, to fit the max-pooling layer(2\\*2), we need to make sure the input size of data is even number.<br/>\n",
    "We need to adjust Conv Layer on its stride size and sometimes add zero-padding.<br/>"
   ]
  },
  {
   "cell_type": "code",
   "execution_count": 8,
   "metadata": {},
   "outputs": [],
   "source": [
    "import torch\n",
    "import torch.nn as nn\n",
    "import torch.nn.functional as F\n",
    "\n",
    "class Net(nn.Module):\n",
    "    def __init__(self):\n",
    "        super(Net, self).__init__()\n",
    "        self.conv1 = nn.Conv2d(3, 48, 5,stride=2)#(115-5)/2+1=56 \n",
    "        #max_pool:56/2=28\n",
    "        self.conv2 = nn.Conv2d(48, 96, 5)#(28-5)/1+1=24 \n",
    "        #max_pool:24/2=12\n",
    "        self.conv3 = nn.Conv2d(96, 128, 5)#(12-5)/1+1=8 \n",
    "        #max_pool:8/2=4\n",
    "        self.fc1 = nn.Linear(4*4*128, 1024)\n",
    "        self.fc2 = nn.Linear(1024, 512)\n",
    "        self.fc3 = nn.Linear(512, 10)\n",
    "\n",
    "    def forward(self, x):\n",
    "        x = F.max_pool2d(F.relu(self.conv1(x)),(2,2))\n",
    "        x = F.max_pool2d(F.relu(self.conv2(x)),(2,2))\n",
    "        x = F.max_pool2d(F.relu(self.conv3(x)),(2,2))\n",
    "        x = x.view(-1, 4*4*128)\n",
    "        x = F.relu(self.fc1(x))\n",
    "        x = F.relu(self.fc2(x))\n",
    "        x = self.fc3(x)\n",
    "        return x\n",
    "\n",
    "\n",
    "net = Net()"
   ]
  },
  {
   "cell_type": "markdown",
   "metadata": {},
   "source": [
    "### Criterion(loss_function) and Optimizer\n",
    "\n",
    "**TODO**<br/>\n",
    "`nn.CrossEntropyLoss()`: <br/>\n",
    "`optim.SGD(net.parameters(), lr=0.001, momentum=0.9)`: "
   ]
  },
  {
   "cell_type": "code",
   "execution_count": 9,
   "metadata": {},
   "outputs": [],
   "source": [
    "import torch.optim as optim\n",
    "\n",
    "criterion = nn.CrossEntropyLoss()\n",
    "optimizer = optim.SGD(net.parameters(), lr=0.001, momentum=0.9)"
   ]
  },
  {
   "cell_type": "markdown",
   "metadata": {},
   "source": [
    "### Split Train and Test Set\n",
    "\n",
    "#### For Train set \n",
    "1. Split Images and Labels.<br/>\n",
    "Original thought: `X = torch.Tensor([i[0] for i in training_data]).view(-1,115,115)`<br/>\n",
    "New thought: `X = torch.Tensor([i[0] for i in training_data]).view(-1,3,115,115)`\n",
    "2. Normalize Image data(Is this nessecary?)<br/>\n",
    "Convert all pixel from \\[0,255.0\\] to \\[0,1.0\\]."
   ]
  },
  {
   "cell_type": "code",
   "execution_count": 10,
   "metadata": {},
   "outputs": [],
   "source": [
    "X = torch.Tensor([i[0] for i in training_data]).view(-1,3,115,115)\n",
    "X = X/255.0\n",
    "y = torch.Tensor([i[1] for i in training_data])"
   ]
  },
  {
   "cell_type": "code",
   "execution_count": 11,
   "metadata": {},
   "outputs": [
    {
     "name": "stdout",
     "output_type": "stream",
     "text": [
      "torch.Size([4323, 3, 115, 115])\n",
      "torch.Size([4323, 5])\n"
     ]
    }
   ],
   "source": [
    "print(X.shape)\n",
    "print(y.shape)"
   ]
  },
  {
   "cell_type": "markdown",
   "metadata": {},
   "source": [
    "#### For Test set\n",
    "1. **SPL_RAT** split rate 0.1.<br/>\n",
    "10% samples are splited into test set.<br/>\n",
    "Original:\n",
    "<pre><code>\n",
    "train_X = X[:-1200]\n",
    "train_y = y[:-int(1200/3)]\n",
    "test_X = X[-1200:]\n",
    "test_y = y[-int(1200/3):]\n",
    "</code></pre>"
   ]
  },
  {
   "cell_type": "code",
   "execution_count": 12,
   "metadata": {},
   "outputs": [],
   "source": [
    "SPL_RAT = 0.1\n",
    "spl_point = int(len(X)*SPL_RAT)"
   ]
  },
  {
   "cell_type": "code",
   "execution_count": 13,
   "metadata": {},
   "outputs": [
    {
     "name": "stdout",
     "output_type": "stream",
     "text": [
      "Train set img size:  3891\n",
      "Train set label size:  3891\n",
      "Test set img size:  432\n",
      "Test set label size:  432\n",
      "Sample size:  4323\n"
     ]
    }
   ],
   "source": [
    "train_X = X[:-spl_point]\n",
    "train_y = y[:-spl_point]\n",
    "\n",
    "test_X = X[-spl_point:]\n",
    "test_y = y[-spl_point:]\n",
    "\n",
    "print(\"Train set img size: \",len(train_X))\n",
    "print(\"Train set label size: \",len(train_y))\n",
    "print(\"Test set img size: \",len(test_X))\n",
    "print(\"Test set label size: \",len(test_y))\n",
    "print(\"Sample size: \",len(train_X)+len(test_X))"
   ]
  },
  {
   "cell_type": "markdown",
   "metadata": {},
   "source": [
    "### Train Model\n",
    "> Reference to PyTorch official [image classification example](https://pytorch.org/tutorials/beginner/blitz/cifar10_tutorial.html).\n",
    "#### Get Batch\n",
    "#### Zero Gradiant\n",
    "#### Forward Backward Optimize\n",
    "#### Result Record\n",
    "|No.|Batch Size|Epochs|Result|\n",
    "|:---|:---:|:---:|---:|\n",
    "|1|20|1|1.6215|"
   ]
  },
  {
   "cell_type": "code",
   "execution_count": 14,
   "metadata": {},
   "outputs": [
    {
     "name": "stdout",
     "output_type": "stream",
     "text": [
      "tensor(2.2968, grad_fn=<NllLossBackward>)\n",
      "tensor(2.3144, grad_fn=<NllLossBackward>)\n",
      "tensor(2.2983, grad_fn=<NllLossBackward>)\n",
      "tensor(2.2965, grad_fn=<NllLossBackward>)\n",
      "tensor(2.3126, grad_fn=<NllLossBackward>)\n",
      "tensor(2.3006, grad_fn=<NllLossBackward>)\n",
      "tensor(2.2900, grad_fn=<NllLossBackward>)\n",
      "tensor(2.2877, grad_fn=<NllLossBackward>)\n",
      "tensor(2.2941, grad_fn=<NllLossBackward>)\n",
      "tensor(2.3011, grad_fn=<NllLossBackward>)\n",
      "tensor(2.2925, grad_fn=<NllLossBackward>)\n",
      "tensor(2.2809, grad_fn=<NllLossBackward>)\n",
      "tensor(2.2818, grad_fn=<NllLossBackward>)\n",
      "tensor(2.2911, grad_fn=<NllLossBackward>)\n",
      "tensor(2.2945, grad_fn=<NllLossBackward>)\n",
      "tensor(2.2833, grad_fn=<NllLossBackward>)\n",
      "tensor(2.2847, grad_fn=<NllLossBackward>)\n",
      "tensor(2.2986, grad_fn=<NllLossBackward>)\n",
      "tensor(2.2845, grad_fn=<NllLossBackward>)\n",
      "tensor(2.2904, grad_fn=<NllLossBackward>)\n",
      "tensor(2.2902, grad_fn=<NllLossBackward>)\n",
      "tensor(2.2771, grad_fn=<NllLossBackward>)\n",
      "tensor(2.2748, grad_fn=<NllLossBackward>)\n",
      "tensor(2.2757, grad_fn=<NllLossBackward>)\n",
      "tensor(2.2763, grad_fn=<NllLossBackward>)\n",
      "tensor(2.2664, grad_fn=<NllLossBackward>)\n",
      "tensor(2.2694, grad_fn=<NllLossBackward>)\n",
      "tensor(2.2528, grad_fn=<NllLossBackward>)\n",
      "tensor(2.2570, grad_fn=<NllLossBackward>)\n",
      "tensor(2.2607, grad_fn=<NllLossBackward>)\n",
      "tensor(2.2599, grad_fn=<NllLossBackward>)\n",
      "tensor(2.2545, grad_fn=<NllLossBackward>)\n",
      "tensor(2.2450, grad_fn=<NllLossBackward>)\n",
      "tensor(2.2539, grad_fn=<NllLossBackward>)\n",
      "tensor(2.2650, grad_fn=<NllLossBackward>)\n",
      "tensor(2.2465, grad_fn=<NllLossBackward>)\n",
      "tensor(2.2366, grad_fn=<NllLossBackward>)\n",
      "tensor(2.2267, grad_fn=<NllLossBackward>)\n",
      "tensor(2.2210, grad_fn=<NllLossBackward>)\n",
      "tensor(2.2346, grad_fn=<NllLossBackward>)\n",
      "tensor(2.2248, grad_fn=<NllLossBackward>)\n",
      "tensor(2.2213, grad_fn=<NllLossBackward>)\n",
      "tensor(2.2188, grad_fn=<NllLossBackward>)\n",
      "tensor(2.2037, grad_fn=<NllLossBackward>)\n",
      "tensor(2.2220, grad_fn=<NllLossBackward>)\n",
      "tensor(2.2236, grad_fn=<NllLossBackward>)\n",
      "tensor(2.2066, grad_fn=<NllLossBackward>)\n",
      "tensor(2.2121, grad_fn=<NllLossBackward>)\n",
      "tensor(2.1963, grad_fn=<NllLossBackward>)\n",
      "tensor(2.2034, grad_fn=<NllLossBackward>)\n",
      "tensor(2.1747, grad_fn=<NllLossBackward>)\n",
      "tensor(2.1771, grad_fn=<NllLossBackward>)\n",
      "tensor(2.1946, grad_fn=<NllLossBackward>)\n",
      "tensor(2.1676, grad_fn=<NllLossBackward>)\n",
      "tensor(2.1381, grad_fn=<NllLossBackward>)\n",
      "tensor(2.1887, grad_fn=<NllLossBackward>)\n",
      "tensor(2.1745, grad_fn=<NllLossBackward>)\n",
      "tensor(2.1439, grad_fn=<NllLossBackward>)\n",
      "tensor(2.1457, grad_fn=<NllLossBackward>)\n",
      "tensor(2.1301, grad_fn=<NllLossBackward>)\n",
      "tensor(2.1196, grad_fn=<NllLossBackward>)\n",
      "tensor(2.1386, grad_fn=<NllLossBackward>)\n",
      "tensor(2.0923, grad_fn=<NllLossBackward>)\n",
      "tensor(2.0502, grad_fn=<NllLossBackward>)\n",
      "tensor(2.1263, grad_fn=<NllLossBackward>)\n",
      "tensor(2.0819, grad_fn=<NllLossBackward>)\n",
      "tensor(2.1307, grad_fn=<NllLossBackward>)\n",
      "tensor(2.0278, grad_fn=<NllLossBackward>)\n",
      "tensor(2.0443, grad_fn=<NllLossBackward>)\n",
      "tensor(2.0582, grad_fn=<NllLossBackward>)\n",
      "tensor(2.0511, grad_fn=<NllLossBackward>)\n",
      "tensor(2.0044, grad_fn=<NllLossBackward>)\n",
      "tensor(1.9411, grad_fn=<NllLossBackward>)\n",
      "tensor(1.9484, grad_fn=<NllLossBackward>)\n",
      "tensor(1.9720, grad_fn=<NllLossBackward>)\n",
      "tensor(1.9632, grad_fn=<NllLossBackward>)\n",
      "tensor(1.9878, grad_fn=<NllLossBackward>)\n",
      "tensor(1.8590, grad_fn=<NllLossBackward>)\n",
      "tensor(1.8909, grad_fn=<NllLossBackward>)\n",
      "tensor(1.7792, grad_fn=<NllLossBackward>)\n",
      "tensor(1.9310, grad_fn=<NllLossBackward>)\n",
      "tensor(1.8773, grad_fn=<NllLossBackward>)\n",
      "tensor(1.7256, grad_fn=<NllLossBackward>)\n",
      "tensor(1.7784, grad_fn=<NllLossBackward>)\n",
      "tensor(1.7664, grad_fn=<NllLossBackward>)\n",
      "tensor(1.6535, grad_fn=<NllLossBackward>)\n",
      "tensor(1.6914, grad_fn=<NllLossBackward>)\n",
      "tensor(1.7093, grad_fn=<NllLossBackward>)\n",
      "tensor(1.6941, grad_fn=<NllLossBackward>)\n",
      "tensor(1.7389, grad_fn=<NllLossBackward>)\n",
      "tensor(1.6880, grad_fn=<NllLossBackward>)\n",
      "tensor(1.6792, grad_fn=<NllLossBackward>)\n",
      "tensor(1.6731, grad_fn=<NllLossBackward>)\n",
      "tensor(1.7494, grad_fn=<NllLossBackward>)\n",
      "tensor(1.5762, grad_fn=<NllLossBackward>)\n",
      "tensor(1.7178, grad_fn=<NllLossBackward>)\n",
      "tensor(1.7397, grad_fn=<NllLossBackward>)\n",
      "tensor(1.6718, grad_fn=<NllLossBackward>)\n",
      "tensor(1.6181, grad_fn=<NllLossBackward>)\n",
      "tensor(1.5483, grad_fn=<NllLossBackward>)\n",
      "tensor(1.6527, grad_fn=<NllLossBackward>)\n",
      "tensor(1.7533, grad_fn=<NllLossBackward>)\n",
      "tensor(1.6701, grad_fn=<NllLossBackward>)\n",
      "tensor(1.6430, grad_fn=<NllLossBackward>)\n",
      "tensor(1.6548, grad_fn=<NllLossBackward>)\n",
      "tensor(1.5712, grad_fn=<NllLossBackward>)\n",
      "tensor(1.6013, grad_fn=<NllLossBackward>)\n",
      "tensor(1.6127, grad_fn=<NllLossBackward>)\n",
      "tensor(1.7058, grad_fn=<NllLossBackward>)\n",
      "tensor(1.6748, grad_fn=<NllLossBackward>)\n",
      "tensor(1.7170, grad_fn=<NllLossBackward>)\n",
      "tensor(1.6811, grad_fn=<NllLossBackward>)\n",
      "tensor(1.6042, grad_fn=<NllLossBackward>)\n",
      "tensor(1.6900, grad_fn=<NllLossBackward>)\n",
      "tensor(1.6685, grad_fn=<NllLossBackward>)\n",
      "tensor(1.6653, grad_fn=<NllLossBackward>)\n",
      "tensor(1.6742, grad_fn=<NllLossBackward>)\n",
      "tensor(1.6322, grad_fn=<NllLossBackward>)\n",
      "tensor(1.6347, grad_fn=<NllLossBackward>)\n",
      "tensor(1.6183, grad_fn=<NllLossBackward>)\n",
      "tensor(1.6713, grad_fn=<NllLossBackward>)\n",
      "tensor(1.6285, grad_fn=<NllLossBackward>)\n",
      "tensor(1.6458, grad_fn=<NllLossBackward>)\n",
      "tensor(1.7298, grad_fn=<NllLossBackward>)\n",
      "tensor(1.5801, grad_fn=<NllLossBackward>)\n",
      "tensor(1.5110, grad_fn=<NllLossBackward>)\n",
      "tensor(1.5571, grad_fn=<NllLossBackward>)\n",
      "tensor(1.6509, grad_fn=<NllLossBackward>)\n",
      "tensor(1.6824, grad_fn=<NllLossBackward>)\n",
      "tensor(1.7189, grad_fn=<NllLossBackward>)\n",
      "tensor(1.5683, grad_fn=<NllLossBackward>)\n",
      "tensor(1.6662, grad_fn=<NllLossBackward>)\n",
      "tensor(1.5997, grad_fn=<NllLossBackward>)\n",
      "tensor(1.6455, grad_fn=<NllLossBackward>)\n",
      "tensor(1.6106, grad_fn=<NllLossBackward>)\n",
      "tensor(1.6498, grad_fn=<NllLossBackward>)\n",
      "tensor(1.6540, grad_fn=<NllLossBackward>)\n",
      "tensor(1.6085, grad_fn=<NllLossBackward>)\n",
      "tensor(1.6283, grad_fn=<NllLossBackward>)\n",
      "tensor(1.5632, grad_fn=<NllLossBackward>)\n",
      "tensor(1.6094, grad_fn=<NllLossBackward>)\n",
      "tensor(1.8006, grad_fn=<NllLossBackward>)\n",
      "tensor(1.6496, grad_fn=<NllLossBackward>)\n",
      "tensor(1.5411, grad_fn=<NllLossBackward>)\n",
      "tensor(1.6545, grad_fn=<NllLossBackward>)\n",
      "tensor(1.7756, grad_fn=<NllLossBackward>)\n",
      "tensor(1.5752, grad_fn=<NllLossBackward>)\n",
      "tensor(1.6298, grad_fn=<NllLossBackward>)\n",
      "tensor(1.6587, grad_fn=<NllLossBackward>)\n",
      "tensor(1.5964, grad_fn=<NllLossBackward>)\n",
      "tensor(1.6251, grad_fn=<NllLossBackward>)\n",
      "tensor(1.6261, grad_fn=<NllLossBackward>)\n",
      "tensor(1.5724, grad_fn=<NllLossBackward>)\n",
      "tensor(1.6781, grad_fn=<NllLossBackward>)\n",
      "tensor(1.5850, grad_fn=<NllLossBackward>)\n",
      "tensor(1.7091, grad_fn=<NllLossBackward>)\n",
      "tensor(1.6637, grad_fn=<NllLossBackward>)\n",
      "tensor(1.7089, grad_fn=<NllLossBackward>)\n",
      "tensor(1.6493, grad_fn=<NllLossBackward>)\n",
      "tensor(1.6203, grad_fn=<NllLossBackward>)\n",
      "tensor(1.5956, grad_fn=<NllLossBackward>)\n",
      "tensor(1.6539, grad_fn=<NllLossBackward>)\n",
      "tensor(1.5989, grad_fn=<NllLossBackward>)\n",
      "tensor(1.6618, grad_fn=<NllLossBackward>)\n",
      "tensor(1.5745, grad_fn=<NllLossBackward>)\n",
      "tensor(1.6157, grad_fn=<NllLossBackward>)\n",
      "tensor(1.5137, grad_fn=<NllLossBackward>)\n",
      "tensor(1.5945, grad_fn=<NllLossBackward>)\n",
      "tensor(1.7217, grad_fn=<NllLossBackward>)\n",
      "tensor(1.6818, grad_fn=<NllLossBackward>)\n",
      "tensor(1.6655, grad_fn=<NllLossBackward>)\n",
      "tensor(1.7637, grad_fn=<NllLossBackward>)\n",
      "tensor(1.5623, grad_fn=<NllLossBackward>)\n",
      "tensor(1.6059, grad_fn=<NllLossBackward>)\n",
      "tensor(1.6795, grad_fn=<NllLossBackward>)\n",
      "tensor(1.6722, grad_fn=<NllLossBackward>)\n",
      "tensor(1.6736, grad_fn=<NllLossBackward>)\n",
      "tensor(1.6814, grad_fn=<NllLossBackward>)\n",
      "tensor(1.6046, grad_fn=<NllLossBackward>)\n",
      "tensor(1.6632, grad_fn=<NllLossBackward>)\n",
      "tensor(1.7111, grad_fn=<NllLossBackward>)\n",
      "tensor(1.5510, grad_fn=<NllLossBackward>)\n",
      "tensor(1.6869, grad_fn=<NllLossBackward>)\n",
      "tensor(1.6299, grad_fn=<NllLossBackward>)\n",
      "tensor(1.6400, grad_fn=<NllLossBackward>)\n",
      "tensor(1.6344, grad_fn=<NllLossBackward>)\n",
      "tensor(1.6546, grad_fn=<NllLossBackward>)\n",
      "tensor(1.6134, grad_fn=<NllLossBackward>)\n",
      "tensor(1.6153, grad_fn=<NllLossBackward>)\n",
      "tensor(1.6299, grad_fn=<NllLossBackward>)\n",
      "tensor(1.6352, grad_fn=<NllLossBackward>)\n",
      "tensor(1.6075, grad_fn=<NllLossBackward>)\n",
      "tensor(1.6466, grad_fn=<NllLossBackward>)\n",
      "tensor(1.5801, grad_fn=<NllLossBackward>)\n",
      "tensor(1.6215, grad_fn=<NllLossBackward>)\n",
      "tensor(1.6215, grad_fn=<NllLossBackward>)\n"
     ]
    }
   ],
   "source": [
    "BATCH_SIZE = 20\n",
    "EPOCHS = 1\n",
    "\n",
    "for epoch in range(EPOCHS):\n",
    "    for i in range(0,len(train_X),BATCH_SIZE):\n",
    "        batch_X = train_X[i:i+BATCH_SIZE].view(-1,3,115,115)\n",
    "        batch_y = train_y[i:i+BATCH_SIZE]\n",
    "        \n",
    "        # zero the parameter gradients\n",
    "        optimizer.zero_grad()\n",
    "\n",
    "        # forward + backward + optimize\n",
    "        outputs = net(batch_X)\n",
    "        loss = criterion(outputs, torch.max(batch_y,1)[1])\n",
    "        loss.backward()\n",
    "        optimizer.step()\n",
    "        print(loss)\n",
    "\n",
    "print(loss)"
   ]
  },
  {
   "cell_type": "markdown",
   "metadata": {},
   "source": [
    "### Save Model"
   ]
  },
  {
   "cell_type": "code",
   "execution_count": 20,
   "metadata": {},
   "outputs": [],
   "source": [
    "PATH = './flowers_net.pth'\n",
    "torch.save(net.state_dict(), PATH)"
   ]
  },
  {
   "cell_type": "markdown",
   "metadata": {},
   "source": [
    "### Test Model\n",
    "1. Get real class from raw data.\n",
    "2. Get predicted class from output.\n",
    "3. Compare and Count.\n",
    "4. Print Accuracy."
   ]
  },
  {
   "cell_type": "code",
   "execution_count": 19,
   "metadata": {},
   "outputs": [
    {
     "name": "stderr",
     "output_type": "stream",
     "text": [
      "100%|███████████████████████████████████████████████████████████████████████████████| 400/400 [00:02<00:00, 136.23it/s]"
     ]
    },
    {
     "name": "stdout",
     "output_type": "stream",
     "text": [
      "Accuracy:  0.253\n"
     ]
    },
    {
     "name": "stderr",
     "output_type": "stream",
     "text": [
      "\n"
     ]
    }
   ],
   "source": [
    "correct = 0\n",
    "total = 0\n",
    "\n",
    "with torch.no_grad():\n",
    "    for i in tqdm(range(len(test_X[:400]))):\n",
    "        real_class = torch.argmax(test_y[i])\n",
    "        net_out = net(test_X[i].view(-1,3,115,115))[0]\n",
    "        predicted_class = torch.argmax(net_out)\n",
    "        #print(\"pc: \",predicted_class)\n",
    "        if predicted_class == real_class:\n",
    "            correct += 1\n",
    "        total += 1\n",
    "print(\"Accuracy: \", round(correct/total,3))"
   ]
  },
  {
   "cell_type": "markdown",
   "metadata": {},
   "source": [
    "### Result Analysis\n",
    "\n",
    "The accuracy for the first try is 0.253.<br>\n",
    "This is super weird.The Net predicts all images to be tulip.How did this happen? Overfitting? Bad data"
   ]
  }
 ],
 "metadata": {
  "kernelspec": {
   "display_name": "Python 3",
   "language": "python",
   "name": "python3"
  },
  "language_info": {
   "codemirror_mode": {
    "name": "ipython",
    "version": 3
   },
   "file_extension": ".py",
   "mimetype": "text/x-python",
   "name": "python",
   "nbconvert_exporter": "python",
   "pygments_lexer": "ipython3",
   "version": "3.7.7"
  }
 },
 "nbformat": 4,
 "nbformat_minor": 4
}
