{
  "nbformat": 4,
  "nbformat_minor": 0,
  "metadata": {
    "colab": {
      "name": "pytorch9.ipynb",
      "provenance": [],
      "collapsed_sections": [],
      "authorship_tag": "ABX9TyMJFSHzSR8L4N/AbjoboiyS",
      "include_colab_link": true
    },
    "kernelspec": {
      "name": "python3",
      "display_name": "Python 3"
    },
    "accelerator": "GPU"
  },
  "cells": [
    {
      "cell_type": "markdown",
      "metadata": {
        "id": "view-in-github",
        "colab_type": "text"
      },
      "source": [
        "<a href=\"https://colab.research.google.com/github/Biantian/MscProject/blob/master/CNN/pytorch9.ipynb\" target=\"_parent\"><img src=\"https://colab.research.google.com/assets/colab-badge.svg\" alt=\"Open In Colab\"/></a>"
      ]
    },
    {
      "cell_type": "code",
      "metadata": {
        "id": "v2XUq6ujZbYA",
        "colab_type": "code",
        "colab": {
          "base_uri": "https://localhost:8080/",
          "height": 34
        },
        "outputId": "e1e81024-f35b-45c9-e28b-dc00ee572ae8"
      },
      "source": [
        "from google.colab import drive\n",
        "drive.mount('/content/drive/')"
      ],
      "execution_count": 26,
      "outputs": [
        {
          "output_type": "stream",
          "text": [
            "Drive already mounted at /content/drive/; to attempt to forcibly remount, call drive.mount(\"/content/drive/\", force_remount=True).\n"
          ],
          "name": "stdout"
        }
      ]
    },
    {
      "cell_type": "code",
      "metadata": {
        "id": "dZdngK6UZo5Q",
        "colab_type": "code",
        "colab": {}
      },
      "source": [
        "import numpy as np\n",
        "import matplotlib.pyplot as plt\n",
        "import torchvision\n",
        "import torch\n",
        "import torch.nn as nn \n",
        "import torch.nn.functional as F\n",
        "from torch.utils.data import DataLoader\n",
        "from torchvision import datasets, transforms, models\n",
        "import cv2\n",
        "import os"
      ],
      "execution_count": 27,
      "outputs": []
    },
    {
      "cell_type": "code",
      "metadata": {
        "id": "VoKkAat7vhCm",
        "colab_type": "code",
        "colab": {
          "base_uri": "https://localhost:8080/",
          "height": 34
        },
        "outputId": "e88b88ec-cf5f-41bc-e473-68834492f5b3"
      },
      "source": [
        "path='/content/drive/My Drive/Colab Notebooks/Data/flowers/flowers/'\n",
        "\n",
        "img_names = []\n",
        "for folder,_,filenames in os.walk(path):\n",
        "    for img in filenames:\n",
        "        img_names.append(folder+'/'+img)\n",
        "print(\"images len:\",len(img_names))\n"
      ],
      "execution_count": 28,
      "outputs": [
        {
          "output_type": "stream",
          "text": [
            "images len: 4326\n"
          ],
          "name": "stdout"
        }
      ]
    },
    {
      "cell_type": "markdown",
      "metadata": {
        "id": "IfkLECQTvwAd",
        "colab_type": "text"
      },
      "source": [
        "## Calculate mean and variance for Normalization\n",
        "\n"
      ]
    },
    {
      "cell_type": "code",
      "metadata": {
        "id": "Rp2vjUULvvaO",
        "colab_type": "code",
        "colab": {
          "base_uri": "https://localhost:8080/",
          "height": 121
        },
        "outputId": "6584ae45-a8fc-43fa-970e-4dc245c98bbb"
      },
      "source": [
        "root='/content/drive/My Drive/Colab Notebooks/Data/flowers/'\n",
        "\n",
        "transform_norm = transforms.Compose([\n",
        "  transforms.Resize(224),\n",
        "  transforms.ToTensor()\n",
        "])\n",
        "\n",
        "dataset_ = datasets.ImageFolder(os.path.join(root,'flowers'), transform=transform_norm)\n",
        "\n",
        "means = []\n",
        "stds = []\n",
        "\n",
        "## Subset ##\n",
        "indices = list(range(0,len(dataset_),10))\n",
        "dataset_sub = torch.utils.data.Subset(dataset_,indices)\n",
        "\n",
        "\n",
        "for img in dataset_sub:\n",
        "  for channel in img[0]:\n",
        "    means.append(torch.mean(channel))\n",
        "    stds.append(torch.std(channel))\n",
        "\n",
        "means = torch.tensor(means).view(-1,3,1)\n",
        "stds = torch.tensor(stds).view(-1,3,1)\n",
        "\n",
        "mean = means.mean(0)\n",
        "std = stds.mean(0)\n",
        "\n",
        "print(mean)\n",
        "print(std)"
      ],
      "execution_count": 29,
      "outputs": [
        {
          "output_type": "stream",
          "text": [
            "tensor([[0.4522],\n",
            "        [0.4134],\n",
            "        [0.2943]])\n",
            "tensor([[0.2480],\n",
            "        [0.2183],\n",
            "        [0.2212]])\n"
          ],
          "name": "stdout"
        }
      ]
    },
    {
      "cell_type": "markdown",
      "metadata": {
        "id": "lv6ncTfUwca2",
        "colab_type": "text"
      },
      "source": [
        "## Data Augmentation\n"
      ]
    },
    {
      "cell_type": "code",
      "metadata": {
        "id": "mkFBr6GEvrVh",
        "colab_type": "code",
        "colab": {}
      },
      "source": [
        "transform = {\n",
        "    \"train\": transforms.Compose([\n",
        "        transforms.RandomRotation(10),\n",
        "        transforms.RandomHorizontalFlip(),\n",
        "        transforms.ColorJitter(brightness=0.5),\n",
        "        transforms.Resize(224),\n",
        "        transforms.CenterCrop(224),\n",
        "        transforms.ToTensor(),\n",
        "        transforms.Normalize(mean =[0.452,0.413,0.294], std =[0.248,0.218,0.221])\n",
        "    ]),\n",
        "    \"Test\": transforms.Compose({\n",
        "        transforms.Resize(224),\n",
        "        transforms.CenterCrop(224),\n",
        "        transforms.ToTensor(),\n",
        "        transforms.Normalize(mean =[0.452,0.413,0.294], std =[0.248,0.218,0.221])\n",
        "    })\n",
        "}"
      ],
      "execution_count": 30,
      "outputs": []
    },
    {
      "cell_type": "markdown",
      "metadata": {
        "id": "Bop5O1_3DlEV",
        "colab_type": "text"
      },
      "source": [
        "## Load data"
      ]
    },
    {
      "cell_type": "code",
      "metadata": {
        "id": "XHvA9R1FDZGH",
        "colab_type": "code",
        "colab": {
          "base_uri": "https://localhost:8080/",
          "height": 243
        },
        "outputId": "5bb0da29-b658-4b24-9f2a-83c60a901607"
      },
      "source": [
        "root='/content/drive/My Drive/Colab Notebooks/Data/flowers/'\n",
        "\n",
        "full_dataset = datasets.ImageFolder(os.path.join(root,'flowers'),transform=transform[\"train\"])\n",
        "print('full dataset:',full_dataset)"
      ],
      "execution_count": 31,
      "outputs": [
        {
          "output_type": "stream",
          "text": [
            "full dataset: Dataset ImageFolder\n",
            "    Number of datapoints: 4323\n",
            "    Root location: /content/drive/My Drive/Colab Notebooks/Data/flowers/flowers\n",
            "    StandardTransform\n",
            "Transform: Compose(\n",
            "               RandomRotation(degrees=(-10, 10), resample=False, expand=False)\n",
            "               RandomHorizontalFlip(p=0.5)\n",
            "               ColorJitter(brightness=[0.5, 1.5], contrast=None, saturation=None, hue=None)\n",
            "               Resize(size=224, interpolation=PIL.Image.BILINEAR)\n",
            "               CenterCrop(size=(224, 224))\n",
            "               ToTensor()\n",
            "               Normalize(mean=[0.452, 0.413, 0.294], std=[0.248, 0.218, 0.221])\n",
            "           )\n"
          ],
          "name": "stdout"
        }
      ]
    },
    {
      "cell_type": "code",
      "metadata": {
        "id": "ibapjQpFDwWT",
        "colab_type": "code",
        "colab": {
          "base_uri": "https://localhost:8080/",
          "height": 51
        },
        "outputId": "23b810e3-94e8-4684-d37f-80e92b93e074"
      },
      "source": [
        "train_size = int(0.8 * len(full_dataset))\n",
        "test_size = len(full_dataset) - train_size\n",
        "\n",
        "print('train size:',train_size)\n",
        "print('test size:',test_size)\n",
        "train_data, test_data = torch.utils.data.random_split(full_dataset, [train_size, test_size])"
      ],
      "execution_count": 32,
      "outputs": [
        {
          "output_type": "stream",
          "text": [
            "train size: 3458\n",
            "test size: 865\n"
          ],
          "name": "stdout"
        }
      ]
    },
    {
      "cell_type": "code",
      "metadata": {
        "id": "upMeZQY8EWaC",
        "colab_type": "code",
        "colab": {
          "base_uri": "https://localhost:8080/",
          "height": 34
        },
        "outputId": "81daba83-c223-4604-c98d-2327180f949c"
      },
      "source": [
        "train_btch_size =32\n",
        "test_btch_size = 16\n",
        "\n",
        "train_loader = DataLoader(train_data,batch_size=train_btch_size, shuffle = True,num_workers = 8)\n",
        "test_loader =  DataLoader(test_data,batch_size =test_btch_size ,shuffle = False,num_workers = 8)\n",
        "\n",
        "class_names = full_dataset.classes\n",
        "print(class_names)"
      ],
      "execution_count": 33,
      "outputs": [
        {
          "output_type": "stream",
          "text": [
            "['daisy', 'dandelion', 'rose', 'sunflower', 'tulip']\n"
          ],
          "name": "stdout"
        }
      ]
    },
    {
      "cell_type": "markdown",
      "metadata": {
        "id": "24A5ZRKKXsJD",
        "colab_type": "text"
      },
      "source": [
        "## CNN Model: Pretrained AlexNet"
      ]
    },
    {
      "cell_type": "code",
      "metadata": {
        "id": "QjhxLbL-EaEz",
        "colab_type": "code",
        "colab": {
          "base_uri": "https://localhost:8080/",
          "height": 486
        },
        "outputId": "1faede27-30ec-4ad7-86e0-337c8c9e3caf"
      },
      "source": [
        "Alex_model = models.alexnet(pretrained=True)\n",
        "\n",
        "## set parameter requires grad ##\n",
        "for param in Alex_model.parameters():\n",
        "  param.requires_grad = False\n",
        "\n",
        "num_ftrs = Alex_model.classifier[6].in_features\n",
        "Alex_model.classifier[6] = nn.Linear(num_ftrs,5) # 5 classes\n",
        "\n",
        "print(Alex_model)"
      ],
      "execution_count": 34,
      "outputs": [
        {
          "output_type": "stream",
          "text": [
            "AlexNet(\n",
            "  (features): Sequential(\n",
            "    (0): Conv2d(3, 64, kernel_size=(11, 11), stride=(4, 4), padding=(2, 2))\n",
            "    (1): ReLU(inplace=True)\n",
            "    (2): MaxPool2d(kernel_size=3, stride=2, padding=0, dilation=1, ceil_mode=False)\n",
            "    (3): Conv2d(64, 192, kernel_size=(5, 5), stride=(1, 1), padding=(2, 2))\n",
            "    (4): ReLU(inplace=True)\n",
            "    (5): MaxPool2d(kernel_size=3, stride=2, padding=0, dilation=1, ceil_mode=False)\n",
            "    (6): Conv2d(192, 384, kernel_size=(3, 3), stride=(1, 1), padding=(1, 1))\n",
            "    (7): ReLU(inplace=True)\n",
            "    (8): Conv2d(384, 256, kernel_size=(3, 3), stride=(1, 1), padding=(1, 1))\n",
            "    (9): ReLU(inplace=True)\n",
            "    (10): Conv2d(256, 256, kernel_size=(3, 3), stride=(1, 1), padding=(1, 1))\n",
            "    (11): ReLU(inplace=True)\n",
            "    (12): MaxPool2d(kernel_size=3, stride=2, padding=0, dilation=1, ceil_mode=False)\n",
            "  )\n",
            "  (avgpool): AdaptiveAvgPool2d(output_size=(6, 6))\n",
            "  (classifier): Sequential(\n",
            "    (0): Dropout(p=0.5, inplace=False)\n",
            "    (1): Linear(in_features=9216, out_features=4096, bias=True)\n",
            "    (2): ReLU(inplace=True)\n",
            "    (3): Dropout(p=0.5, inplace=False)\n",
            "    (4): Linear(in_features=4096, out_features=4096, bias=True)\n",
            "    (5): ReLU(inplace=True)\n",
            "    (6): Linear(in_features=4096, out_features=5, bias=True)\n",
            "  )\n",
            ")\n"
          ],
          "name": "stdout"
        }
      ]
    },
    {
      "cell_type": "markdown",
      "metadata": {
        "id": "mQVz0n5Za0ms",
        "colab_type": "text"
      },
      "source": [
        "## Check GPU"
      ]
    },
    {
      "cell_type": "code",
      "metadata": {
        "id": "0TCKHAFAZuh0",
        "colab_type": "code",
        "colab": {
          "base_uri": "https://localhost:8080/",
          "height": 51
        },
        "outputId": "b6b2d66b-7bfe-4956-e18b-d0f3e774dd95"
      },
      "source": [
        "# We are going to use pytorch GPU therefore we need to convert datatypes into .cuda() format\n",
        "from torch.autograd import Variable\n",
        "\n",
        "use_gpu = torch.cuda.is_available()\n",
        "if use_gpu:\n",
        "  print(torch.cuda.device_count())\n",
        "  print(torch.cuda.get_device_name(0))\n",
        "else:\n",
        "  print(\"GPU not avaliable\")"
      ],
      "execution_count": 35,
      "outputs": [
        {
          "output_type": "stream",
          "text": [
            "1\n",
            "Tesla P100-PCIE-16GB\n"
          ],
          "name": "stdout"
        }
      ]
    },
    {
      "cell_type": "code",
      "metadata": {
        "id": "dqehIR_kbBiP",
        "colab_type": "code",
        "colab": {}
      },
      "source": [
        "if use_gpu:\n",
        "    Alex_model.cuda() \n",
        "criterion= nn.CrossEntropyLoss()\n",
        "if use_gpu:\n",
        "     criterion = criterion.cuda()\n",
        "optimizer = torch.optim.Adam(Alex_model.parameters(),lr=0.001)"
      ],
      "execution_count": 36,
      "outputs": []
    },
    {
      "cell_type": "markdown",
      "metadata": {
        "id": "wsUDs7dldPGb",
        "colab_type": "text"
      },
      "source": [
        "## Optimizer\n",
        "Only updates the last layer"
      ]
    },
    {
      "cell_type": "code",
      "metadata": {
        "id": "QQJ0dPJGdluK",
        "colab_type": "code",
        "colab": {
          "base_uri": "https://localhost:8080/",
          "height": 51
        },
        "outputId": "c66f841a-602c-48e8-b3b0-01bfe40a4aa9"
      },
      "source": [
        "params_to_update=[]\n",
        "for name,param in Alex_model.named_parameters():\n",
        "  if param.requires_grad == True:\n",
        "    params_to_update.append(param)\n",
        "    print(\"\\t\",name)\n",
        "\n",
        "# Loss Function\n",
        "if use_gpu:\n",
        "    Alex_model.cuda() \n",
        "criterion= nn.CrossEntropyLoss()\n",
        "if use_gpu:\n",
        "     criterion = criterion.cuda()\n",
        "\n",
        "# Optimizer\n",
        "optimizer = torch.optim.Adam(params_to_update,lr=0.001)# default betas=(0.9,0.999)"
      ],
      "execution_count": 37,
      "outputs": [
        {
          "output_type": "stream",
          "text": [
            "\t classifier.6.weight\n",
            "\t classifier.6.bias\n"
          ],
          "name": "stdout"
        }
      ]
    },
    {
      "cell_type": "markdown",
      "metadata": {
        "id": "Ul3BwI4oha-5",
        "colab_type": "text"
      },
      "source": [
        "## Train and Test"
      ]
    },
    {
      "cell_type": "code",
      "metadata": {
        "id": "iahP64cGhd8q",
        "colab_type": "code",
        "colab": {
          "base_uri": "https://localhost:8080/",
          "height": 399
        },
        "outputId": "d8d27607-fd26-4131-c1ae-3553aef8f969"
      },
      "source": [
        "%%time\n",
        "epochs = 20\n",
        "train_losses =[]\n",
        "test_losses = []\n",
        "train_correct =[]\n",
        "test_correct=[]\n",
        "for epoch in range(epochs):\n",
        "    \n",
        "    trn_corr =0\n",
        "    tst_corr =0\n",
        "    for batch,(X_train,y_train) in enumerate(train_loader):\n",
        "        batch+=1\n",
        "        if torch.cuda.is_available():\n",
        "            X_train = Variable(X_train).cuda()\n",
        "            y_train = Variable(y_train).cuda()\n",
        "        \n",
        "        y_pred = Alex_model(X_train)\n",
        "        loss   = criterion(y_pred,y_train)\n",
        "        predicted =torch.max(y_pred.data,1)[1]\n",
        "        trn_corr+=(predicted == y_train).sum()\n",
        "        \n",
        "        optimizer.zero_grad()\n",
        "        loss.backward()\n",
        "        optimizer.step()\n",
        "        \n",
        "        if batch%100 ==0:\n",
        "            print(f'epoch:{epoch} batch:{batch} loss:{loss.item()} accuracy:{trn_corr.item()*100/(batch*train_btch_size)}')\n",
        "            \n",
        "        \n",
        "    train_losses.append(loss)\n",
        "    train_correct.append(trn_corr.item()*100/(batch*train_btch_size))\n",
        "    \n",
        "    with torch.no_grad():\n",
        "        for X_test,y_test in test_loader:\n",
        "            \n",
        "            if torch.cuda.is_available():\n",
        "                X_test = Variable(X_test).cuda()\n",
        "                y_test = Variable(y_test).cuda()\n",
        "\n",
        "            y_val= Alex_model(X_test)\n",
        "            predicted_test = torch.max(y_val.data,1)[1]\n",
        "            tst_corr +=(predicted_test==y_test).sum()\n",
        "\n",
        "        loss =criterion(y_val,y_test)\n",
        "        test_losses.append(loss)\n",
        "        test_correct.append(tst_corr.item()*100/(batch*test_btch_size))  \n",
        "    "
      ],
      "execution_count": 38,
      "outputs": [
        {
          "output_type": "stream",
          "text": [
            "epoch:0 batch:100 loss:0.5761833190917969 accuracy:77.46875\n",
            "epoch:1 batch:100 loss:0.14259807765483856 accuracy:85.46875\n",
            "epoch:2 batch:100 loss:0.3062686324119568 accuracy:88.5\n",
            "epoch:3 batch:100 loss:0.4013833701610565 accuracy:89.375\n",
            "epoch:4 batch:100 loss:0.24187445640563965 accuracy:89.71875\n",
            "epoch:5 batch:100 loss:0.4056144058704376 accuracy:90.46875\n",
            "epoch:6 batch:100 loss:0.14564871788024902 accuracy:92.03125\n",
            "epoch:7 batch:100 loss:0.125855952501297 accuracy:91.625\n",
            "epoch:8 batch:100 loss:0.20434853434562683 accuracy:92.3125\n",
            "epoch:9 batch:100 loss:0.20984649658203125 accuracy:92.15625\n",
            "epoch:10 batch:100 loss:0.14999371767044067 accuracy:92.03125\n",
            "epoch:11 batch:100 loss:0.5335198640823364 accuracy:91.53125\n",
            "epoch:12 batch:100 loss:0.17074470221996307 accuracy:93.0\n",
            "epoch:13 batch:100 loss:0.23377849161624908 accuracy:93.28125\n",
            "epoch:14 batch:100 loss:0.1290118396282196 accuracy:92.375\n",
            "epoch:15 batch:100 loss:0.27713561058044434 accuracy:93.5625\n",
            "epoch:16 batch:100 loss:0.2058742195367813 accuracy:93.3125\n",
            "epoch:17 batch:100 loss:0.13362902402877808 accuracy:93.78125\n",
            "epoch:18 batch:100 loss:0.12491358071565628 accuracy:93.125\n",
            "epoch:19 batch:100 loss:0.1431407928466797 accuracy:92.6875\n",
            "CPU times: user 24.5 s, sys: 17.3 s, total: 41.9 s\n",
            "Wall time: 10min 47s\n"
          ],
          "name": "stdout"
        }
      ]
    },
    {
      "cell_type": "markdown",
      "metadata": {
        "id": "jiWaNmx4hqM_",
        "colab_type": "text"
      },
      "source": [
        "## Visualize Result"
      ]
    },
    {
      "cell_type": "code",
      "metadata": {
        "id": "-5fG1PGihpF6",
        "colab_type": "code",
        "colab": {
          "base_uri": "https://localhost:8080/",
          "height": 994
        },
        "outputId": "4fdf3d9b-9ba5-41d7-bed7-5073f9c6f09d"
      },
      "source": [
        "#  Plot train loss and test loss \n",
        "plt.figure(figsize=(12,8))\n",
        "plt.xlabel(\"Epoch\")\n",
        "plt.ylabel(\"Loss\")\n",
        "plt.plot(train_losses,label = 'train loss')\n",
        "plt.plot(test_losses,label  = 'test loss')\n",
        "plt.legend()\n",
        "\n",
        "#  Plot train and test accuracy\n",
        "plt.figure(figsize=(12,8))\n",
        "plt.xlabel(\"Epoch\")\n",
        "plt.ylabel(\"Accuracy(%)\")\n",
        "plt.plot(train_correct,label = 'train correct')\n",
        "plt.plot(test_correct, label = 'test correct')\n",
        "plt.legend()"
      ],
      "execution_count": 39,
      "outputs": [
        {
          "output_type": "execute_result",
          "data": {
            "text/plain": [
              "<matplotlib.legend.Legend at 0x7f14740c94e0>"
            ]
          },
          "metadata": {
            "tags": []
          },
          "execution_count": 39
        },
        {
          "output_type": "display_data",
          "data": {
            "image/png": "[encoded data removed]",
            "text/plain": [
              "<Figure size 864x576 with 1 Axes>"
            ]
          },
          "metadata": {
            "tags": [],
            "needs_background": "light"
          }
        },
        {
          "output_type": "display_data",
          "data": {
            "image/png": "[encoded data removed]",
            "text/plain": [
              "<Figure size 864x576 with 1 Axes>"
            ]
          },
          "metadata": {
            "tags": [],
            "needs_background": "light"
          }
        }
      ]
    }
  ]
}