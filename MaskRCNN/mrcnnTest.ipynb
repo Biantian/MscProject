{
 "cells": [
  {
   "cell_type": "code",
   "execution_count": 2,
   "metadata": {},
   "outputs": [],
   "source": [
    "from pycocotools.coco import COCO\n",
    "import os\n",
    "import torch\n",
    "import torchvision\n",
    "root = 'E:/Resource/Dataset/COCO/SubCOCO'\n",
    "annDir = os.path.join(root, 'annotations/instances_{}.json')\n",
    "# coco = COCO(annDir.format('train2017'))"
   ]
  },
  {
   "cell_type": "markdown",
   "metadata": {},
   "source": [
    "## Creating Datasets"
   ]
  },
  {
   "cell_type": "code",
   "execution_count": 5,
   "metadata": {},
   "outputs": [
    {
     "name": "stdout",
     "output_type": "stream",
     "text": [
      "loading annotations into memory...\n",
      "Done (t=2.14s)\n",
      "creating index...\n",
      "index created!\n",
      "loading annotations into memory...\n",
      "Done (t=0.30s)\n",
      "creating index...\n",
      "index created!\n",
      "Amount of train images: 19759\n",
      "Amount of validation images: 870\n",
      "(<PIL.Image.Image image mode=RGB size=480x640 at 0x115751EAF48>, [{'segmentation': [[52.36, 387.77, 100.68, 391.48, 123.81, 395.2, 124.23, 452.61, 130.01, 456.74, 128.77, 502.58, 127.94, 522.11, 52.36, 512.62], [145.7, 402.63, 179.16, 426.59, 180.81, 484.82, 174.61, 489.37, 171.31, 504.92, 173.79, 507.81, 175.03, 540.85, 169.24, 544.15, 157.27, 545.39, 146.53, 540.43, 142.4, 537.96, 138.27, 534.24, 137.03, 532.17, 137.03, 515.65, 137.03, 457.83, 140.33, 454.94, 141.99, 402.9], [206.42, 432.64, 228.72, 435.94, 213.85, 490.05, 208.48, 490.46, 210.13, 483.44, 208.07, 483.44]], 'area': 15185.179800000002, 'iscrowd': 0, 'image_id': 64, 'bbox': [52.36, 387.77, 176.36, 157.62], 'category_id': 3, 'id': 350246}, {'segmentation': [[127.76, 396.98, 98.34, 389.46, 52.64, 386.96, 52.64, 353.78, 116.49, 358.16, 123.38, 370.68, 126.51, 377.57, 127.76, 393.85], [174.09, 413.25, 162.82, 412.63, 145.29, 401.98, 144.04, 399.48, 141.53, 378.2, 177.22, 380.7, 175.34, 412.0]], 'area': 3406.1824499999993, 'iscrowd': 0, 'image_id': 64, 'bbox': [52.64, 353.78, 124.58, 59.47], 'category_id': 8, 'id': 1367656}])\n"
     ]
    }
   ],
   "source": [
    "coco_train = torchvision.datasets.CocoDetection(os.path.join(root, 'train2017'),\n",
    "                                         annDir.format('train2017'))\n",
    "coco_val = torchvision.datasets.CocoDetection(os.path.join(root, 'val2017'),\n",
    "                                         annDir.format('val2017'))\n",
    "print('Amount of train images:', len(coco_train))\n",
    "print('Amount of validation images:', len(coco_val))\n",
    "print(coco_train[0])"
   ]
  },
  {
   "cell_type": "markdown",
   "metadata": {},
   "source": [
    "## Defining Model"
   ]
  },
  {
   "cell_type": "code",
   "execution_count": null,
   "metadata": {},
   "outputs": [],
   "source": [
    "from torchvision.models.detection.faster_rcnn import FastRCNNPredictor\n",
    "from torchvision.models.detection.mask_rcnn import MaskRCNNPredictor\n",
    "\n",
    "def get_instance_segmentation_model(num_classes):\n",
    "    model = torchvision.models.detection.maskrcnn_resnet50_fpn(pretrained=True)\n",
    "    in_features = model.roi_heads.box_predictor.cls_score.in_features\n",
    "    model.roi_heads.box_predictor = FastRCNNPredictor(in_features, num_classes)\n",
    "    \n",
    "    in_features_mask = model.roi_heads.mask_predictor.conv5_mask.in_channels\n",
    "    hidden_layer = 256\n",
    "    model.roi_heads.mask_predictor = MaskRCNNPredictor(in_features_mask,\n",
    "                                                      hidden_layer,\n",
    "                                                      num_classes)\n",
    "    return model"
   ]
  }
 ],
 "metadata": {
  "kernelspec": {
   "display_name": "Python 3",
   "language": "python",
   "name": "python3"
  },
  "language_info": {
   "codemirror_mode": {
    "name": "ipython",
    "version": 3
   },
   "file_extension": ".py",
   "mimetype": "text/x-python",
   "name": "python",
   "nbconvert_exporter": "python",
   "pygments_lexer": "ipython3",
   "version": "3.7.7"
  }
 },
 "nbformat": 4,
 "nbformat_minor": 4
}
