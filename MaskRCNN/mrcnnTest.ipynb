{
 "cells": [
  {
   "cell_type": "code",
   "execution_count": null,
   "metadata": {},
   "outputs": [],
   "source": [
    "import os\n",
    "import torch\n",
    "import torchvision\n",
    "from torchvision import transforms\n",
    "from engine import train_one_epoch, evaluate\n",
    "import utils\n",
    "from coco import CocoSubset\n",
    "\n",
    "root = 'E:/Resource/Dataset/COCO/SubCOCO'\n",
    "annDir = os.path.join(root, 'annotations/instances_{}.json')\n",
    "# coco = COCO(annDir.format('train2017'))"
   ]
  },
  {
   "cell_type": "markdown",
   "metadata": {},
   "source": [
    "## Creating Datasets"
   ]
  },
  {
   "cell_type": "code",
   "execution_count": null,
   "metadata": {},
   "outputs": [],
   "source": [
    "img_transform = {\n",
    "    'train': transforms.Compose([\n",
    "        transforms.ToTensor(),\n",
    "        transforms.RandomHorizontalFlip(0.5)\n",
    "    ]),\n",
    "    'val':transforms.Compose([\n",
    "        transforms.ToTensor()\n",
    "    ])}\n",
    "\n",
    "target_transform = {\n",
    "    'train': transforms.Compose([\n",
    "        transforms.RandomHorizontalFlip(0.5)\n",
    "    ]),\n",
    "    'val':transforms.Compose([])}\n",
    "\n",
    "coco_train = CocoSubset(os.path.join(root, 'train2017'),\n",
    "                        annDir.format('train2017'),\n",
    "                        img_transform=img_transform['train'],\n",
    "                        target_transform=target_transform['train'])\n",
    "\n",
    "coco_val = CocoSubset(os.path.join(root, 'val2017'),\n",
    "                      annDir.format('val2017'),\n",
    "                      img_transform=img_transform['val'],\n",
    "                      target_transform=target_transform['val'])\n",
    "print('Amount of train images:')\n",
    "print(coco_train)\n",
    "print('Amount of validation images:')\n",
    "print(coco_val)"
   ]
  },
  {
   "cell_type": "code",
   "execution_count": null,
   "metadata": {
    "scrolled": true
   },
   "outputs": [],
   "source": [
    "print(len(coco_train))\n",
    "print(type(coco_train))\n",
    "print(coco_train[0])"
   ]
  },
  {
   "cell_type": "code",
   "execution_count": null,
   "metadata": {},
   "outputs": [],
   "source": [
    "data_loader_train = torch.utils.data.DataLoader(coco_train,\n",
    "                                         batch_size=16,\n",
    "                                         shuffle=True,\n",
    "                                         num_workers=1,\n",
    "                                         collate_fn=utils.collate_fn)\n",
    "data_loader_val = torch.utils.data.DataLoader(coco_val,\n",
    "                                              batch_size=8,\n",
    "                                              shuffle=False,\n",
    "                                              num_workers=1,\n",
    "                                              collate_fn=utils.collate_fn)"
   ]
  },
  {
   "cell_type": "code",
   "execution_count": null,
   "metadata": {},
   "outputs": [],
   "source": [
    "data_loader_train"
   ]
  },
  {
   "cell_type": "markdown",
   "metadata": {},
   "source": [
    "## Defining Model"
   ]
  },
  {
   "cell_type": "code",
   "execution_count": null,
   "metadata": {},
   "outputs": [],
   "source": [
    "from torchvision.models.detection.faster_rcnn import FastRCNNPredictor\n",
    "from torchvision.models.detection.mask_rcnn import MaskRCNNPredictor\n",
    "torch.manual_seed(1)\n",
    "\n",
    "def get_instance_segmentation_model(num_classes):\n",
    "    model = torchvision.models.detection.maskrcnn_resnet50_fpn(pretrained=True)\n",
    "    in_features = model.roi_heads.box_predictor.cls_score.in_features\n",
    "    model.roi_heads.box_predictor = FastRCNNPredictor(in_features, num_classes)\n",
    "    \n",
    "    in_features_mask = model.roi_heads.mask_predictor.conv5_mask.in_channels\n",
    "    hidden_layer = 256\n",
    "    model.roi_heads.mask_predictor = MaskRCNNPredictor(in_features_mask,\n",
    "                                                      hidden_layer,\n",
    "                                                      num_classes)\n",
    "    return model"
   ]
  },
  {
   "cell_type": "code",
   "execution_count": null,
   "metadata": {},
   "outputs": [],
   "source": [
    "device = torch.device('cuda') if torch.cuda.is_available() else torch.device('cpu')\n",
    "\n",
    "num_classes = 5\n",
    "\n",
    "model = get_instance_segmentation_model(num_classes)\n",
    "model.to(device)\n",
    "\n",
    "params = [p for p in model.parameters() if p.requires_grad]\n",
    "optimizer = torch.optim.SGD(params, \n",
    "                            lr=0.005,\n",
    "                            momentum=0.9,\n",
    "                            weight_decay=0.0005)\n",
    "lr_scheduler = torch.optim.lr_scheduler.StepLR(optimizer,\n",
    "                                              step_size=3,\n",
    "                                              gamma=0.1)"
   ]
  },
  {
   "cell_type": "code",
   "execution_count": null,
   "metadata": {},
   "outputs": [],
   "source": [
    "num_epochs = 1\n",
    "\n",
    "for epoch in range(num_epochs):\n",
    "    train_one_epoch(model, optimizer, data_loader_train, device, epoch, print_freq=10)\n",
    "    lr_scheduler.step()\n",
    "    evaluate(model, data_loader_val, device=device)"
   ]
  },
  {
   "cell_type": "code",
   "execution_count": null,
   "metadata": {},
   "outputs": [],
   "source": [
    "for i in range(2):\n",
    "    print(i)"
   ]
  },
  {
   "cell_type": "code",
   "execution_count": null,
   "metadata": {},
   "outputs": [],
   "source": []
  }
 ],
 "metadata": {
  "kernelspec": {
   "display_name": "Python 3",
   "language": "python",
   "name": "python3"
  },
  "language_info": {
   "codemirror_mode": {
    "name": "ipython",
    "version": 3
   },
   "file_extension": ".py",
   "mimetype": "text/x-python",
   "name": "python",
   "nbconvert_exporter": "python",
   "pygments_lexer": "ipython3",
   "version": "3.7.7"
  }
 },
 "nbformat": 4,
 "nbformat_minor": 4
}
