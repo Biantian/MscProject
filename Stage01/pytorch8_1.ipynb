{
  "nbformat": 4,
  "nbformat_minor": 0,
  "metadata": {
    "colab": {
      "name": "pytorch8_1.ipynb",
      "provenance": [],
      "collapsed_sections": []
    },
    "kernelspec": {
      "name": "python3",
      "display_name": "Python 3"
    },
    "accelerator": "GPU"
  },
  "cells": [
    {
      "cell_type": "code",
      "metadata": {
        "id": "tw41BqBTHip4",
        "colab_type": "code",
        "colab": {
          "base_uri": "https://localhost:8080/",
          "height": 35
        },
        "outputId": "47f29a1e-06b4-4620-d8b6-7a6c444fce65"
      },
      "source": [
        "from google.colab import drive\n",
        "drive.mount('/content/drive/')"
      ],
      "execution_count": 26,
      "outputs": [
        {
          "output_type": "stream",
          "text": [
            "Drive already mounted at /content/drive/; to attempt to forcibly remount, call drive.mount(\"/content/drive/\", force_remount=True).\n"
          ],
          "name": "stdout"
        }
      ]
    },
    {
      "cell_type": "code",
      "metadata": {
        "id": "Zj_8RxN6e1QS",
        "colab_type": "code",
        "colab": {
          "base_uri": "https://localhost:8080/",
          "height": 35
        },
        "outputId": "909063b3-27b2-4dc2-b551-bbaf223a5111"
      },
      "source": [
        "# import numpy as np\n",
        "import random\n",
        "import matplotlib.pyplot as plt\n",
        "import torchvision\n",
        "import torch\n",
        "import torch.nn as nn \n",
        "import torch.nn.functional as F\n",
        "from torch.utils.data import DataLoader\n",
        "from torchvision import datasets, transforms, models\n",
        "from torch.autograd import Variable\n",
        "import os\n",
        "# np.random.seed(3)\n",
        "random.seed(3)\n",
        "torch.manual_seed(3)"
      ],
      "execution_count": 27,
      "outputs": [
        {
          "output_type": "execute_result",
          "data": {
            "text/plain": [
              "<torch._C.Generator at 0x7fae29db6150>"
            ]
          },
          "metadata": {
            "tags": []
          },
          "execution_count": 27
        }
      ]
    },
    {
      "cell_type": "markdown",
      "metadata": {
        "id": "1V6LHV4wLpMz",
        "colab_type": "text"
      },
      "source": [
        "# Data Augmentation\n",
        "\n"
      ]
    },
    {
      "cell_type": "code",
      "metadata": {
        "id": "7G6yeJXBfUVA",
        "colab_type": "code",
        "colab": {}
      },
      "source": [
        "transform = {\n",
        "    \"train\": transforms.Compose([\n",
        "        transforms.RandomRotation(10),\n",
        "        transforms.RandomHorizontalFlip(),\n",
        "        transforms.ColorJitter(brightness=0.5),\n",
        "        transforms.Resize(224),\n",
        "        transforms.CenterCrop(224),\n",
        "        transforms.ToTensor(),\n",
        "        transforms.Normalize(mean =[0.485,0.456,0.406], std = [0.229,0.224,0.225])\n",
        "    ]),\n",
        "    \"Test\": transforms.Compose({\n",
        "        transforms.Resize(224),\n",
        "        transforms.CenterCrop(224),\n",
        "        transforms.ToTensor(),\n",
        "        transforms.Normalize(mean =[0.485,0.456,0.406], std = [0.229,0.224,0.225])\n",
        "    })\n",
        "}"
      ],
      "execution_count": 28,
      "outputs": []
    },
    {
      "cell_type": "markdown",
      "metadata": {
        "id": "70iQP7S1BXMn",
        "colab_type": "text"
      },
      "source": [
        "## Load Image Folder"
      ]
    },
    {
      "cell_type": "code",
      "metadata": {
        "id": "4qO4DyWxfkzy",
        "colab_type": "code",
        "colab": {
          "base_uri": "https://localhost:8080/",
          "height": 266
        },
        "outputId": "e66079bf-3451-4dd6-a943-2db2fc1095cb"
      },
      "source": [
        "root='/content/drive/My Drive/Colab Notebooks/Data/flowers/'\n",
        "\n",
        "full_dataset = datasets.ImageFolder(os.path.join(root,'flowers'),transform=transform[\"train\"])\n",
        "class_names = full_dataset.classes\n",
        "print('full dataset:',full_dataset)\n",
        "print('Classes:',class_names)"
      ],
      "execution_count": 29,
      "outputs": [
        {
          "output_type": "stream",
          "text": [
            "full dataset: Dataset ImageFolder\n",
            "    Number of datapoints: 4323\n",
            "    Root location: /content/drive/My Drive/Colab Notebooks/Data/flowers/flowers\n",
            "    StandardTransform\n",
            "Transform: Compose(\n",
            "               RandomRotation(degrees=(-10, 10), resample=False, expand=False)\n",
            "               RandomHorizontalFlip(p=0.5)\n",
            "               ColorJitter(brightness=[0.5, 1.5], contrast=None, saturation=None, hue=None)\n",
            "               Resize(size=224, interpolation=PIL.Image.BILINEAR)\n",
            "               CenterCrop(size=(224, 224))\n",
            "               ToTensor()\n",
            "               Normalize(mean=[0.485, 0.456, 0.406], std=[0.229, 0.224, 0.225])\n",
            "           )\n",
            "Classes: ['daisy', 'dandelion', 'rose', 'sunflower', 'tulip']\n"
          ],
          "name": "stdout"
        }
      ]
    },
    {
      "cell_type": "markdown",
      "metadata": {
        "id": "PT66_QFENvhp",
        "colab_type": "text"
      },
      "source": [
        "# Split train val and test set"
      ]
    },
    {
      "cell_type": "code",
      "metadata": {
        "id": "aGWZbqVAMGei",
        "colab_type": "code",
        "colab": {
          "base_uri": "https://localhost:8080/",
          "height": 70
        },
        "outputId": "2cd66214-2858-477e-fc63-40459fbe7731"
      },
      "source": [
        "train_size = int(0.7 * len(full_dataset))\n",
        "test_size = int((len(full_dataset) - train_size)/2)\n",
        "val_size = len(full_dataset) - train_size - test_size\n",
        "\n",
        "print('Train set:',train_size)\n",
        "print('Validation set:',val_size)\n",
        "print('Test set:',test_size)\n",
        "train_data, val_data, test_data = torch.utils.data.random_split(\n",
        "    full_dataset, \n",
        "    [train_size, val_size, test_size])"
      ],
      "execution_count": 30,
      "outputs": [
        {
          "output_type": "stream",
          "text": [
            "Train set: 3026\n",
            "Validation set: 649\n",
            "Test set: 648\n"
          ],
          "name": "stdout"
        }
      ]
    },
    {
      "cell_type": "code",
      "metadata": {
        "id": "hMs5Uw1XMYJJ",
        "colab_type": "code",
        "colab": {}
      },
      "source": [
        "train_btch_size = 32\n",
        "val_btch_size = 16\n",
        "test_btch_size = 16\n",
        "\n",
        "train_loader = DataLoader(train_data,batch_size=train_btch_size, shuffle=True, num_workers=8)\n",
        "val_loader = DataLoader(val_data,batch_size=val_btch_size, shuffle=False, num_workers=8)\n",
        "test_loader =  DataLoader(test_data,batch_size =test_btch_size, shuffle=False, num_workers=8)\n"
      ],
      "execution_count": 31,
      "outputs": []
    },
    {
      "cell_type": "markdown",
      "metadata": {
        "id": "FssTyRmTNo0f",
        "colab_type": "text"
      },
      "source": [
        "# CNN"
      ]
    },
    {
      "cell_type": "code",
      "metadata": {
        "id": "KyMwtAdcMknh",
        "colab_type": "code",
        "colab": {}
      },
      "source": [
        "class ConvNet1(nn.Module):\n",
        "    def __init__(self):\n",
        "        super().__init__()\n",
        "        self.conv1 = nn.Conv2d(3,32,3,1)\n",
        "        self.conv2 = nn.Conv2d(32,64,3,1)\n",
        "        self.conv3 = nn.Conv2d(64,128,3,1)\n",
        "        self.fc1  = nn.Linear(128*26*26,16)\n",
        "        self.fc2  = nn.Linear(16,8)\n",
        "        self.fc3  = nn.Linear(8,5)\n",
        "        \n",
        "    def forward(self,X):\n",
        "        X = F.relu(self.conv1(X))\n",
        "        X = F.max_pool2d(X,2,2)\n",
        "        X = F.relu(self.conv2(X))\n",
        "        X = F.max_pool2d(X,2,2)\n",
        "        X = F.relu(self.conv3(X))\n",
        "        X = F.max_pool2d(X,2,2)\n",
        "        \n",
        "        X = X.view(-1,128*26*26)\n",
        "        X = F.relu(self.fc1(X))\n",
        "        X = F.relu(self.fc2(X))\n",
        "        X = self.fc3(X)\n",
        "        return X"
      ],
      "execution_count": 32,
      "outputs": []
    },
    {
      "cell_type": "code",
      "metadata": {
        "id": "Ux2TBk_p_K2T",
        "colab_type": "code",
        "colab": {}
      },
      "source": [
        "class ConvNet2(nn.Module):\n",
        "    def __init__(self):\n",
        "        super().__init__()\n",
        "        self.layer1 = nn.Sequential(\n",
        "            nn.Conv2d(3,32,kernel_size=3,stride=1),\n",
        "            nn.ReLU(),\n",
        "            nn.MaxPool2d(kernel_size=2,stride=2)\n",
        "        )\n",
        "        self.layer2 = nn.Sequential(\n",
        "            nn.Conv2d(32,64,kernel_size=3,stride=1),\n",
        "            nn.ReLU(),\n",
        "            nn.MaxPool2d(kernel_size=2,stride=2)\n",
        "        )\n",
        "        self.layer3 = nn.Sequential(\n",
        "            nn.Conv2d(64,128,kernel_size=3,stride=1),\n",
        "            nn.ReLU(),\n",
        "            nn.MaxPool2d(kernel_size=2,stride=2)\n",
        "        )\n",
        "        self.drop_out = nn.Dropout(p=0.5)\n",
        "        self.fc1   = nn.Linear(128*26*26,1024)\n",
        "        self.fc2   = nn.Linear(1024,5)\n",
        "        \n",
        "    def forward(self,X):\n",
        "        X = self.layer1(X)\n",
        "        X = self.layer2(X)\n",
        "        X = self.layer3(X)\n",
        "        X = X.view(-1,128*26*26)\n",
        "        X = self.drop_out(X)\n",
        "        X = F.relu(self.fc1(X))\n",
        "        X = self.fc2(X)\n",
        "        return X"
      ],
      "execution_count": 33,
      "outputs": []
    },
    {
      "cell_type": "markdown",
      "metadata": {
        "id": "S0iSuTNhNgve",
        "colab_type": "text"
      },
      "source": [
        "# Check GPU"
      ]
    },
    {
      "cell_type": "markdown",
      "metadata": {
        "id": "NfyYisQmOuoe",
        "colab_type": "text"
      },
      "source": [
        "> scheduler stands for learning rate decay.\n"
      ]
    },
    {
      "cell_type": "code",
      "metadata": {
        "id": "pNL8Q9_zNK2m",
        "colab_type": "code",
        "colab": {
          "base_uri": "https://localhost:8080/",
          "height": 212
        },
        "outputId": "d65c7f23-8ab3-4a8b-a45c-24e6676f35ed"
      },
      "source": [
        "# networks: ConvNet1,ConvNet2\n",
        "net = ConvNet1()\n",
        "criterion = nn.CrossEntropyLoss()\n",
        "use_gpu = torch.cuda.is_available()\n",
        "if use_gpu:\n",
        "  net.cuda()\n",
        "  criterion = criterion.cuda()\n",
        "  # get gpu information\n",
        "  device_id = torch.cuda.current_device()\n",
        "  device_num = torch.cuda.device_count()\n",
        "  device_name = torch.cuda.get_device_name(device_id)\n",
        "  print(\"GPU available\")\n",
        "  print(\"Device name:\",device_name)\n",
        "  print(\"Device number:\",device_num)\n",
        "else:\n",
        "  print(\"GPU not avaliable\") \n",
        "\n",
        "# epoch\n",
        "epochs = 10\n",
        "\n",
        "# optimizer\n",
        "optimizer = torch.optim.Adam(net.parameters(),lr=0.001)\n",
        "\n",
        "# scheduler\n",
        "scheduler = torch.optim.lr_scheduler.ExponentialLR(optimizer, gamma = 0.95)\n",
        "print(net)"
      ],
      "execution_count": 34,
      "outputs": [
        {
          "output_type": "stream",
          "text": [
            "GPU available\n",
            "Device name: Tesla T4\n",
            "Device number: 1\n",
            "ConvNet1(\n",
            "  (conv1): Conv2d(3, 32, kernel_size=(3, 3), stride=(1, 1))\n",
            "  (conv2): Conv2d(32, 64, kernel_size=(3, 3), stride=(1, 1))\n",
            "  (conv3): Conv2d(64, 128, kernel_size=(3, 3), stride=(1, 1))\n",
            "  (fc1): Linear(in_features=86528, out_features=16, bias=True)\n",
            "  (fc2): Linear(in_features=16, out_features=8, bias=True)\n",
            "  (fc3): Linear(in_features=8, out_features=5, bias=True)\n",
            ")\n"
          ],
          "name": "stdout"
        }
      ]
    },
    {
      "cell_type": "markdown",
      "metadata": {
        "id": "nga8A3kBWGes",
        "colab_type": "text"
      },
      "source": [
        "# Train and Test\n",
        "\n",
        "`trn_corr+=(predicted == y_train).sum()`:<br>\n",
        "`predicted` and `y_train` are matrixs of the same size (normally (1,20)).<br>\n",
        "`np.sum()` will calculate the total number of result that satisfy the condition. \n",
        "[source](https://note.nkmk.me/en/python-numpy-count/)."
      ]
    },
    {
      "cell_type": "code",
      "metadata": {
        "id": "gyhl_QK7OBvA",
        "colab_type": "code",
        "colab": {
          "base_uri": "https://localhost:8080/",
          "height": 586
        },
        "outputId": "ed88ae72-916e-47eb-c279-ecd8a35ff6d6"
      },
      "source": [
        "%%time\n",
        "losses = {'train':[],'val':[]}\n",
        "corrects = {'train':[],'val':[]}\n",
        "for epoch in range(epochs):\n",
        "  trn_corr = 0\n",
        "  val_corr = 0\n",
        "  trn_loss = 0\n",
        "  val_loss = 0\n",
        "  for batch,(X_train,y_train) in enumerate(train_loader):\n",
        "    batch+=1\n",
        "    if torch.cuda.is_available():\n",
        "      X_train = Variable(X_train).cuda()\n",
        "      y_train = Variable(y_train).cuda()\n",
        "    \n",
        "    y_pred = net(X_train)\n",
        "    loss = criterion(y_pred,y_train)\n",
        "    predicted =torch.max(y_pred.data,1)[1]\n",
        "    optimizer.zero_grad()\n",
        "    loss.backward()\n",
        "    optimizer.step()\n",
        "\n",
        "    trn_loss += loss.item()*X_train.size(0)\n",
        "    trn_corr += (predicted == y_train).sum()\n",
        "\n",
        "    if batch%30 ==0:\n",
        "        print(f'epoch:{epoch} batch:{batch} loss:{loss.item()} accuracy:{trn_corr.item()*100/(batch*train_btch_size)}')\n",
        "        \n",
        "  scheduler.step()    \n",
        "  losses['train'].append(trn_loss/train_size)\n",
        "  corrects['train'].append(trn_corr.item()/train_size*100)\n",
        "    \n",
        "\n",
        "  with torch.no_grad():\n",
        "    for batch,(X_val,y_val) in enumerate(val_loader):\n",
        "      if torch.cuda.is_available():\n",
        "        X_val = Variable(X_val).cuda()\n",
        "        y_val = Variable(y_val).cuda()\n",
        "\n",
        "      output_val= net(X_val)\n",
        "      predicted = torch.max(output_val.data,1)[1]\n",
        "      loss = criterion(output_val,y_val)\n",
        "      val_corr += (predicted==y_val).sum()\n",
        "      val_loss += loss.item()*X_val.size(0)\n",
        "\n",
        "    losses['val'].append(val_loss/val_size)\n",
        "    corrects['val'].append(val_corr.item()/val_size*100) \n",
        "    "
      ],
      "execution_count": 35,
      "outputs": [
        {
          "output_type": "stream",
          "text": [
            "epoch:0 batch:30 loss:1.483284592628479 accuracy:25.104166666666668\n",
            "epoch:0 batch:60 loss:1.4700591564178467 accuracy:27.135416666666668\n",
            "epoch:0 batch:90 loss:1.346792459487915 accuracy:31.805555555555557\n",
            "epoch:1 batch:30 loss:1.1791772842407227 accuracy:47.1875\n",
            "epoch:1 batch:60 loss:1.1609094142913818 accuracy:51.145833333333336\n",
            "epoch:1 batch:90 loss:1.6108254194259644 accuracy:52.11805555555556\n",
            "epoch:2 batch:30 loss:0.8833292126655579 accuracy:58.541666666666664\n",
            "epoch:2 batch:60 loss:0.9603007435798645 accuracy:60.260416666666664\n",
            "epoch:2 batch:90 loss:1.012437343597412 accuracy:60.0\n",
            "epoch:3 batch:30 loss:0.9914678931236267 accuracy:64.58333333333333\n",
            "epoch:3 batch:60 loss:0.7889045476913452 accuracy:64.42708333333333\n",
            "epoch:3 batch:90 loss:0.946064293384552 accuracy:64.72222222222223\n",
            "epoch:4 batch:30 loss:0.9670524597167969 accuracy:66.45833333333333\n",
            "epoch:4 batch:60 loss:0.897476851940155 accuracy:67.60416666666667\n",
            "epoch:4 batch:90 loss:0.8320702314376831 accuracy:68.125\n",
            "epoch:5 batch:30 loss:0.6735410094261169 accuracy:73.22916666666667\n",
            "epoch:5 batch:60 loss:0.7497354745864868 accuracy:73.28125\n",
            "epoch:5 batch:90 loss:0.5253338813781738 accuracy:72.15277777777777\n",
            "epoch:6 batch:30 loss:0.640001654624939 accuracy:74.0625\n",
            "epoch:6 batch:60 loss:0.6765979528427124 accuracy:74.01041666666667\n",
            "epoch:6 batch:90 loss:0.6972140073776245 accuracy:74.16666666666667\n",
            "epoch:7 batch:30 loss:0.5316270589828491 accuracy:76.97916666666667\n",
            "epoch:7 batch:60 loss:0.557990550994873 accuracy:77.13541666666667\n",
            "epoch:7 batch:90 loss:0.864162027835846 accuracy:76.63194444444444\n",
            "epoch:8 batch:30 loss:0.7071223258972168 accuracy:78.02083333333333\n",
            "epoch:8 batch:60 loss:0.8924782276153564 accuracy:77.91666666666667\n",
            "epoch:8 batch:90 loss:0.5879619121551514 accuracy:77.25694444444444\n",
            "epoch:9 batch:30 loss:0.4328622817993164 accuracy:80.83333333333333\n",
            "epoch:9 batch:60 loss:0.7112818360328674 accuracy:79.84375\n",
            "epoch:9 batch:90 loss:1.061730980873108 accuracy:79.20138888888889\n",
            "CPU times: user 18.6 s, sys: 12 s, total: 30.6 s\n",
            "Wall time: 3min 52s\n"
          ],
          "name": "stdout"
        }
      ]
    },
    {
      "cell_type": "markdown",
      "metadata": {
        "id": "UyePVXdoXE7g",
        "colab_type": "text"
      },
      "source": [
        "## Save Model"
      ]
    },
    {
      "cell_type": "code",
      "metadata": {
        "id": "rWZgHQtxXHvC",
        "colab_type": "code",
        "colab": {}
      },
      "source": [
        "path = \"/content/drive/My Drive/Colab Notebooks/Data/Models/\"\n",
        "torch.save(net.state_dict(),path)"
      ],
      "execution_count": null,
      "outputs": []
    },
    {
      "cell_type": "markdown",
      "metadata": {
        "id": "2RKR2m3fWCBB",
        "colab_type": "text"
      },
      "source": [
        "# Visualize Result"
      ]
    },
    {
      "cell_type": "code",
      "metadata": {
        "id": "6foDh5s6OKMu",
        "colab_type": "code",
        "colab": {
          "base_uri": "https://localhost:8080/",
          "height": 995
        },
        "outputId": "9a50c78b-2998-4e77-deb3-b1703368729e"
      },
      "source": [
        "#  Plot train loss and val loss \n",
        "plt.figure(figsize=(12,8))\n",
        "plt.xlabel(\"Epoch\")\n",
        "plt.ylabel(\"Loss\")\n",
        "plt.plot(losses['train'],label = 'train')\n",
        "plt.plot(losses['val'],label  = 'validation')\n",
        "plt.legend()\n",
        "\n",
        "#  Plot train and val accuracy\n",
        "plt.figure(figsize=(12,8))\n",
        "plt.xlabel(\"Epoch\")\n",
        "plt.ylabel(\"Accuracy(%)\")\n",
        "plt.plot(corrects['train'],label = 'train')\n",
        "plt.plot(corrects['val'], label = 'validation')\n",
        "plt.legend()"
      ],
      "execution_count": 36,
      "outputs": [
        {
          "output_type": "execute_result",
          "data": {
            "text/plain": [
              "<matplotlib.legend.Legend at 0x7fadd11e6cf8>"
            ]
          },
          "metadata": {
            "tags": []
          },
          "execution_count": 36
        },
        {
          "output_type": "display_data",
          "data": {
            "image/png": "[encoded data removed]",
            "text/plain": [
              "<Figure size 864x576 with 1 Axes>"
            ]
          },
          "metadata": {
            "tags": [],
            "needs_background": "light"
          }
        },
        {
          "output_type": "display_data",
          "data": {
            "image/png": "[encoded data removed]",
            "text/plain": [
              "<Figure size 864x576 with 1 Axes>"
            ]
          },
          "metadata": {
            "tags": [],
            "needs_background": "light"
          }
        }
      ]
    },
    {
      "cell_type": "markdown",
      "metadata": {
        "id": "On9Ice2TZAMA",
        "colab_type": "text"
      },
      "source": [
        "## Accuracy on Testset\n"
      ]
    },
    {
      "cell_type": "code",
      "metadata": {
        "id": "-Hzt68gweWkC",
        "colab_type": "code",
        "colab": {
          "base_uri": "https://localhost:8080/",
          "height": 35
        },
        "outputId": "52265067-6e28-4b77-cdf3-53383dc9cab8"
      },
      "source": [
        "correct = 0\n",
        "total = 0\n",
        "\n",
        "with torch.no_grad():\n",
        "  for data in test_loader:\n",
        "    X,y = data\n",
        "    if use_gpu:\n",
        "      X = Variable(X).cuda()\n",
        "      y = Variable(y).cuda()\n",
        "    output = net(X)\n",
        "    for idx, i in enumerate(output):\n",
        "      if torch.argmax(i) == y[idx]:\n",
        "          correct += 1\n",
        "      total += 1\n",
        "print(\"Accuracy: \", round(correct/total, 4))"
      ],
      "execution_count": 37,
      "outputs": [
        {
          "output_type": "stream",
          "text": [
            "Accuracy:  0.6852\n"
          ],
          "name": "stdout"
        }
      ]
    },
    {
      "cell_type": "markdown",
      "metadata": {
        "id": "Pz4qIYblQgPt",
        "colab_type": "text"
      },
      "source": [
        "## Confusion Matrix"
      ]
    },
    {
      "cell_type": "code",
      "metadata": {
        "id": "_sh1l6ywQivm",
        "colab_type": "code",
        "colab": {}
      },
      "source": [
        "from sklearn.metrics import confusion_matrix\n",
        "import numpy as np\n",
        "\n",
        "def plot_confusion_matrix(cm, class_names, title='Confusion Matrix'):\n",
        "  cm = cm.astype('float')/cm.sum(axis=1)[:,np.newaxis] # normalization\n",
        "  plt.imshow(cm, interpolation='nearest')\n",
        "  plt.title(title)\n",
        "  plt.colorbar()\n",
        "  num_local = np.array(range(len(class_names)))\n",
        "  plt.xticks(num_local, class_names, rotation=90)\n",
        "  plt.yticks(num_local, class_names)\n",
        "  plt.ylabel('True label')    \n",
        "  plt.xlabel('Predicted label')"
      ],
      "execution_count": null,
      "outputs": []
    },
    {
      "cell_type": "code",
      "metadata": {
        "id": "uDIYQfayQxI_",
        "colab_type": "code",
        "colab": {}
      },
      "source": [
        "confusion_matrix()\n"
      ],
      "execution_count": null,
      "outputs": []
    },
    {
      "cell_type": "code",
      "metadata": {
        "id": "3zzApZC1VrsE",
        "colab_type": "code",
        "colab": {}
      },
      "source": [
        ""
      ],
      "execution_count": null,
      "outputs": []
    }
  ]
}