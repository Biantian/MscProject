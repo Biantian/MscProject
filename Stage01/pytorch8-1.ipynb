{
  "nbformat": 4,
  "nbformat_minor": 0,
  "metadata": {
    "colab": {
      "name": "pytorch8.ipynb",
      "provenance": [],
      "collapsed_sections": []
    },
    "kernelspec": {
      "name": "python3",
      "display_name": "Python 3"
    },
    "accelerator": "GPU"
  },
  "cells": [
    {
      "cell_type": "code",
      "metadata": {
        "id": "tw41BqBTHip4",
        "colab_type": "code",
        "colab": {
          "base_uri": "https://localhost:8080/",
          "height": 35
        },
        "outputId": "0b4dc7b3-acaa-426a-b3ab-f66a3f9c187c"
      },
      "source": [
        "from google.colab import drive\n",
        "drive.mount('/content/drive/')"
      ],
      "execution_count": 1,
      "outputs": [
        {
          "output_type": "stream",
          "text": [
            "Drive already mounted at /content/drive/; to attempt to forcibly remount, call drive.mount(\"/content/drive/\", force_remount=True).\n"
          ],
          "name": "stdout"
        }
      ]
    },
    {
      "cell_type": "code",
      "metadata": {
        "id": "Zj_8RxN6e1QS",
        "colab_type": "code",
        "colab": {
          "base_uri": "https://localhost:8080/",
          "height": 35
        },
        "outputId": "889b0791-5ddc-43ee-d190-9e68a1141052"
      },
      "source": [
        "import numpy as np\n",
        "import matplotlib.pyplot as plt\n",
        "import torchvision\n",
        "import torch\n",
        "import torch.nn as nn \n",
        "import torch.nn.functional as F\n",
        "from torch.utils.data import DataLoader\n",
        "from torchvision import datasets, transforms, models\n",
        "import cv2\n",
        "import os\n",
        "np.random.seed(0)\n",
        "torch.manual_seed(0)"
      ],
      "execution_count": 2,
      "outputs": [
        {
          "output_type": "execute_result",
          "data": {
            "text/plain": [
              "<torch._C.Generator at 0x7ffaf5ec9168>"
            ]
          },
          "metadata": {
            "tags": []
          },
          "execution_count": 2
        }
      ]
    },
    {
      "cell_type": "markdown",
      "metadata": {
        "id": "MLW1Jh2bLwGl",
        "colab_type": "text"
      },
      "source": [
        "# Check Data Accessment"
      ]
    },
    {
      "cell_type": "code",
      "metadata": {
        "id": "4re5owjffL_K",
        "colab_type": "code",
        "colab": {
          "base_uri": "https://localhost:8080/",
          "height": 35
        },
        "outputId": "b2fd2d5b-46c2-4046-c612-bd7431c90519"
      },
      "source": [
        "path='/content/drive/My Drive/Colab Notebooks/Data/flowers/flowers/'\n",
        "\n",
        "img_names = []\n",
        "for folder,_,filenames in os.walk(path):\n",
        "    for img in filenames:\n",
        "        img_names.append(folder+'/'+img)\n",
        "print(\"images len:\",len(img_names))\n"
      ],
      "execution_count": 3,
      "outputs": [
        {
          "output_type": "stream",
          "text": [
            "images len: 4326\n"
          ],
          "name": "stdout"
        }
      ]
    },
    {
      "cell_type": "markdown",
      "metadata": {
        "id": "1V6LHV4wLpMz",
        "colab_type": "text"
      },
      "source": [
        "# Data Augmentation\n",
        "\n"
      ]
    },
    {
      "cell_type": "code",
      "metadata": {
        "id": "7G6yeJXBfUVA",
        "colab_type": "code",
        "colab": {}
      },
      "source": [
        "transform = {\n",
        "    \"train\": transforms.Compose([\n",
        "        transforms.RandomRotation(10),\n",
        "        transforms.RandomHorizontalFlip(),\n",
        "        transforms.ColorJitter(brightness=0.5),\n",
        "        transforms.Resize(224),\n",
        "        transforms.CenterCrop(224),\n",
        "        transforms.ToTensor(),\n",
        "        transforms.Normalize(mean =[0.485,0.456,0.406], std = [0.229,0.224,0.225])\n",
        "    ]),\n",
        "    \"Test\": transforms.Compose({\n",
        "        transforms.Resize(224),\n",
        "        transforms.CenterCrop(224),\n",
        "        transforms.ToTensor(),\n",
        "        transforms.Normalize(mean =[0.485,0.456,0.406], std = [0.229,0.224,0.225])\n",
        "    })\n",
        "}"
      ],
      "execution_count": 4,
      "outputs": []
    },
    {
      "cell_type": "code",
      "metadata": {
        "id": "4qO4DyWxfkzy",
        "colab_type": "code",
        "colab": {
          "base_uri": "https://localhost:8080/",
          "height": 248
        },
        "outputId": "c66f70c3-6e8e-4d09-b4d0-c5558ad6b197"
      },
      "source": [
        "root='/content/drive/My Drive/Colab Notebooks/Data/flowers/'\n",
        "\n",
        "full_dataset = datasets.ImageFolder(os.path.join(root,'flowers'),transform=transform[\"train\"])\n",
        "print('full dataset:',full_dataset)"
      ],
      "execution_count": 5,
      "outputs": [
        {
          "output_type": "stream",
          "text": [
            "full dataset: Dataset ImageFolder\n",
            "    Number of datapoints: 4323\n",
            "    Root location: /content/drive/My Drive/Colab Notebooks/Data/flowers/flowers\n",
            "    StandardTransform\n",
            "Transform: Compose(\n",
            "               RandomRotation(degrees=(-10, 10), resample=False, expand=False)\n",
            "               RandomHorizontalFlip(p=0.5)\n",
            "               ColorJitter(brightness=[0.5, 1.5], contrast=None, saturation=None, hue=None)\n",
            "               Resize(size=224, interpolation=PIL.Image.BILINEAR)\n",
            "               CenterCrop(size=(224, 224))\n",
            "               ToTensor()\n",
            "               Normalize(mean=[0.485, 0.456, 0.406], std=[0.229, 0.224, 0.225])\n",
            "           )\n"
          ],
          "name": "stdout"
        }
      ]
    },
    {
      "cell_type": "markdown",
      "metadata": {
        "id": "PT66_QFENvhp",
        "colab_type": "text"
      },
      "source": [
        "# Split train set and test set"
      ]
    },
    {
      "cell_type": "code",
      "metadata": {
        "id": "aGWZbqVAMGei",
        "colab_type": "code",
        "colab": {
          "base_uri": "https://localhost:8080/",
          "height": 52
        },
        "outputId": "3b49b938-d2c4-4978-834e-1904a0bbded6"
      },
      "source": [
        "train_size = int(0.8 * len(full_dataset))\n",
        "test_size = len(full_dataset) - train_size\n",
        "\n",
        "print('train size:',train_size)\n",
        "print('test size:',test_size)\n",
        "train_data, test_data = torch.utils.data.random_split(full_dataset, [train_size, test_size])"
      ],
      "execution_count": 6,
      "outputs": [
        {
          "output_type": "stream",
          "text": [
            "train size: 3458\n",
            "test size: 865\n"
          ],
          "name": "stdout"
        }
      ]
    },
    {
      "cell_type": "code",
      "metadata": {
        "id": "hMs5Uw1XMYJJ",
        "colab_type": "code",
        "colab": {
          "base_uri": "https://localhost:8080/",
          "height": 35
        },
        "outputId": "a80be751-540b-43e0-a8ea-8a71f949365d"
      },
      "source": [
        "train_btch_size =32\n",
        "test_btch_size = 16\n",
        "\n",
        "train_loader = DataLoader(train_data,batch_size=train_btch_size, shuffle = True,num_workers = 8)\n",
        "test_loader =  DataLoader(test_data,batch_size =test_btch_size ,shuffle = False,num_workers = 8)\n",
        "\n",
        "class_names = full_dataset.classes\n",
        "print(class_names)"
      ],
      "execution_count": 7,
      "outputs": [
        {
          "output_type": "stream",
          "text": [
            "['daisy', 'dandelion', 'rose', 'sunflower', 'tulip']\n"
          ],
          "name": "stdout"
        }
      ]
    },
    {
      "cell_type": "markdown",
      "metadata": {
        "id": "FssTyRmTNo0f",
        "colab_type": "text"
      },
      "source": [
        "# CNN"
      ]
    },
    {
      "cell_type": "code",
      "metadata": {
        "id": "KyMwtAdcMknh",
        "colab_type": "code",
        "colab": {}
      },
      "source": [
        "class ConvNet(nn.Module):\n",
        "    def __init__(self):\n",
        "        super().__init__()\n",
        "        self.conv1 = nn.Conv2d(3,32,3,1)\n",
        "        self.conv2 = nn.Conv2d(32,64,3,1)\n",
        "        self.conv3 = nn.Conv2d(64,128,3,1)\n",
        "        self.fc1   = nn.Linear(128*26*26,16)\n",
        "        self.fc2   = nn.Linear(16,8)\n",
        "        self.fc3   = nn.Linear(8,5)\n",
        "        \n",
        "    def forward(self,X):\n",
        "        X = nn.Dropout(p=0.5)\n",
        "        X = F.relu(self.conv1(X))\n",
        "        X = F.max_pool2d(X,2,2)\n",
        "        X = nn.Dropout(p=0.5)\n",
        "        X = F.relu(self.conv2(X))\n",
        "        X = F.max_pool2d(X,2,2)\n",
        "        X = F.relu(self.conv3(X))\n",
        "        X = F.max_pool2d(X,2,2)\n",
        "        \n",
        "        X = X.view(-1,128*26*26)\n",
        "        X = F.relu(self.fc1(X))\n",
        "        X = F.relu(self.fc2(X))\n",
        "        X = self.fc3(X)\n",
        "        return F.log_softmax(X,dim =1)"
      ],
      "execution_count": 8,
      "outputs": []
    },
    {
      "cell_type": "code",
      "metadata": {
        "id": "Ux2TBk_p_K2T",
        "colab_type": "code",
        "colab": {}
      },
      "source": [
        "class ConvNet(nn.Module):\n",
        "    def __init__(self):\n",
        "        super().__init__()\n",
        "        self.layer1 = nn.Sequential(\n",
        "            nn.Conv2d(3,32,kernel_size=3,stride=1),\n",
        "            nn.ReLU(),\n",
        "            nn.MaxPool2d(kernel_size=2,stride=2)\n",
        "        )\n",
        "        self.layer2 = nn.Sequential(\n",
        "            nn.Conv2d(32,64,kernel_size=3,stride=1),\n",
        "            nn.ReLU(),\n",
        "            nn.MaxPool2d(kernel_size=2,stride=2)\n",
        "        )\n",
        "        self.layer3 = nn.Sequential(\n",
        "            nn.Conv2d(64,128,kernel_size=3,stride=1),\n",
        "            nn.ReLU(),\n",
        "            nn.MaxPool2d(kernel_size=2,stride=2)\n",
        "        )\n",
        "        self.drop_out = nn.Dropout(p=0.5)\n",
        "        self.fc1   = nn.Linear(128*26*26,1024)\n",
        "        self.fc2   = nn.Linear(1024,5)\n",
        "        \n",
        "    def forward(self,X):\n",
        "        X = self.layer1(X)\n",
        "        X = self.layer2(X)\n",
        "        X = self.layer3(X)\n",
        "        X = X.view(-1,128*26*26)\n",
        "        X = self.drop_out(X)\n",
        "        X = F.relu(self.fc1(X))\n",
        "        X = self.fc2(X)\n",
        "        return F.log_softmax(X,dim =1)"
      ],
      "execution_count": 9,
      "outputs": []
    },
    {
      "cell_type": "markdown",
      "metadata": {
        "id": "S0iSuTNhNgve",
        "colab_type": "text"
      },
      "source": [
        "# Check GPU"
      ]
    },
    {
      "cell_type": "code",
      "metadata": {
        "id": "lpAabLumMoR2",
        "colab_type": "code",
        "colab": {
          "base_uri": "https://localhost:8080/",
          "height": 52
        },
        "outputId": "80964776-f64e-4045-9a60-63e578642403"
      },
      "source": [
        "# We are going to use pytorch GPU therefore we need to convert datatypes into .cuda() format\n",
        "from torch.autograd import Variable\n",
        "\n",
        "use_gpu = torch.cuda.is_available()\n",
        "if use_gpu:\n",
        "  print(torch.cuda.device_count())\n",
        "  print(torch.cuda.get_device_name(0))\n",
        "else:\n",
        "  print(\"GPU not avaliable\")"
      ],
      "execution_count": 10,
      "outputs": [
        {
          "output_type": "stream",
          "text": [
            "1\n",
            "Tesla P100-PCIE-16GB\n"
          ],
          "name": "stdout"
        }
      ]
    },
    {
      "cell_type": "markdown",
      "metadata": {
        "id": "NfyYisQmOuoe",
        "colab_type": "text"
      },
      "source": [
        "> scheduler stands for learning rate decay.\n"
      ]
    },
    {
      "cell_type": "code",
      "metadata": {
        "id": "pNL8Q9_zNK2m",
        "colab_type": "code",
        "colab": {
          "base_uri": "https://localhost:8080/",
          "height": 372
        },
        "outputId": "3003cea9-2be6-4abf-e755-db3358c2f9a3"
      },
      "source": [
        "CNN_model=ConvNet()\n",
        "if use_gpu:\n",
        "    CNN_model.cuda() \n",
        "criterion= nn.CrossEntropyLoss()\n",
        "if use_gpu:\n",
        "     criterion = criterion.cuda()\n",
        "optimizer = torch.optim.Adam(CNN_model.parameters(),lr=0.0001,weight_decay=0.001)\n",
        "scheduler = torch.optim.lr_scheduler.ExponentialLR(optimizer, gamma = 0.95)\n",
        "CNN_model"
      ],
      "execution_count": 11,
      "outputs": [
        {
          "output_type": "execute_result",
          "data": {
            "text/plain": [
              "ConvNet(\n",
              "  (layer1): Sequential(\n",
              "    (0): Conv2d(3, 32, kernel_size=(3, 3), stride=(1, 1))\n",
              "    (1): ReLU()\n",
              "    (2): MaxPool2d(kernel_size=2, stride=2, padding=0, dilation=1, ceil_mode=False)\n",
              "  )\n",
              "  (layer2): Sequential(\n",
              "    (0): Conv2d(32, 64, kernel_size=(3, 3), stride=(1, 1))\n",
              "    (1): ReLU()\n",
              "    (2): MaxPool2d(kernel_size=2, stride=2, padding=0, dilation=1, ceil_mode=False)\n",
              "  )\n",
              "  (layer3): Sequential(\n",
              "    (0): Conv2d(64, 128, kernel_size=(3, 3), stride=(1, 1))\n",
              "    (1): ReLU()\n",
              "    (2): MaxPool2d(kernel_size=2, stride=2, padding=0, dilation=1, ceil_mode=False)\n",
              "  )\n",
              "  (drop_out): Dropout(p=0.5, inplace=False)\n",
              "  (fc1): Linear(in_features=86528, out_features=1024, bias=True)\n",
              "  (fc2): Linear(in_features=1024, out_features=5, bias=True)\n",
              ")"
            ]
          },
          "metadata": {
            "tags": []
          },
          "execution_count": 11
        }
      ]
    },
    {
      "cell_type": "markdown",
      "metadata": {
        "id": "nga8A3kBWGes",
        "colab_type": "text"
      },
      "source": [
        "# Train and Test\n",
        "\n",
        "`trn_corr+=(predicted == y_train).sum()`:<br>\n",
        "`predicted` and `y_train` are matrixs of the same size (normally (1,20)).<br>\n",
        "`np.sum()` will calculate the total number of result that satisfy the condition. \n",
        "[source](https://note.nkmk.me/en/python-numpy-count/)."
      ]
    },
    {
      "cell_type": "code",
      "metadata": {
        "id": "gyhl_QK7OBvA",
        "colab_type": "code",
        "colab": {
          "base_uri": "https://localhost:8080/",
          "height": 1000
        },
        "outputId": "3e6e7578-f69c-437f-8ba1-61483e362321"
      },
      "source": [
        "%%time\n",
        "epochs = 100\n",
        "train_losses =[]\n",
        "test_losses = []\n",
        "train_correct =[]\n",
        "test_correct=[]\n",
        "for epoch in range(epochs):\n",
        "    \n",
        "    trn_corr =0\n",
        "    tst_corr =0\n",
        "\n",
        "    for batch,(X_train,y_train) in enumerate(train_loader):\n",
        "        batch+=1\n",
        "        if torch.cuda.is_available():\n",
        "            X_train = Variable(X_train).cuda()\n",
        "            y_train = Variable(y_train).cuda()\n",
        "        \n",
        "        y_pred = CNN_model(X_train)\n",
        "        loss   = criterion(y_pred,y_train)\n",
        "        predicted =torch.max(y_pred.data,1)[1]\n",
        "        trn_corr+=(predicted == y_train).sum()\n",
        "        \n",
        "        optimizer.zero_grad()\n",
        "        loss.backward()\n",
        "        optimizer.step()\n",
        "        \n",
        "        if batch%100 ==0:\n",
        "            print(f'epoch:{epoch} batch:{batch} loss:{loss.item()} accuracy:{trn_corr.item()*100/(batch*train_btch_size)}')\n",
        "            \n",
        "    scheduler.step()    \n",
        "    train_losses.append(loss)\n",
        "    train_correct.append(trn_corr.item()*100/(batch*train_btch_size))\n",
        "    \n",
        "\n",
        "    with torch.no_grad():\n",
        "        for batch,(X_test,y_test) in enumerate(test_loader):\n",
        "            if torch.cuda.is_available():\n",
        "                X_test = Variable(X_test).cuda()\n",
        "                y_test = Variable(y_test).cuda()\n",
        "\n",
        "            y_val= CNN_model(X_test)\n",
        "            predicted_test = torch.max(y_val.data,1)[1]\n",
        "            tst_corr +=(predicted_test==y_test).sum()\n",
        "\n",
        "        loss =criterion(y_val,y_test)\n",
        "        test_losses.append(loss)\n",
        "        test_correct.append(tst_corr.item()*100/(batch*test_btch_size))  \n",
        "    "
      ],
      "execution_count": 12,
      "outputs": [
        {
          "output_type": "stream",
          "text": [
            "epoch:0 batch:100 loss:1.01364004611969 accuracy:42.40625\n",
            "epoch:1 batch:100 loss:0.9721019268035889 accuracy:54.625\n",
            "epoch:2 batch:100 loss:0.916928231716156 accuracy:60.15625\n",
            "epoch:3 batch:100 loss:0.6106898784637451 accuracy:63.75\n",
            "epoch:4 batch:100 loss:0.9555051326751709 accuracy:65.25\n",
            "epoch:5 batch:100 loss:0.6693499088287354 accuracy:67.0625\n",
            "epoch:6 batch:100 loss:0.8727281093597412 accuracy:68.9375\n",
            "epoch:7 batch:100 loss:0.7231921553611755 accuracy:70.0\n",
            "epoch:8 batch:100 loss:0.7532877922058105 accuracy:71.0\n",
            "epoch:9 batch:100 loss:0.8538776636123657 accuracy:71.40625\n",
            "epoch:10 batch:100 loss:0.5974001288414001 accuracy:73.34375\n",
            "epoch:11 batch:100 loss:0.4905070662498474 accuracy:74.40625\n",
            "epoch:12 batch:100 loss:1.1304957866668701 accuracy:74.5625\n",
            "epoch:13 batch:100 loss:0.8064843416213989 accuracy:75.21875\n",
            "epoch:14 batch:100 loss:0.6488555669784546 accuracy:76.375\n",
            "epoch:15 batch:100 loss:0.9346821308135986 accuracy:76.84375\n",
            "epoch:16 batch:100 loss:0.8824144601821899 accuracy:77.5625\n",
            "epoch:17 batch:100 loss:0.7736964821815491 accuracy:78.9375\n",
            "epoch:18 batch:100 loss:0.564702570438385 accuracy:79.78125\n",
            "epoch:19 batch:100 loss:0.6571796536445618 accuracy:80.53125\n",
            "epoch:20 batch:100 loss:0.650740921497345 accuracy:79.5625\n",
            "epoch:21 batch:100 loss:0.515459418296814 accuracy:81.09375\n",
            "epoch:22 batch:100 loss:0.5066384673118591 accuracy:82.875\n",
            "epoch:23 batch:100 loss:0.3393718898296356 accuracy:82.40625\n",
            "epoch:24 batch:100 loss:0.8436658382415771 accuracy:83.25\n",
            "epoch:25 batch:100 loss:0.5042772889137268 accuracy:83.46875\n",
            "epoch:26 batch:100 loss:0.6026555299758911 accuracy:84.40625\n",
            "epoch:27 batch:100 loss:0.49100926518440247 accuracy:83.9375\n",
            "epoch:28 batch:100 loss:0.35799849033355713 accuracy:85.28125\n",
            "epoch:29 batch:100 loss:0.4340766370296478 accuracy:84.84375\n",
            "epoch:30 batch:100 loss:0.5419853925704956 accuracy:86.03125\n",
            "epoch:31 batch:100 loss:0.3052264451980591 accuracy:85.34375\n",
            "epoch:32 batch:100 loss:0.31883883476257324 accuracy:86.28125\n",
            "epoch:33 batch:100 loss:0.5338659882545471 accuracy:87.28125\n",
            "epoch:34 batch:100 loss:0.4937382936477661 accuracy:86.25\n",
            "epoch:35 batch:100 loss:0.33021417260169983 accuracy:86.8125\n",
            "epoch:36 batch:100 loss:0.2668796479701996 accuracy:86.625\n",
            "epoch:37 batch:100 loss:0.4182666540145874 accuracy:87.65625\n",
            "epoch:38 batch:100 loss:0.35805007815361023 accuracy:88.0625\n",
            "epoch:39 batch:100 loss:0.4908878803253174 accuracy:88.5\n",
            "epoch:40 batch:100 loss:0.18018706142902374 accuracy:88.6875\n",
            "epoch:41 batch:100 loss:0.28700506687164307 accuracy:88.0\n",
            "epoch:42 batch:100 loss:0.19438372552394867 accuracy:89.09375\n",
            "epoch:43 batch:100 loss:0.2770499587059021 accuracy:89.71875\n",
            "epoch:44 batch:100 loss:0.29859843850135803 accuracy:89.1875\n",
            "epoch:45 batch:100 loss:0.26100122928619385 accuracy:89.21875\n",
            "epoch:46 batch:100 loss:0.2574058175086975 accuracy:89.53125\n",
            "epoch:47 batch:100 loss:0.22113610804080963 accuracy:89.34375\n",
            "epoch:48 batch:100 loss:0.39089784026145935 accuracy:89.9375\n",
            "epoch:49 batch:100 loss:0.38629862666130066 accuracy:89.71875\n",
            "epoch:50 batch:100 loss:0.3061889708042145 accuracy:90.375\n",
            "epoch:51 batch:100 loss:0.3449200987815857 accuracy:91.0\n",
            "epoch:52 batch:100 loss:0.33211377263069153 accuracy:90.90625\n",
            "epoch:53 batch:100 loss:0.2580011785030365 accuracy:90.90625\n",
            "epoch:54 batch:100 loss:0.2833164930343628 accuracy:90.34375\n",
            "epoch:55 batch:100 loss:0.28870177268981934 accuracy:90.4375\n",
            "epoch:56 batch:100 loss:0.20211833715438843 accuracy:90.40625\n",
            "epoch:57 batch:100 loss:0.3245900273323059 accuracy:90.84375\n",
            "epoch:58 batch:100 loss:0.23016749322414398 accuracy:91.03125\n",
            "epoch:59 batch:100 loss:0.23715178668498993 accuracy:91.21875\n",
            "CPU times: user 2min 2s, sys: 1min 16s, total: 3min 19s\n",
            "Wall time: 33min 57s\n"
          ],
          "name": "stdout"
        }
      ]
    },
    {
      "cell_type": "markdown",
      "metadata": {
        "id": "2RKR2m3fWCBB",
        "colab_type": "text"
      },
      "source": [
        "# Visualize Result"
      ]
    },
    {
      "cell_type": "code",
      "metadata": {
        "id": "6foDh5s6OKMu",
        "colab_type": "code",
        "colab": {
          "base_uri": "https://localhost:8080/",
          "height": 995
        },
        "outputId": "2d828408-d206-4abf-84e7-8a5f30419ca6"
      },
      "source": [
        "#  Plot train loss and test loss \n",
        "plt.figure(figsize=(12,8))\n",
        "plt.xlabel(\"Epoch\")\n",
        "plt.ylabel(\"Loss\")\n",
        "plt.plot(train_losses,label = 'train loss')\n",
        "plt.plot(test_losses,label  = 'test loss')\n",
        "plt.legend()\n",
        "\n",
        "#  Plot train and test accuracy\n",
        "plt.figure(figsize=(12,8))\n",
        "plt.xlabel(\"Epoch\")\n",
        "plt.ylabel(\"Accuracy(%)\")\n",
        "plt.plot(train_correct,label = 'train correct')\n",
        "plt.plot(test_correct, label = 'test correct')\n",
        "plt.legend()"
      ],
      "execution_count": 13,
      "outputs": [
        {
          "output_type": "execute_result",
          "data": {
            "text/plain": [
              "<matplotlib.legend.Legend at 0x7ffa998369e8>"
            ]
          },
          "metadata": {
            "tags": []
          },
          "execution_count": 13
        },
        {
          "output_type": "display_data",
          "data": {
            "image/png": "[encoded data removed]",
            "text/plain": [
              "<Figure size 864x576 with 1 Axes>"
            ]
          },
          "metadata": {
            "tags": [],
            "needs_background": "light"
          }
        },
        {
          "output_type": "display_data",
          "data": {
            "image/png": "[encoded data removed]",
            "text/plain": [
              "<Figure size 864x576 with 1 Axes>"
            ]
          },
          "metadata": {
            "tags": [],
            "needs_background": "light"
          }
        }
      ]
    },
    {
      "cell_type": "markdown",
      "metadata": {
        "id": "On9Ice2TZAMA",
        "colab_type": "text"
      },
      "source": [
        "## Use TensorBoard to visualize"
      ]
    },
    {
      "cell_type": "code",
      "metadata": {
        "id": "-Hzt68gweWkC",
        "colab_type": "code",
        "colab": {}
      },
      "source": [
        ""
      ],
      "execution_count": 13,
      "outputs": []
    }
  ]
}