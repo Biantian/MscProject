{
  "nbformat": 4,
  "nbformat_minor": 0,
  "metadata": {
    "colab": {
      "name": "pytorch10-VGG16.ipynb",
      "provenance": []
    },
    "kernelspec": {
      "name": "python3",
      "display_name": "Python 3"
    },
    "accelerator": "GPU",
    "widgets": {
      "application/vnd.jupyter.widget-state+json": {
        "ae2481ebc2db4ce8a0cbbb09325724e8": {
          "model_module": "@jupyter-widgets/controls",
          "model_name": "HBoxModel",
          "state": {
            "_view_name": "HBoxView",
            "_dom_classes": [],
            "_model_name": "HBoxModel",
            "_view_module": "@jupyter-widgets/controls",
            "_model_module_version": "1.5.0",
            "_view_count": null,
            "_view_module_version": "1.5.0",
            "box_style": "",
            "layout": "IPY_MODEL_3457605a33e546ff84ddbea0431de508",
            "_model_module": "@jupyter-widgets/controls",
            "children": [
              "IPY_MODEL_a4c7576529f94aeda587be312555a381",
              "IPY_MODEL_289844505fc241bda52b2aff5062074c"
            ]
          }
        },
        "3457605a33e546ff84ddbea0431de508": {
          "model_module": "@jupyter-widgets/base",
          "model_name": "LayoutModel",
          "state": {
            "_view_name": "LayoutView",
            "grid_template_rows": null,
            "right": null,
            "justify_content": null,
            "_view_module": "@jupyter-widgets/base",
            "overflow": null,
            "_model_module_version": "1.2.0",
            "_view_count": null,
            "flex_flow": null,
            "width": null,
            "min_width": null,
            "border": null,
            "align_items": null,
            "bottom": null,
            "_model_module": "@jupyter-widgets/base",
            "top": null,
            "grid_column": null,
            "overflow_y": null,
            "overflow_x": null,
            "grid_auto_flow": null,
            "grid_area": null,
            "grid_template_columns": null,
            "flex": null,
            "_model_name": "LayoutModel",
            "justify_items": null,
            "grid_row": null,
            "max_height": null,
            "align_content": null,
            "visibility": null,
            "align_self": null,
            "height": null,
            "min_height": null,
            "padding": null,
            "grid_auto_rows": null,
            "grid_gap": null,
            "max_width": null,
            "order": null,
            "_view_module_version": "1.2.0",
            "grid_template_areas": null,
            "object_position": null,
            "object_fit": null,
            "grid_auto_columns": null,
            "margin": null,
            "display": null,
            "left": null
          }
        },
        "a4c7576529f94aeda587be312555a381": {
          "model_module": "@jupyter-widgets/controls",
          "model_name": "FloatProgressModel",
          "state": {
            "_view_name": "ProgressView",
            "style": "IPY_MODEL_0fa5b97304284c89ad7c36d69ed013f4",
            "_dom_classes": [],
            "description": "100%",
            "_model_name": "FloatProgressModel",
            "bar_style": "success",
            "max": 553507836,
            "_view_module": "@jupyter-widgets/controls",
            "_model_module_version": "1.5.0",
            "value": 553507836,
            "_view_count": null,
            "_view_module_version": "1.5.0",
            "orientation": "horizontal",
            "min": 0,
            "description_tooltip": null,
            "_model_module": "@jupyter-widgets/controls",
            "layout": "IPY_MODEL_8af8be1f8933454faf2af807e484e26d"
          }
        },
        "289844505fc241bda52b2aff5062074c": {
          "model_module": "@jupyter-widgets/controls",
          "model_name": "HTMLModel",
          "state": {
            "_view_name": "HTMLView",
            "style": "IPY_MODEL_ee1d2f6b521b475087c56dba9964ca08",
            "_dom_classes": [],
            "description": "",
            "_model_name": "HTMLModel",
            "placeholder": "​",
            "_view_module": "@jupyter-widgets/controls",
            "_model_module_version": "1.5.0",
            "value": " 528M/528M [00:45&lt;00:00, 12.2MB/s]",
            "_view_count": null,
            "_view_module_version": "1.5.0",
            "description_tooltip": null,
            "_model_module": "@jupyter-widgets/controls",
            "layout": "IPY_MODEL_85a2375e8dec4adab2d6d79c5b22b8b1"
          }
        },
        "0fa5b97304284c89ad7c36d69ed013f4": {
          "model_module": "@jupyter-widgets/controls",
          "model_name": "ProgressStyleModel",
          "state": {
            "_view_name": "StyleView",
            "_model_name": "ProgressStyleModel",
            "description_width": "initial",
            "_view_module": "@jupyter-widgets/base",
            "_model_module_version": "1.5.0",
            "_view_count": null,
            "_view_module_version": "1.2.0",
            "bar_color": null,
            "_model_module": "@jupyter-widgets/controls"
          }
        },
        "8af8be1f8933454faf2af807e484e26d": {
          "model_module": "@jupyter-widgets/base",
          "model_name": "LayoutModel",
          "state": {
            "_view_name": "LayoutView",
            "grid_template_rows": null,
            "right": null,
            "justify_content": null,
            "_view_module": "@jupyter-widgets/base",
            "overflow": null,
            "_model_module_version": "1.2.0",
            "_view_count": null,
            "flex_flow": null,
            "width": null,
            "min_width": null,
            "border": null,
            "align_items": null,
            "bottom": null,
            "_model_module": "@jupyter-widgets/base",
            "top": null,
            "grid_column": null,
            "overflow_y": null,
            "overflow_x": null,
            "grid_auto_flow": null,
            "grid_area": null,
            "grid_template_columns": null,
            "flex": null,
            "_model_name": "LayoutModel",
            "justify_items": null,
            "grid_row": null,
            "max_height": null,
            "align_content": null,
            "visibility": null,
            "align_self": null,
            "height": null,
            "min_height": null,
            "padding": null,
            "grid_auto_rows": null,
            "grid_gap": null,
            "max_width": null,
            "order": null,
            "_view_module_version": "1.2.0",
            "grid_template_areas": null,
            "object_position": null,
            "object_fit": null,
            "grid_auto_columns": null,
            "margin": null,
            "display": null,
            "left": null
          }
        },
        "ee1d2f6b521b475087c56dba9964ca08": {
          "model_module": "@jupyter-widgets/controls",
          "model_name": "DescriptionStyleModel",
          "state": {
            "_view_name": "StyleView",
            "_model_name": "DescriptionStyleModel",
            "description_width": "",
            "_view_module": "@jupyter-widgets/base",
            "_model_module_version": "1.5.0",
            "_view_count": null,
            "_view_module_version": "1.2.0",
            "_model_module": "@jupyter-widgets/controls"
          }
        },
        "85a2375e8dec4adab2d6d79c5b22b8b1": {
          "model_module": "@jupyter-widgets/base",
          "model_name": "LayoutModel",
          "state": {
            "_view_name": "LayoutView",
            "grid_template_rows": null,
            "right": null,
            "justify_content": null,
            "_view_module": "@jupyter-widgets/base",
            "overflow": null,
            "_model_module_version": "1.2.0",
            "_view_count": null,
            "flex_flow": null,
            "width": null,
            "min_width": null,
            "border": null,
            "align_items": null,
            "bottom": null,
            "_model_module": "@jupyter-widgets/base",
            "top": null,
            "grid_column": null,
            "overflow_y": null,
            "overflow_x": null,
            "grid_auto_flow": null,
            "grid_area": null,
            "grid_template_columns": null,
            "flex": null,
            "_model_name": "LayoutModel",
            "justify_items": null,
            "grid_row": null,
            "max_height": null,
            "align_content": null,
            "visibility": null,
            "align_self": null,
            "height": null,
            "min_height": null,
            "padding": null,
            "grid_auto_rows": null,
            "grid_gap": null,
            "max_width": null,
            "order": null,
            "_view_module_version": "1.2.0",
            "grid_template_areas": null,
            "object_position": null,
            "object_fit": null,
            "grid_auto_columns": null,
            "margin": null,
            "display": null,
            "left": null
          }
        }
      }
    }
  },
  "cells": [
    {
      "cell_type": "code",
      "metadata": {
        "id": "RYDMDmXjqA-q",
        "colab_type": "code",
        "colab": {
          "base_uri": "https://localhost:8080/",
          "height": 126
        },
        "outputId": "f35ebe18-d016-49b3-8a18-5252f0f15d54"
      },
      "source": [
        "from google.colab import drive\n",
        "drive.mount('/content/drive/')"
      ],
      "execution_count": 1,
      "outputs": [
        {
          "output_type": "stream",
          "text": [
            "Go to this URL in a browser: https://accounts.google.com/o/oauth2/auth?client_id=947318989803-6bn6qk8qdgf4n4g3pfee6491hc0brc4i.apps.googleusercontent.com&redirect_uri=urn%3aietf%3awg%3aoauth%3a2.0%3aoob&scope=email%20https%3a%2f%2fwww.googleapis.com%2fauth%2fdocs.test%20https%3a%2f%2fwww.googleapis.com%2fauth%2fdrive%20https%3a%2f%2fwww.googleapis.com%2fauth%2fdrive.photos.readonly%20https%3a%2f%2fwww.googleapis.com%2fauth%2fpeopleapi.readonly&response_type=code\n",
            "\n",
            "Enter your authorization code:\n",
            "··········\n",
            "Mounted at /content/drive/\n"
          ],
          "name": "stdout"
        }
      ]
    },
    {
      "cell_type": "code",
      "metadata": {
        "id": "brNzVhu6qSZD",
        "colab_type": "code",
        "colab": {
          "base_uri": "https://localhost:8080/",
          "height": 35
        },
        "outputId": "50afe9ac-2fe9-4c71-88b7-1b2c9f3cc5ec"
      },
      "source": [
        "import numpy as np\n",
        "import matplotlib.pyplot as plt\n",
        "import torchvision\n",
        "import torch\n",
        "import torch.nn as nn \n",
        "import torch.nn.functional as F\n",
        "from torch.utils.data import DataLoader\n",
        "from torchvision import datasets, transforms, models\n",
        "import cv2\n",
        "import os\n",
        "np.random.seed(0)\n",
        "torch.manual_seed(0)"
      ],
      "execution_count": 2,
      "outputs": [
        {
          "output_type": "execute_result",
          "data": {
            "text/plain": [
              "<torch._C.Generator at 0x7fbe151d8198>"
            ]
          },
          "metadata": {
            "tags": []
          },
          "execution_count": 2
        }
      ]
    },
    {
      "cell_type": "code",
      "metadata": {
        "id": "tqadtJMoqZsX",
        "colab_type": "code",
        "colab": {
          "base_uri": "https://localhost:8080/",
          "height": 35
        },
        "outputId": "9c608cc3-aa01-4a89-e800-5793f77768c1"
      },
      "source": [
        "path='/content/drive/My Drive/Colab Notebooks/Data/flowers/flowers/'\n",
        "\n",
        "img_names = []\n",
        "for folder,_,filenames in os.walk(path):\n",
        "    for img in filenames:\n",
        "        img_names.append(folder+'/'+img)\n",
        "print(\"images len:\",len(img_names))"
      ],
      "execution_count": 3,
      "outputs": [
        {
          "output_type": "stream",
          "text": [
            "images len: 4326\n"
          ],
          "name": "stdout"
        }
      ]
    },
    {
      "cell_type": "code",
      "metadata": {
        "id": "4CXSp6bcqkx-",
        "colab_type": "code",
        "colab": {}
      },
      "source": [
        "transform = {\n",
        "    \"train\": transforms.Compose([\n",
        "        transforms.RandomRotation(10),\n",
        "        transforms.RandomHorizontalFlip(),\n",
        "        transforms.ColorJitter(brightness=0.5),\n",
        "        transforms.Resize(224),\n",
        "        transforms.CenterCrop(224),\n",
        "        transforms.ToTensor(),\n",
        "        transforms.Normalize(mean =[0.452,0.413,0.294], std =[0.248,0.218,0.221])\n",
        "    ]),\n",
        "    \"Test\": transforms.Compose({\n",
        "        transforms.Resize(224),\n",
        "        transforms.CenterCrop(224),\n",
        "        transforms.ToTensor(),\n",
        "        transforms.Normalize(mean =[0.452,0.413,0.294], std =[0.248,0.218,0.221])\n",
        "    })\n",
        "}"
      ],
      "execution_count": 4,
      "outputs": []
    },
    {
      "cell_type": "code",
      "metadata": {
        "id": "bzUlQqLfqv8X",
        "colab_type": "code",
        "colab": {
          "base_uri": "https://localhost:8080/",
          "height": 248
        },
        "outputId": "41ee0da8-184f-41fc-b470-2d21a579d9ec"
      },
      "source": [
        "root='/content/drive/My Drive/Colab Notebooks/Data/flowers/'\n",
        "\n",
        "full_dataset = datasets.ImageFolder(os.path.join(root,'flowers'),transform=transform[\"train\"])\n",
        "print('full dataset:',full_dataset)"
      ],
      "execution_count": 5,
      "outputs": [
        {
          "output_type": "stream",
          "text": [
            "full dataset: Dataset ImageFolder\n",
            "    Number of datapoints: 4323\n",
            "    Root location: /content/drive/My Drive/Colab Notebooks/Data/flowers/flowers\n",
            "    StandardTransform\n",
            "Transform: Compose(\n",
            "               RandomRotation(degrees=(-10, 10), resample=False, expand=False)\n",
            "               RandomHorizontalFlip(p=0.5)\n",
            "               ColorJitter(brightness=[0.5, 1.5], contrast=None, saturation=None, hue=None)\n",
            "               Resize(size=224, interpolation=PIL.Image.BILINEAR)\n",
            "               CenterCrop(size=(224, 224))\n",
            "               ToTensor()\n",
            "               Normalize(mean=[0.452, 0.413, 0.294], std=[0.248, 0.218, 0.221])\n",
            "           )\n"
          ],
          "name": "stdout"
        }
      ]
    },
    {
      "cell_type": "code",
      "metadata": {
        "id": "sL2TBoRLqyC4",
        "colab_type": "code",
        "colab": {
          "base_uri": "https://localhost:8080/",
          "height": 52
        },
        "outputId": "dccd0753-9139-4546-ceb4-eafb3e095a02"
      },
      "source": [
        "train_size = int(0.8 * len(full_dataset))\n",
        "test_size = len(full_dataset) - train_size\n",
        "\n",
        "print('train size:',train_size)\n",
        "print('test size:',test_size)\n",
        "train_data, test_data = torch.utils.data.random_split(full_dataset, [train_size, test_size])"
      ],
      "execution_count": 6,
      "outputs": [
        {
          "output_type": "stream",
          "text": [
            "train size: 3458\n",
            "test size: 865\n"
          ],
          "name": "stdout"
        }
      ]
    },
    {
      "cell_type": "code",
      "metadata": {
        "id": "tvPY0PK5u1GD",
        "colab_type": "code",
        "colab": {
          "base_uri": "https://localhost:8080/",
          "height": 35
        },
        "outputId": "cc642ddf-6d0a-4005-f6d9-ef6444fbf72f"
      },
      "source": [
        "train_btch_size =32\n",
        "test_btch_size = 16\n",
        "\n",
        "train_loader = DataLoader(train_data,batch_size=train_btch_size, shuffle = True,num_workers = 8)\n",
        "test_loader =  DataLoader(test_data,batch_size =test_btch_size ,shuffle = False,num_workers = 8)\n",
        "\n",
        "class_names = full_dataset.classes\n",
        "print(class_names)"
      ],
      "execution_count": 7,
      "outputs": [
        {
          "output_type": "stream",
          "text": [
            "['daisy', 'dandelion', 'rose', 'sunflower', 'tulip']\n"
          ],
          "name": "stdout"
        }
      ]
    },
    {
      "cell_type": "markdown",
      "metadata": {
        "id": "F8DuN2bIq6b-",
        "colab_type": "text"
      },
      "source": [
        "## CNN Model: Pretrained VGG-16"
      ]
    },
    {
      "cell_type": "code",
      "metadata": {
        "id": "M0oDFpoKq1cH",
        "colab_type": "code",
        "colab": {
          "base_uri": "https://localhost:8080/",
          "height": 1000,
          "referenced_widgets": [
            "ae2481ebc2db4ce8a0cbbb09325724e8",
            "3457605a33e546ff84ddbea0431de508",
            "a4c7576529f94aeda587be312555a381",
            "289844505fc241bda52b2aff5062074c",
            "0fa5b97304284c89ad7c36d69ed013f4",
            "8af8be1f8933454faf2af807e484e26d",
            "ee1d2f6b521b475087c56dba9964ca08",
            "85a2375e8dec4adab2d6d79c5b22b8b1"
          ]
        },
        "outputId": "41250822-6a3e-46d5-c8a8-d80b9e844315"
      },
      "source": [
        "VGG16_model = models.vgg16_bn(pretrained=True)\n",
        "\n",
        "# set parameter requires grad ##\n",
        "for param in VGG16_model.parameters():\n",
        "  param.requires_grad = False\n",
        "\n",
        "num_ftrs = VGG16_model.classifier[6].in_features\n",
        "VGG16_model.classifier[6] = nn.Linear(num_ftrs,5) # 5 classes\n",
        "\n",
        "print(VGG16_model)"
      ],
      "execution_count": 8,
      "outputs": [
        {
          "output_type": "stream",
          "text": [
            "Downloading: \"https://download.pytorch.org/models/vgg16_bn-6c64b313.pth\" to /root/.cache/torch/hub/checkpoints/vgg16_bn-6c64b313.pth\n"
          ],
          "name": "stderr"
        },
        {
          "output_type": "display_data",
          "data": {
            "application/vnd.jupyter.widget-view+json": {
              "model_id": "ae2481ebc2db4ce8a0cbbb09325724e8",
              "version_minor": 0,
              "version_major": 2
            },
            "text/plain": [
              "HBox(children=(FloatProgress(value=0.0, max=553507836.0), HTML(value='')))"
            ]
          },
          "metadata": {
            "tags": []
          }
        },
        {
          "output_type": "stream",
          "text": [
            "\n",
            "VGG(\n",
            "  (features): Sequential(\n",
            "    (0): Conv2d(3, 64, kernel_size=(3, 3), stride=(1, 1), padding=(1, 1))\n",
            "    (1): BatchNorm2d(64, eps=1e-05, momentum=0.1, affine=True, track_running_stats=True)\n",
            "    (2): ReLU(inplace=True)\n",
            "    (3): Conv2d(64, 64, kernel_size=(3, 3), stride=(1, 1), padding=(1, 1))\n",
            "    (4): BatchNorm2d(64, eps=1e-05, momentum=0.1, affine=True, track_running_stats=True)\n",
            "    (5): ReLU(inplace=True)\n",
            "    (6): MaxPool2d(kernel_size=2, stride=2, padding=0, dilation=1, ceil_mode=False)\n",
            "    (7): Conv2d(64, 128, kernel_size=(3, 3), stride=(1, 1), padding=(1, 1))\n",
            "    (8): BatchNorm2d(128, eps=1e-05, momentum=0.1, affine=True, track_running_stats=True)\n",
            "    (9): ReLU(inplace=True)\n",
            "    (10): Conv2d(128, 128, kernel_size=(3, 3), stride=(1, 1), padding=(1, 1))\n",
            "    (11): BatchNorm2d(128, eps=1e-05, momentum=0.1, affine=True, track_running_stats=True)\n",
            "    (12): ReLU(inplace=True)\n",
            "    (13): MaxPool2d(kernel_size=2, stride=2, padding=0, dilation=1, ceil_mode=False)\n",
            "    (14): Conv2d(128, 256, kernel_size=(3, 3), stride=(1, 1), padding=(1, 1))\n",
            "    (15): BatchNorm2d(256, eps=1e-05, momentum=0.1, affine=True, track_running_stats=True)\n",
            "    (16): ReLU(inplace=True)\n",
            "    (17): Conv2d(256, 256, kernel_size=(3, 3), stride=(1, 1), padding=(1, 1))\n",
            "    (18): BatchNorm2d(256, eps=1e-05, momentum=0.1, affine=True, track_running_stats=True)\n",
            "    (19): ReLU(inplace=True)\n",
            "    (20): Conv2d(256, 256, kernel_size=(3, 3), stride=(1, 1), padding=(1, 1))\n",
            "    (21): BatchNorm2d(256, eps=1e-05, momentum=0.1, affine=True, track_running_stats=True)\n",
            "    (22): ReLU(inplace=True)\n",
            "    (23): MaxPool2d(kernel_size=2, stride=2, padding=0, dilation=1, ceil_mode=False)\n",
            "    (24): Conv2d(256, 512, kernel_size=(3, 3), stride=(1, 1), padding=(1, 1))\n",
            "    (25): BatchNorm2d(512, eps=1e-05, momentum=0.1, affine=True, track_running_stats=True)\n",
            "    (26): ReLU(inplace=True)\n",
            "    (27): Conv2d(512, 512, kernel_size=(3, 3), stride=(1, 1), padding=(1, 1))\n",
            "    (28): BatchNorm2d(512, eps=1e-05, momentum=0.1, affine=True, track_running_stats=True)\n",
            "    (29): ReLU(inplace=True)\n",
            "    (30): Conv2d(512, 512, kernel_size=(3, 3), stride=(1, 1), padding=(1, 1))\n",
            "    (31): BatchNorm2d(512, eps=1e-05, momentum=0.1, affine=True, track_running_stats=True)\n",
            "    (32): ReLU(inplace=True)\n",
            "    (33): MaxPool2d(kernel_size=2, stride=2, padding=0, dilation=1, ceil_mode=False)\n",
            "    (34): Conv2d(512, 512, kernel_size=(3, 3), stride=(1, 1), padding=(1, 1))\n",
            "    (35): BatchNorm2d(512, eps=1e-05, momentum=0.1, affine=True, track_running_stats=True)\n",
            "    (36): ReLU(inplace=True)\n",
            "    (37): Conv2d(512, 512, kernel_size=(3, 3), stride=(1, 1), padding=(1, 1))\n",
            "    (38): BatchNorm2d(512, eps=1e-05, momentum=0.1, affine=True, track_running_stats=True)\n",
            "    (39): ReLU(inplace=True)\n",
            "    (40): Conv2d(512, 512, kernel_size=(3, 3), stride=(1, 1), padding=(1, 1))\n",
            "    (41): BatchNorm2d(512, eps=1e-05, momentum=0.1, affine=True, track_running_stats=True)\n",
            "    (42): ReLU(inplace=True)\n",
            "    (43): MaxPool2d(kernel_size=2, stride=2, padding=0, dilation=1, ceil_mode=False)\n",
            "  )\n",
            "  (avgpool): AdaptiveAvgPool2d(output_size=(7, 7))\n",
            "  (classifier): Sequential(\n",
            "    (0): Linear(in_features=25088, out_features=4096, bias=True)\n",
            "    (1): ReLU(inplace=True)\n",
            "    (2): Dropout(p=0.5, inplace=False)\n",
            "    (3): Linear(in_features=4096, out_features=4096, bias=True)\n",
            "    (4): ReLU(inplace=True)\n",
            "    (5): Dropout(p=0.5, inplace=False)\n",
            "    (6): Linear(in_features=4096, out_features=5, bias=True)\n",
            "  )\n",
            ")\n"
          ],
          "name": "stdout"
        }
      ]
    },
    {
      "cell_type": "code",
      "metadata": {
        "id": "Tniuv_PwsgDt",
        "colab_type": "code",
        "colab": {
          "base_uri": "https://localhost:8080/",
          "height": 52
        },
        "outputId": "58ef36b2-3ebc-496e-e148-8cef88a29e78"
      },
      "source": [
        "# We are going to use pytorch GPU therefore we need to convert datatypes into .cuda() format\n",
        "from torch.autograd import Variable\n",
        "\n",
        "use_gpu = torch.cuda.is_available()\n",
        "if use_gpu:\n",
        "  print(torch.cuda.device_count())\n",
        "  print(torch.cuda.get_device_name(0))\n",
        "else:\n",
        "  print(\"GPU not avaliable\")"
      ],
      "execution_count": 9,
      "outputs": [
        {
          "output_type": "stream",
          "text": [
            "1\n",
            "Tesla K80\n"
          ],
          "name": "stdout"
        }
      ]
    },
    {
      "cell_type": "code",
      "metadata": {
        "id": "OtTHG9qkt5g-",
        "colab_type": "code",
        "colab": {
          "base_uri": "https://localhost:8080/",
          "height": 52
        },
        "outputId": "0221d80f-84c0-41e3-cd3d-397a59650b92"
      },
      "source": [
        "params_to_update=[]\n",
        "for name,param in VGG16_model.named_parameters():\n",
        "  if param.requires_grad == True:\n",
        "    params_to_update.append(param)\n",
        "    print(\"\\t\",name)\n",
        "\n",
        "# Loss Function\n",
        "if use_gpu:\n",
        "    VGG16_model.cuda() \n",
        "criterion= nn.CrossEntropyLoss()\n",
        "if use_gpu:\n",
        "     criterion = criterion.cuda()\n",
        "\n",
        "# Optimizer\n",
        "optimizer = torch.optim.Adam(params_to_update,lr=0.001)# default betas=(0.9,0.999)"
      ],
      "execution_count": 10,
      "outputs": [
        {
          "output_type": "stream",
          "text": [
            "\t classifier.6.weight\n",
            "\t classifier.6.bias\n"
          ],
          "name": "stdout"
        }
      ]
    },
    {
      "cell_type": "code",
      "metadata": {
        "id": "KAJYKLyct_TB",
        "colab_type": "code",
        "colab": {
          "base_uri": "https://localhost:8080/",
          "height": 941
        },
        "outputId": "bd30bf05-12e4-4fd0-877c-b94f84069972"
      },
      "source": [
        "%%time\n",
        "epochs = 50\n",
        "train_losses =[]\n",
        "test_losses = []\n",
        "train_correct =[]\n",
        "test_correct=[]\n",
        "for epoch in range(epochs):\n",
        "    \n",
        "    trn_corr =0\n",
        "    tst_corr =0\n",
        "    for batch,(X_train,y_train) in enumerate(train_loader):\n",
        "        batch+=1\n",
        "        if torch.cuda.is_available():\n",
        "            X_train = Variable(X_train).cuda()\n",
        "            y_train = Variable(y_train).cuda()\n",
        "        \n",
        "        y_pred = VGG16_model(X_train)\n",
        "        loss   = criterion(y_pred,y_train)\n",
        "        predicted =torch.max(y_pred.data,1)[1]\n",
        "        trn_corr+=(predicted == y_train).sum()\n",
        "        \n",
        "        optimizer.zero_grad()\n",
        "        loss.backward()\n",
        "        optimizer.step()\n",
        "        \n",
        "        if batch%100 ==0:\n",
        "            print(f'epoch:{epoch} batch:{batch} loss:{loss.item()} accuracy:{trn_corr.item()*100/(batch*train_btch_size)}')\n",
        "            \n",
        "        \n",
        "    train_losses.append(loss)\n",
        "    train_correct.append(trn_corr.item()*100/(batch*train_btch_size))\n",
        "    \n",
        "    with torch.no_grad():\n",
        "        for batch,(X_test,y_test) in enumerate(test_loader):\n",
        "            \n",
        "            if torch.cuda.is_available():\n",
        "                X_test = Variable(X_test).cuda()\n",
        "                y_test = Variable(y_test).cuda()\n",
        "\n",
        "            y_val= VGG16_model(X_test)\n",
        "            predicted_test = torch.max(y_val.data,1)[1]\n",
        "            tst_corr +=(predicted_test==y_test).sum()\n",
        "\n",
        "        loss =criterion(y_val,y_test)\n",
        "        test_losses.append(loss)\n",
        "        test_correct.append(tst_corr.item()*100/(batch*test_btch_size))  \n",
        "    "
      ],
      "execution_count": 11,
      "outputs": [
        {
          "output_type": "stream",
          "text": [
            "epoch:0 batch:100 loss:0.39784693717956543 accuracy:75.25\n",
            "epoch:1 batch:100 loss:0.23563891649246216 accuracy:83.9375\n",
            "epoch:2 batch:100 loss:0.7185529470443726 accuracy:83.84375\n",
            "epoch:3 batch:100 loss:0.4367307424545288 accuracy:84.84375\n",
            "epoch:4 batch:100 loss:0.32346755266189575 accuracy:85.34375\n",
            "epoch:5 batch:100 loss:0.36067354679107666 accuracy:85.8125\n",
            "epoch:6 batch:100 loss:0.4392995536327362 accuracy:86.34375\n",
            "epoch:7 batch:100 loss:0.20711834728717804 accuracy:85.6875\n",
            "epoch:8 batch:100 loss:0.2803054451942444 accuracy:86.53125\n",
            "epoch:9 batch:100 loss:0.52076256275177 accuracy:86.15625\n",
            "epoch:10 batch:100 loss:0.6886429786682129 accuracy:86.6875\n",
            "epoch:11 batch:100 loss:0.27282923460006714 accuracy:86.3125\n",
            "epoch:12 batch:100 loss:0.5339343547821045 accuracy:87.0625\n",
            "epoch:13 batch:100 loss:0.30858173966407776 accuracy:87.03125\n",
            "epoch:14 batch:100 loss:0.516018807888031 accuracy:87.21875\n",
            "epoch:15 batch:100 loss:0.3007160425186157 accuracy:87.21875\n",
            "epoch:16 batch:100 loss:0.37548768520355225 accuracy:87.90625\n",
            "epoch:17 batch:100 loss:0.5267751216888428 accuracy:88.03125\n",
            "epoch:18 batch:100 loss:0.20158594846725464 accuracy:87.125\n",
            "epoch:19 batch:100 loss:0.3505297005176544 accuracy:86.53125\n",
            "epoch:20 batch:100 loss:0.23355667293071747 accuracy:86.96875\n",
            "epoch:21 batch:100 loss:0.3927864134311676 accuracy:87.4375\n",
            "epoch:22 batch:100 loss:0.4666263163089752 accuracy:87.25\n",
            "epoch:23 batch:100 loss:0.23733823001384735 accuracy:86.875\n",
            "epoch:24 batch:100 loss:0.30745282769203186 accuracy:87.9375\n",
            "epoch:25 batch:100 loss:0.16854926943778992 accuracy:87.625\n",
            "epoch:26 batch:100 loss:0.24209283292293549 accuracy:85.6875\n",
            "epoch:27 batch:100 loss:0.4185708165168762 accuracy:86.125\n",
            "epoch:28 batch:100 loss:0.08135499805212021 accuracy:87.71875\n",
            "epoch:29 batch:100 loss:0.8014536499977112 accuracy:87.09375\n",
            "epoch:30 batch:100 loss:0.37893566489219666 accuracy:87.5\n",
            "epoch:31 batch:100 loss:0.20861788094043732 accuracy:87.21875\n",
            "epoch:32 batch:100 loss:0.33240967988967896 accuracy:87.21875\n",
            "epoch:33 batch:100 loss:0.3557247817516327 accuracy:87.46875\n",
            "epoch:34 batch:100 loss:0.2430984228849411 accuracy:87.4375\n",
            "epoch:35 batch:100 loss:0.5198106169700623 accuracy:88.03125\n",
            "epoch:36 batch:100 loss:0.26452431082725525 accuracy:87.71875\n",
            "epoch:37 batch:100 loss:0.26522934436798096 accuracy:87.5\n",
            "epoch:38 batch:100 loss:0.375889390707016 accuracy:87.78125\n",
            "epoch:39 batch:100 loss:0.48458755016326904 accuracy:89.5625\n",
            "epoch:40 batch:100 loss:0.31340262293815613 accuracy:88.03125\n",
            "epoch:41 batch:100 loss:0.4253126084804535 accuracy:87.34375\n",
            "epoch:42 batch:100 loss:0.28139758110046387 accuracy:87.625\n",
            "epoch:43 batch:100 loss:0.07739675790071487 accuracy:88.09375\n",
            "epoch:44 batch:100 loss:0.3876963257789612 accuracy:87.96875\n",
            "epoch:45 batch:100 loss:0.46341413259506226 accuracy:87.71875\n",
            "epoch:46 batch:100 loss:0.2841521203517914 accuracy:86.96875\n",
            "epoch:47 batch:100 loss:0.2610164284706116 accuracy:87.65625\n",
            "epoch:48 batch:100 loss:0.29014793038368225 accuracy:86.78125\n",
            "epoch:49 batch:100 loss:0.4395714998245239 accuracy:88.3125\n",
            "CPU times: user 11min 37s, sys: 7min 15s, total: 18min 52s\n",
            "Wall time: 43min 15s\n"
          ],
          "name": "stdout"
        }
      ]
    },
    {
      "cell_type": "code",
      "metadata": {
        "id": "F2wAwrk0uWRo",
        "colab_type": "code",
        "colab": {
          "base_uri": "https://localhost:8080/",
          "height": 995
        },
        "outputId": "024efe12-6d47-4c78-8c97-f74f7833e832"
      },
      "source": [
        "#  Plot train loss and test loss \n",
        "plt.figure(figsize=(12,8))\n",
        "plt.xlabel(\"Epoch\")\n",
        "plt.ylabel(\"Loss\")\n",
        "plt.plot(train_losses,label = 'train loss')\n",
        "plt.plot(test_losses,label  = 'test loss')\n",
        "plt.legend()\n",
        "\n",
        "#  Plot train and test accuracy\n",
        "plt.figure(figsize=(12,8))\n",
        "plt.xlabel(\"Epoch\")\n",
        "plt.ylabel(\"Accuracy(%)\")\n",
        "plt.plot(train_correct,label = 'train correct')\n",
        "plt.plot(test_correct, label = 'test correct')\n",
        "plt.legend()"
      ],
      "execution_count": 12,
      "outputs": [
        {
          "output_type": "execute_result",
          "data": {
            "text/plain": [
              "<matplotlib.legend.Legend at 0x7fbdbe0c3f98>"
            ]
          },
          "metadata": {
            "tags": []
          },
          "execution_count": 12
        },
        {
          "output_type": "display_data",
          "data": {
            "image/png": "[encoded data removed]",
            "text/plain": [
              "<Figure size 864x576 with 1 Axes>"
            ]
          },
          "metadata": {
            "tags": [],
            "needs_background": "light"
          }
        },
        {
          "output_type": "display_data",
          "data": {
            "image/png": "[encoded data removed]",
            "text/plain": [
              "<Figure size 864x576 with 1 Axes>"
            ]
          },
          "metadata": {
            "tags": [],
            "needs_background": "light"
          }
        }
      ]
    }
  ]
}