{
 "cells": [
  {
   "cell_type": "code",
   "execution_count": 1,
   "metadata": {
    "colab": {},
    "colab_type": "code",
    "executionInfo": {
     "elapsed": 1239,
     "status": "ok",
     "timestamp": 1594113118421,
     "user": {
      "displayName": "Dongzhe Jiang",
      "photoUrl": "https://lh3.googleusercontent.com/a-/AOh14GivG6gXnEa42yXg-AmrHUJQB5_2ebpqwatAtCgWlg=s64",
      "userId": "09336877703341732822"
     },
     "user_tz": -60
    },
    "id": "Zj_8RxN6e1QS"
   },
   "outputs": [],
   "source": [
    "import numpy as np\n",
    "import matplotlib.pyplot as plt\n",
    "import torchvision\n",
    "import torch\n",
    "import torch.nn as nn \n",
    "import torch.nn.functional as F\n",
    "from torch.utils.data import DataLoader\n",
    "from torchvision import datasets, transforms, models\n",
    "import cv2\n",
    "import os\n",
    "np.random.seed(0)\n",
    "torch.manual_seed(0)"
   ]
  },
  {
   "cell_type": "markdown",
   "metadata": {
    "colab_type": "text",
    "id": "MLW1Jh2bLwGl"
   },
   "source": [
    "# Check Data Accessment"
   ]
  },
  {
   "cell_type": "code",
   "execution_count": 2,
   "metadata": {
    "colab": {
     "base_uri": "https://localhost:8080/",
     "height": 34
    },
    "colab_type": "code",
    "executionInfo": {
     "elapsed": 985,
     "status": "ok",
     "timestamp": 1594113120442,
     "user": {
      "displayName": "Dongzhe Jiang",
      "photoUrl": "https://lh3.googleusercontent.com/a-/AOh14GivG6gXnEa42yXg-AmrHUJQB5_2ebpqwatAtCgWlg=s64",
      "userId": "09336877703341732822"
     },
     "user_tz": -60
    },
    "id": "4re5owjffL_K",
    "outputId": "be4d7914-f148-4761-f54c-f45d075ef721"
   },
   "outputs": [
    {
     "name": "stdout",
     "output_type": "stream",
     "text": [
      "images len: 4326\n"
     ]
    }
   ],
   "source": [
    "path='E:/Resource/Dataset/Practice/flowers/flowers'\n",
    "\n",
    "img_names = []\n",
    "for folder,_,filenames in os.walk(path):\n",
    "    for img in filenames:\n",
    "        img_names.append(folder+'/'+img)\n",
    "print(\"images len:\",len(img_names))\n"
   ]
  },
  {
   "cell_type": "markdown",
   "metadata": {
    "colab_type": "text",
    "id": "1V6LHV4wLpMz"
   },
   "source": [
    "# Data Augmentation\n",
    "\n"
   ]
  },
  {
   "cell_type": "code",
   "execution_count": 3,
   "metadata": {
    "colab": {},
    "colab_type": "code",
    "executionInfo": {
     "elapsed": 938,
     "status": "ok",
     "timestamp": 1594113123313,
     "user": {
      "displayName": "Dongzhe Jiang",
      "photoUrl": "https://lh3.googleusercontent.com/a-/AOh14GivG6gXnEa42yXg-AmrHUJQB5_2ebpqwatAtCgWlg=s64",
      "userId": "09336877703341732822"
     },
     "user_tz": -60
    },
    "id": "7G6yeJXBfUVA"
   },
   "outputs": [],
   "source": [
    "transform = {\n",
    "    \"train\": transforms.Compose([\n",
    "        transforms.RandomRotation(10),\n",
    "        transforms.RandomHorizontalFlip(),\n",
    "        transforms.ColorJitter(brightness=0.5),\n",
    "        transforms.Resize(224),\n",
    "        transforms.CenterCrop(224),\n",
    "        transforms.ToTensor(),\n",
    "        transforms.Normalize(mean =[0.485,0.456,0.406], std = [0.229,0.224,0.225])\n",
    "    ]),\n",
    "    \"Test\": transforms.Compose({\n",
    "        transforms.Resize(224),\n",
    "        transforms.CenterCrop(224),\n",
    "        transforms.ToTensor(),\n",
    "        transforms.Normalize(mean =[0.485,0.456,0.406], std = [0.229,0.224,0.225])\n",
    "    })\n",
    "}"
   ]
  },
  {
   "cell_type": "code",
   "execution_count": 4,
   "metadata": {
    "colab": {
     "base_uri": "https://localhost:8080/",
     "height": 243
    },
    "colab_type": "code",
    "executionInfo": {
     "elapsed": 850,
     "status": "ok",
     "timestamp": 1594113126615,
     "user": {
      "displayName": "Dongzhe Jiang",
      "photoUrl": "https://lh3.googleusercontent.com/a-/AOh14GivG6gXnEa42yXg-AmrHUJQB5_2ebpqwatAtCgWlg=s64",
      "userId": "09336877703341732822"
     },
     "user_tz": -60
    },
    "id": "4qO4DyWxfkzy",
    "outputId": "b0ccd61e-392c-4640-ce06-c2b81eb73364"
   },
   "outputs": [
    {
     "name": "stdout",
     "output_type": "stream",
     "text": [
      "full dataset: Dataset ImageFolder\n",
      "    Number of datapoints: 4323\n",
      "    Root location: E:/Resource/Dataset/Practice/flowers/flowers\n",
      "    StandardTransform\n",
      "Transform: Compose(\n",
      "               RandomRotation(degrees=(-10, 10), resample=False, expand=False)\n",
      "               RandomHorizontalFlip(p=0.5)\n",
      "               ColorJitter(brightness=[0.5, 1.5], contrast=None, saturation=None, hue=None)\n",
      "               Resize(size=224, interpolation=PIL.Image.BILINEAR)\n",
      "               CenterCrop(size=(224, 224))\n",
      "               ToTensor()\n",
      "               Normalize(mean=[0.485, 0.456, 0.406], std=[0.229, 0.224, 0.225])\n",
      "           )\n"
     ]
    }
   ],
   "source": [
    "full_dataset = datasets.ImageFolder(path,transform=transform[\"train\"])\n",
    "print('full dataset:',full_dataset)"
   ]
  },
  {
   "cell_type": "markdown",
   "metadata": {
    "colab_type": "text",
    "id": "PT66_QFENvhp"
   },
   "source": [
    "# Split train set and test set"
   ]
  },
  {
   "cell_type": "code",
   "execution_count": 5,
   "metadata": {
    "colab": {
     "base_uri": "https://localhost:8080/",
     "height": 51
    },
    "colab_type": "code",
    "executionInfo": {
     "elapsed": 1040,
     "status": "ok",
     "timestamp": 1594113130849,
     "user": {
      "displayName": "Dongzhe Jiang",
      "photoUrl": "https://lh3.googleusercontent.com/a-/AOh14GivG6gXnEa42yXg-AmrHUJQB5_2ebpqwatAtCgWlg=s64",
      "userId": "09336877703341732822"
     },
     "user_tz": -60
    },
    "id": "aGWZbqVAMGei",
    "outputId": "b2c1b49b-52a8-41bd-f92e-495bc9ba4ae2"
   },
   "outputs": [
    {
     "name": "stdout",
     "output_type": "stream",
     "text": [
      "train size: 3458\n",
      "test size: 865\n"
     ]
    }
   ],
   "source": [
    "train_size = int(0.8 * len(full_dataset))\n",
    "test_size = len(full_dataset) - train_size\n",
    "\n",
    "print('train size:',train_size)\n",
    "print('test size:',test_size)\n",
    "train_data, test_data = torch.utils.data.random_split(full_dataset, [train_size, test_size])"
   ]
  },
  {
   "cell_type": "code",
   "execution_count": 6,
   "metadata": {
    "colab": {
     "base_uri": "https://localhost:8080/",
     "height": 34
    },
    "colab_type": "code",
    "executionInfo": {
     "elapsed": 808,
     "status": "ok",
     "timestamp": 1594113133990,
     "user": {
      "displayName": "Dongzhe Jiang",
      "photoUrl": "https://lh3.googleusercontent.com/a-/AOh14GivG6gXnEa42yXg-AmrHUJQB5_2ebpqwatAtCgWlg=s64",
      "userId": "09336877703341732822"
     },
     "user_tz": -60
    },
    "id": "hMs5Uw1XMYJJ",
    "outputId": "49209dd3-c594-460d-e190-62801630ffdb"
   },
   "outputs": [
    {
     "name": "stdout",
     "output_type": "stream",
     "text": [
      "['daisy', 'dandelion', 'rose', 'sunflower', 'tulip']\n"
     ]
    }
   ],
   "source": [
    "train_btch_size =32\n",
    "test_btch_size = 16\n",
    "\n",
    "train_loader = DataLoader(train_data,batch_size=train_btch_size, shuffle = True,num_workers = 8)\n",
    "test_loader =  DataLoader(test_data,batch_size =test_btch_size ,shuffle = False,num_workers = 8)\n",
    "\n",
    "class_names = full_dataset.classes\n",
    "print(class_names)"
   ]
  },
  {
   "cell_type": "markdown",
   "metadata": {
    "colab_type": "text",
    "id": "FssTyRmTNo0f"
   },
   "source": [
    "# CNN"
   ]
  },
  {
   "cell_type": "code",
   "execution_count": 7,
   "metadata": {
    "colab": {},
    "colab_type": "code",
    "id": "KyMwtAdcMknh"
   },
   "outputs": [],
   "source": [
    "class ConvNet(nn.Module):\n",
    "    def __init__(self):\n",
    "        super().__init__()\n",
    "        self.conv1 = nn.Conv2d(3,32,3,1)\n",
    "        self.conv2 = nn.Conv2d(32,64,3,1)\n",
    "        self.conv3 = nn.Conv2d(64,128,3,1)\n",
    "        self.fc1   = nn.Linear(128*26*26,16)\n",
    "        self.fc2   = nn.Linear(16,8)\n",
    "        self.fc3   = nn.Linear(8,5)\n",
    "        \n",
    "    def forward(self,X):\n",
    "        X = nn.Dropout(p=0.5)\n",
    "        X = F.relu(self.conv1(X))\n",
    "        X = F.max_pool2d(X,2,2)\n",
    "        X = nn.Dropout(p=0.5)\n",
    "        X = F.relu(self.conv2(X))\n",
    "        X = F.max_pool2d(X,2,2)\n",
    "        X = F.relu(self.conv3(X))\n",
    "        X = F.max_pool2d(X,2,2)\n",
    "        \n",
    "        X = X.view(-1,128*26*26)\n",
    "        X = F.relu(self.fc1(X))\n",
    "        X = F.relu(self.fc2(X))\n",
    "        X = self.fc3(X)\n",
    "        return F.log_softmax(X,dim =1)"
   ]
  },
  {
   "cell_type": "code",
   "execution_count": 8,
   "metadata": {
    "colab": {},
    "colab_type": "code",
    "executionInfo": {
     "elapsed": 1044,
     "status": "ok",
     "timestamp": 1594113138427,
     "user": {
      "displayName": "Dongzhe Jiang",
      "photoUrl": "https://lh3.googleusercontent.com/a-/AOh14GivG6gXnEa42yXg-AmrHUJQB5_2ebpqwatAtCgWlg=s64",
      "userId": "09336877703341732822"
     },
     "user_tz": -60
    },
    "id": "Ux2TBk_p_K2T"
   },
   "outputs": [],
   "source": [
    "class ConvNet(nn.Module):\n",
    "    def __init__(self):\n",
    "        super().__init__()\n",
    "        self.layer1 = nn.Sequential(\n",
    "            nn.Conv2d(3,32,kernel_size=3,stride=1),\n",
    "            nn.ReLU(),\n",
    "            nn.MaxPool2d(kernel_size=2,stride=2)\n",
    "        )\n",
    "        self.layer2 = nn.Sequential(\n",
    "            nn.Conv2d(32,64,kernel_size=3,stride=1),\n",
    "            nn.ReLU(),\n",
    "            nn.MaxPool2d(kernel_size=2,stride=2)\n",
    "        )\n",
    "        self.layer3 = nn.Sequential(\n",
    "            nn.Conv2d(64,128,kernel_size=3,stride=1),\n",
    "            nn.ReLU(),\n",
    "            nn.MaxPool2d(kernel_size=2,stride=2)\n",
    "        )\n",
    "        self.drop_out = nn.Dropout(p=0.5)\n",
    "        self.fc1   = nn.Linear(128*26*26,1024)\n",
    "        self.fc2   = nn.Linear(1024,5)\n",
    "        \n",
    "    def forward(self,X):\n",
    "        X = self.layer1(X)\n",
    "        X = self.layer2(X)\n",
    "        X = self.layer3(X)\n",
    "        X = X.view(-1,128*26*26)\n",
    "        X = self.drop_out(X)\n",
    "        X = F.relu(self.fc1(X))\n",
    "        X = self.fc2(X)\n",
    "        return F.log_softmax(X,dim =1)"
   ]
  },
  {
   "cell_type": "markdown",
   "metadata": {
    "colab_type": "text",
    "id": "S0iSuTNhNgve"
   },
   "source": [
    "# Check GPU"
   ]
  },
  {
   "cell_type": "code",
   "execution_count": 9,
   "metadata": {
    "colab": {
     "base_uri": "https://localhost:8080/",
     "height": 51
    },
    "colab_type": "code",
    "executionInfo": {
     "elapsed": 875,
     "status": "ok",
     "timestamp": 1594113142123,
     "user": {
      "displayName": "Dongzhe Jiang",
      "photoUrl": "https://lh3.googleusercontent.com/a-/AOh14GivG6gXnEa42yXg-AmrHUJQB5_2ebpqwatAtCgWlg=s64",
      "userId": "09336877703341732822"
     },
     "user_tz": -60
    },
    "id": "lpAabLumMoR2",
    "outputId": "7585dffe-e109-44fc-d5e6-6d1d15e55406"
   },
   "outputs": [
    {
     "name": "stdout",
     "output_type": "stream",
     "text": [
      "1\n",
      "GeForce GTX 1060 with Max-Q Design\n"
     ]
    }
   ],
   "source": [
    "# We are going to use pytorch GPU therefore we need to convert datatypes into .cuda() format\n",
    "from torch.autograd import Variable\n",
    "\n",
    "use_gpu = torch.cuda.is_available()\n",
    "if use_gpu:\n",
    "  print(torch.cuda.device_count())\n",
    "  print(torch.cuda.get_device_name(0))\n",
    "else:\n",
    "  print(\"GPU not avaliable\")"
   ]
  },
  {
   "cell_type": "markdown",
   "metadata": {
    "colab_type": "text",
    "id": "NfyYisQmOuoe"
   },
   "source": [
    "> scheduler stands for learning rate decay.\n"
   ]
  },
  {
   "cell_type": "code",
   "execution_count": 10,
   "metadata": {
    "colab": {
     "base_uri": "https://localhost:8080/",
     "height": 364
    },
    "colab_type": "code",
    "executionInfo": {
     "elapsed": 1319,
     "status": "ok",
     "timestamp": 1594117184723,
     "user": {
      "displayName": "Dongzhe Jiang",
      "photoUrl": "https://lh3.googleusercontent.com/a-/AOh14GivG6gXnEa42yXg-AmrHUJQB5_2ebpqwatAtCgWlg=s64",
      "userId": "09336877703341732822"
     },
     "user_tz": -60
    },
    "id": "pNL8Q9_zNK2m",
    "outputId": "fc756712-fa9f-45f8-f2d9-0a820c244655"
   },
   "outputs": [
    {
     "data": {
      "text/plain": [
       "ConvNet(\n",
       "  (layer1): Sequential(\n",
       "    (0): Conv2d(3, 32, kernel_size=(3, 3), stride=(1, 1))\n",
       "    (1): ReLU()\n",
       "    (2): MaxPool2d(kernel_size=2, stride=2, padding=0, dilation=1, ceil_mode=False)\n",
       "  )\n",
       "  (layer2): Sequential(\n",
       "    (0): Conv2d(32, 64, kernel_size=(3, 3), stride=(1, 1))\n",
       "    (1): ReLU()\n",
       "    (2): MaxPool2d(kernel_size=2, stride=2, padding=0, dilation=1, ceil_mode=False)\n",
       "  )\n",
       "  (layer3): Sequential(\n",
       "    (0): Conv2d(64, 128, kernel_size=(3, 3), stride=(1, 1))\n",
       "    (1): ReLU()\n",
       "    (2): MaxPool2d(kernel_size=2, stride=2, padding=0, dilation=1, ceil_mode=False)\n",
       "  )\n",
       "  (drop_out): Dropout(p=0.5, inplace=False)\n",
       "  (fc1): Linear(in_features=86528, out_features=1024, bias=True)\n",
       "  (fc2): Linear(in_features=1024, out_features=5, bias=True)\n",
       ")"
      ]
     },
     "execution_count": 10,
     "metadata": {},
     "output_type": "execute_result"
    }
   ],
   "source": [
    "CNN_model=ConvNet()\n",
    "if use_gpu:\n",
    "    CNN_model.cuda() \n",
    "criterion= nn.CrossEntropyLoss()\n",
    "if use_gpu:\n",
    "     criterion = criterion.cuda()\n",
    "optimizer = torch.optim.Adam(CNN_model.parameters(),lr=0.0001,weight_decay=0.001)\n",
    "scheduler = torch.optim.lr_scheduler.ExponentialLR(optimizer, gamma = 0.95)\n",
    "CNN_model"
   ]
  },
  {
   "cell_type": "markdown",
   "metadata": {
    "colab_type": "text",
    "id": "nga8A3kBWGes"
   },
   "source": [
    "# Train and Test\n",
    "\n",
    "`trn_corr+=(predicted == y_train).sum()`:<br>\n",
    "`predicted` and `y_train` are matrixs of the same size (normally (1,20)).<br>\n",
    "`np.sum()` will calculate the total number of result that satisfy the condition. \n",
    "[source](https://note.nkmk.me/en/python-numpy-count/)."
   ]
  },
  {
   "cell_type": "code",
   "execution_count": 11,
   "metadata": {
    "colab": {
     "base_uri": "https://localhost:8080/",
     "height": 573
    },
    "colab_type": "code",
    "executionInfo": {
     "elapsed": 1148292,
     "status": "ok",
     "timestamp": 1594118339123,
     "user": {
      "displayName": "Dongzhe Jiang",
      "photoUrl": "https://lh3.googleusercontent.com/a-/AOh14GivG6gXnEa42yXg-AmrHUJQB5_2ebpqwatAtCgWlg=s64",
      "userId": "09336877703341732822"
     },
     "user_tz": -60
    },
    "id": "gyhl_QK7OBvA",
    "outputId": "4d0f16cf-1ead-4c87-c917-43a78efee3b6"
   },
   "outputs": [
    {
     "name": "stdout",
     "output_type": "stream",
     "text": [
      "epoch:0 batch:100 loss:1.0288872718811035 accuracy:44.03125\n",
      "epoch:1 batch:100 loss:1.01798677444458 accuracy:56.0625\n",
      "epoch:2 batch:100 loss:1.2089248895645142 accuracy:61.0\n",
      "epoch:3 batch:100 loss:0.8920818567276001 accuracy:63.46875\n",
      "epoch:4 batch:100 loss:0.9685602188110352 accuracy:64.71875\n",
      "epoch:5 batch:100 loss:0.7419137954711914 accuracy:68.40625\n",
      "epoch:6 batch:100 loss:1.023460030555725 accuracy:69.59375\n",
      "epoch:7 batch:100 loss:0.733253538608551 accuracy:68.375\n",
      "epoch:8 batch:100 loss:0.7581995129585266 accuracy:71.53125\n",
      "epoch:9 batch:100 loss:0.7078260779380798 accuracy:73.53125\n",
      "epoch:10 batch:100 loss:0.7526503801345825 accuracy:74.4375\n",
      "epoch:11 batch:100 loss:0.7127212285995483 accuracy:75.1875\n",
      "epoch:12 batch:100 loss:0.7330888509750366 accuracy:75.34375\n",
      "epoch:13 batch:100 loss:1.0188344717025757 accuracy:77.25\n",
      "epoch:14 batch:100 loss:0.5258365273475647 accuracy:77.1875\n",
      "epoch:15 batch:100 loss:0.49758878350257874 accuracy:79.46875\n",
      "epoch:16 batch:100 loss:0.5788360238075256 accuracy:80.375\n",
      "epoch:17 batch:100 loss:0.5020716190338135 accuracy:79.46875\n",
      "epoch:18 batch:100 loss:0.5337420105934143 accuracy:81.21875\n",
      "epoch:19 batch:100 loss:0.45203903317451477 accuracy:82.21875\n",
      "epoch:20 batch:100 loss:0.5770087838172913 accuracy:83.5625\n",
      "epoch:21 batch:100 loss:0.5564591884613037 accuracy:83.1875\n",
      "epoch:22 batch:100 loss:0.4593728482723236 accuracy:83.78125\n",
      "epoch:23 batch:100 loss:0.5297083258628845 accuracy:84.75\n",
      "epoch:24 batch:100 loss:0.46041354537010193 accuracy:85.34375\n",
      "epoch:25 batch:100 loss:0.48369914293289185 accuracy:85.9375\n",
      "epoch:26 batch:100 loss:0.33868399262428284 accuracy:86.65625\n",
      "epoch:27 batch:100 loss:0.46757879853248596 accuracy:86.40625\n",
      "epoch:28 batch:100 loss:0.23061639070510864 accuracy:86.9375\n",
      "epoch:29 batch:100 loss:0.30020231008529663 accuracy:87.8125\n",
      "epoch:30 batch:100 loss:0.22098395228385925 accuracy:87.40625\n",
      "epoch:31 batch:100 loss:0.2707945704460144 accuracy:88.53125\n",
      "epoch:32 batch:100 loss:0.27647629380226135 accuracy:88.6875\n",
      "epoch:33 batch:100 loss:0.43651342391967773 accuracy:89.0\n",
      "epoch:34 batch:100 loss:0.32158464193344116 accuracy:88.78125\n",
      "epoch:35 batch:100 loss:0.28219103813171387 accuracy:89.90625\n",
      "epoch:36 batch:100 loss:0.24698294699192047 accuracy:89.90625\n",
      "epoch:37 batch:100 loss:0.20089878141880035 accuracy:91.125\n",
      "epoch:38 batch:100 loss:0.28426381945610046 accuracy:90.9375\n",
      "epoch:39 batch:100 loss:0.21946990489959717 accuracy:90.8125\n",
      "Wall time: 31min 20s\n"
     ]
    }
   ],
   "source": [
    "%%time\n",
    "epochs = 40\n",
    "train_losses =[]\n",
    "test_losses = []\n",
    "train_correct =[]\n",
    "test_correct=[]\n",
    "for epoch in range(epochs):\n",
    "    \n",
    "    trn_corr =0\n",
    "    tst_corr =0\n",
    "\n",
    "    for batch,(X_train,y_train) in enumerate(train_loader):\n",
    "        batch+=1\n",
    "        if torch.cuda.is_available():\n",
    "            X_train = Variable(X_train).cuda()\n",
    "            y_train = Variable(y_train).cuda()\n",
    "        \n",
    "        y_pred = CNN_model(X_train)\n",
    "        loss   = criterion(y_pred,y_train)\n",
    "        predicted =torch.max(y_pred.data,1)[1]\n",
    "        trn_corr+=(predicted == y_train).sum()\n",
    "        \n",
    "        optimizer.zero_grad()\n",
    "        loss.backward()\n",
    "        optimizer.step()\n",
    "        \n",
    "        if batch%100 ==0:\n",
    "            print(f'epoch:{epoch} batch:{batch} loss:{loss.item()} accuracy:{trn_corr.item()*100/(batch*train_btch_size)}')\n",
    "            \n",
    "    scheduler.step()    \n",
    "    train_losses.append(loss)\n",
    "    train_correct.append(trn_corr.item()*100/(batch*train_btch_size))\n",
    "    \n",
    "\n",
    "    with torch.no_grad():\n",
    "        for batch,(X_test,y_test) in enumerate(test_loader):\n",
    "            if torch.cuda.is_available():\n",
    "                X_test = Variable(X_test).cuda()\n",
    "                y_test = Variable(y_test).cuda()\n",
    "\n",
    "            y_val= CNN_model(X_test)\n",
    "            predicted_test = torch.max(y_val.data,1)[1]\n",
    "            tst_corr +=(predicted_test==y_test).sum()\n",
    "\n",
    "        loss =criterion(y_val,y_test)\n",
    "        test_losses.append(loss)\n",
    "        test_correct.append(tst_corr.item()*100/(batch*test_btch_size))  \n",
    "    "
   ]
  },
  {
   "cell_type": "markdown",
   "metadata": {
    "colab_type": "text",
    "id": "2RKR2m3fWCBB"
   },
   "source": [
    "# Visualize Result"
   ]
  },
  {
   "cell_type": "code",
   "execution_count": 12,
   "metadata": {
    "colab": {
     "base_uri": "https://localhost:8080/",
     "height": 994
    },
    "colab_type": "code",
    "executionInfo": {
     "elapsed": 1616,
     "status": "ok",
     "timestamp": 1594118352074,
     "user": {
      "displayName": "Dongzhe Jiang",
      "photoUrl": "https://lh3.googleusercontent.com/a-/AOh14GivG6gXnEa42yXg-AmrHUJQB5_2ebpqwatAtCgWlg=s64",
      "userId": "09336877703341732822"
     },
     "user_tz": -60
    },
    "id": "6foDh5s6OKMu",
    "outputId": "a81953bf-9831-4ead-b7cf-a835566949b9"
   },
   "outputs": [
    {
     "data": {
      "text/plain": [
       "<matplotlib.legend.Legend at 0x2e406133f88>"
      ]
     },
     "execution_count": 12,
     "metadata": {},
     "output_type": "execute_result"
    },
    {
     "data": {
      "image/png": "[encoded data removed]",
      "text/plain": [
       "<Figure size 864x576 with 1 Axes>"
      ]
     },
     "metadata": {
      "needs_background": "light"
     },
     "output_type": "display_data"
    },
    {
     "data": {
      "image/png": "[encoded data removed]",
      "text/plain": [
       "<Figure size 864x576 with 1 Axes>"
      ]
     },
     "metadata": {
      "needs_background": "light"
     },
     "output_type": "display_data"
    }
   ],
   "source": [
    "#  Plot train loss and test loss \n",
    "plt.figure(figsize=(12,8))\n",
    "plt.xlabel(\"Epoch\")\n",
    "plt.ylabel(\"Loss\")\n",
    "plt.plot(train_losses,label = 'train loss')\n",
    "plt.plot(test_losses,label  = 'test loss')\n",
    "plt.legend()\n",
    "\n",
    "#  Plot train and test accuracy\n",
    "plt.figure(figsize=(12,8))\n",
    "plt.xlabel(\"Epoch\")\n",
    "plt.ylabel(\"Accuracy(%)\")\n",
    "plt.plot(train_correct,label = 'train correct')\n",
    "plt.plot(test_correct, label = 'test correct')\n",
    "plt.legend()"
   ]
  },
  {
   "cell_type": "markdown",
   "metadata": {
    "colab_type": "text",
    "id": "On9Ice2TZAMA"
   },
   "source": [
    "## Use TensorBoard to visualize"
   ]
  },
  {
   "cell_type": "code",
   "execution_count": null,
   "metadata": {
    "colab": {},
    "colab_type": "code",
    "id": "-Hzt68gweWkC"
   },
   "outputs": [],
   "source": []
  }
 ],
 "metadata": {
  "accelerator": "GPU",
  "colab": {
   "authorship_tag": "ABX9TyPRLtt/N8It0AnaKR4Tjonf",
   "mount_file_id": "1-ayGhkxkUS5bfxSCG__VnzTiyAT2MBNC",
   "name": "pytorch8.ipynb",
   "provenance": []
  },
  "kernelspec": {
   "display_name": "Python 3",
   "language": "python",
   "name": "python3"
  },
  "language_info": {
   "codemirror_mode": {
    "name": "ipython",
    "version": 3
   },
   "file_extension": ".py",
   "mimetype": "text/x-python",
   "name": "python",
   "nbconvert_exporter": "python",
   "pygments_lexer": "ipython3",
   "version": "3.7.7"
  }
 },
 "nbformat": 4,
 "nbformat_minor": 1
}
