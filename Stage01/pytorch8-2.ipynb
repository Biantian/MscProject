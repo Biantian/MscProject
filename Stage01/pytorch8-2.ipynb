{
  "nbformat": 4,
  "nbformat_minor": 0,
  "metadata": {
    "colab": {
      "name": "pytorch8.ipynb",
      "provenance": [],
      "collapsed_sections": []
    },
    "kernelspec": {
      "name": "python3",
      "display_name": "Python 3"
    },
    "accelerator": "GPU"
  },
  "cells": [
    {
      "cell_type": "code",
      "metadata": {
        "id": "tw41BqBTHip4",
        "colab_type": "code",
        "colab": {
          "base_uri": "https://localhost:8080/",
          "height": 35
        },
        "outputId": "e1521f0c-906e-43b5-d607-d14b0f2260a1"
      },
      "source": [
        "from google.colab import drive\n",
        "drive.mount('/content/drive/')"
      ],
      "execution_count": 1,
      "outputs": [
        {
          "output_type": "stream",
          "text": [
            "Drive already mounted at /content/drive/; to attempt to forcibly remount, call drive.mount(\"/content/drive/\", force_remount=True).\n"
          ],
          "name": "stdout"
        }
      ]
    },
    {
      "cell_type": "code",
      "metadata": {
        "id": "Zj_8RxN6e1QS",
        "colab_type": "code",
        "colab": {
          "base_uri": "https://localhost:8080/",
          "height": 35
        },
        "outputId": "6c8e9d22-7ac0-4758-e32e-3cd1b232211a"
      },
      "source": [
        "import numpy as np\n",
        "import matplotlib.pyplot as plt\n",
        "import torchvision\n",
        "import torch\n",
        "import torch.nn as nn \n",
        "import torch.nn.functional as F\n",
        "from torch.utils.data import DataLoader\n",
        "from torchvision import datasets, transforms, models\n",
        "import cv2\n",
        "import os\n",
        "np.random.seed(0)\n",
        "torch.manual_seed(0)"
      ],
      "execution_count": 2,
      "outputs": [
        {
          "output_type": "execute_result",
          "data": {
            "text/plain": [
              "<torch._C.Generator at 0x7f18742c0168>"
            ]
          },
          "metadata": {
            "tags": []
          },
          "execution_count": 2
        }
      ]
    },
    {
      "cell_type": "markdown",
      "metadata": {
        "id": "MLW1Jh2bLwGl",
        "colab_type": "text"
      },
      "source": [
        "# Check Data Accessment"
      ]
    },
    {
      "cell_type": "code",
      "metadata": {
        "id": "4re5owjffL_K",
        "colab_type": "code",
        "colab": {
          "base_uri": "https://localhost:8080/",
          "height": 35
        },
        "outputId": "ebb4ec01-3d5d-4faf-973a-0c657b3ea07e"
      },
      "source": [
        "path='/content/drive/My Drive/Colab Notebooks/Data/flowers/flowers/'\n",
        "\n",
        "img_names = []\n",
        "for folder,_,filenames in os.walk(path):\n",
        "    for img in filenames:\n",
        "        img_names.append(folder+'/'+img)\n",
        "print(\"images len:\",len(img_names))\n"
      ],
      "execution_count": 3,
      "outputs": [
        {
          "output_type": "stream",
          "text": [
            "images len: 4326\n"
          ],
          "name": "stdout"
        }
      ]
    },
    {
      "cell_type": "markdown",
      "metadata": {
        "id": "1V6LHV4wLpMz",
        "colab_type": "text"
      },
      "source": [
        "# Data Augmentation\n",
        "\n"
      ]
    },
    {
      "cell_type": "code",
      "metadata": {
        "id": "7G6yeJXBfUVA",
        "colab_type": "code",
        "colab": {}
      },
      "source": [
        "transform = {\n",
        "    \"train\": transforms.Compose([\n",
        "        transforms.RandomRotation(10),\n",
        "        transforms.RandomHorizontalFlip(),\n",
        "        transforms.ColorJitter(brightness=0.5),\n",
        "        transforms.Resize(224),\n",
        "        transforms.CenterCrop(224),\n",
        "        transforms.ToTensor(),\n",
        "        transforms.Normalize(mean =[0.485,0.456,0.406], std = [0.229,0.224,0.225])\n",
        "    ]),\n",
        "    \"Test\": transforms.Compose({\n",
        "        transforms.Resize(224),\n",
        "        transforms.CenterCrop(224),\n",
        "        transforms.ToTensor(),\n",
        "        transforms.Normalize(mean =[0.485,0.456,0.406], std = [0.229,0.224,0.225])\n",
        "    })\n",
        "}"
      ],
      "execution_count": 4,
      "outputs": []
    },
    {
      "cell_type": "code",
      "metadata": {
        "id": "4qO4DyWxfkzy",
        "colab_type": "code",
        "colab": {
          "base_uri": "https://localhost:8080/",
          "height": 248
        },
        "outputId": "ff64c6c6-65be-4a2d-dbb6-85864a72fb55"
      },
      "source": [
        "root='/content/drive/My Drive/Colab Notebooks/Data/flowers/'\n",
        "\n",
        "full_dataset = datasets.ImageFolder(os.path.join(root,'flowers'),transform=transform[\"train\"])\n",
        "print('full dataset:',full_dataset)"
      ],
      "execution_count": 5,
      "outputs": [
        {
          "output_type": "stream",
          "text": [
            "full dataset: Dataset ImageFolder\n",
            "    Number of datapoints: 4323\n",
            "    Root location: /content/drive/My Drive/Colab Notebooks/Data/flowers/flowers\n",
            "    StandardTransform\n",
            "Transform: Compose(\n",
            "               RandomRotation(degrees=(-10, 10), resample=False, expand=False)\n",
            "               RandomHorizontalFlip(p=0.5)\n",
            "               ColorJitter(brightness=[0.5, 1.5], contrast=None, saturation=None, hue=None)\n",
            "               Resize(size=224, interpolation=PIL.Image.BILINEAR)\n",
            "               CenterCrop(size=(224, 224))\n",
            "               ToTensor()\n",
            "               Normalize(mean=[0.485, 0.456, 0.406], std=[0.229, 0.224, 0.225])\n",
            "           )\n"
          ],
          "name": "stdout"
        }
      ]
    },
    {
      "cell_type": "markdown",
      "metadata": {
        "id": "PT66_QFENvhp",
        "colab_type": "text"
      },
      "source": [
        "# Split train set and test set"
      ]
    },
    {
      "cell_type": "code",
      "metadata": {
        "id": "aGWZbqVAMGei",
        "colab_type": "code",
        "colab": {
          "base_uri": "https://localhost:8080/",
          "height": 52
        },
        "outputId": "6c971dd8-c532-446e-d6d1-50735c50446d"
      },
      "source": [
        "train_size = int(0.8 * len(full_dataset))\n",
        "test_size = len(full_dataset) - train_size\n",
        "\n",
        "print('train size:',train_size)\n",
        "print('test size:',test_size)\n",
        "train_data, test_data = torch.utils.data.random_split(full_dataset, [train_size, test_size])"
      ],
      "execution_count": 6,
      "outputs": [
        {
          "output_type": "stream",
          "text": [
            "train size: 3458\n",
            "test size: 865\n"
          ],
          "name": "stdout"
        }
      ]
    },
    {
      "cell_type": "code",
      "metadata": {
        "id": "hMs5Uw1XMYJJ",
        "colab_type": "code",
        "colab": {
          "base_uri": "https://localhost:8080/",
          "height": 35
        },
        "outputId": "1471d985-2cad-457d-b94d-33813538eb0a"
      },
      "source": [
        "train_btch_size =32\n",
        "test_btch_size = 16\n",
        "\n",
        "train_loader = DataLoader(train_data,batch_size=train_btch_size, shuffle = True,num_workers = 8)\n",
        "test_loader =  DataLoader(test_data,batch_size =test_btch_size ,shuffle = False,num_workers = 8)\n",
        "\n",
        "class_names = full_dataset.classes\n",
        "print(class_names)"
      ],
      "execution_count": 7,
      "outputs": [
        {
          "output_type": "stream",
          "text": [
            "['daisy', 'dandelion', 'rose', 'sunflower', 'tulip']\n"
          ],
          "name": "stdout"
        }
      ]
    },
    {
      "cell_type": "markdown",
      "metadata": {
        "id": "FssTyRmTNo0f",
        "colab_type": "text"
      },
      "source": [
        "# CNN"
      ]
    },
    {
      "cell_type": "code",
      "metadata": {
        "id": "KyMwtAdcMknh",
        "colab_type": "code",
        "colab": {}
      },
      "source": [
        "class ConvNet(nn.Module):\n",
        "    def __init__(self):\n",
        "        super().__init__()\n",
        "        self.conv1 = nn.Conv2d(3,32,3,1)\n",
        "        self.conv2 = nn.Conv2d(32,64,3,1)\n",
        "        self.conv3 = nn.Conv2d(64,128,3,1)\n",
        "        self.fc1   = nn.Linear(128*26*26,16)\n",
        "        self.fc2   = nn.Linear(16,8)\n",
        "        self.fc3   = nn.Linear(8,5)\n",
        "        \n",
        "    def forward(self,X):\n",
        "        X = nn.Dropout(p=0.5)\n",
        "        X = F.relu(self.conv1(X))\n",
        "        X = F.max_pool2d(X,2,2)\n",
        "        X = nn.Dropout(p=0.5)\n",
        "        X = F.relu(self.conv2(X))\n",
        "        X = F.max_pool2d(X,2,2)\n",
        "        X = F.relu(self.conv3(X))\n",
        "        X = F.max_pool2d(X,2,2)\n",
        "        \n",
        "        X = X.view(-1,128*26*26)\n",
        "        X = F.relu(self.fc1(X))\n",
        "        X = F.relu(self.fc2(X))\n",
        "        X = self.fc3(X)\n",
        "        return F.log_softmax(X,dim =1)"
      ],
      "execution_count": 8,
      "outputs": []
    },
    {
      "cell_type": "code",
      "metadata": {
        "id": "Ux2TBk_p_K2T",
        "colab_type": "code",
        "colab": {}
      },
      "source": [
        "class ConvNet(nn.Module):\n",
        "    def __init__(self):\n",
        "        super().__init__()\n",
        "        self.layer1 = nn.Sequential(\n",
        "            nn.Conv2d(3,32,kernel_size=3,stride=1),\n",
        "            nn.ReLU(),\n",
        "            nn.MaxPool2d(kernel_size=2,stride=2)\n",
        "        )\n",
        "        self.layer2 = nn.Sequential(\n",
        "            nn.Conv2d(32,64,kernel_size=3,stride=1),\n",
        "            nn.ReLU(),\n",
        "            nn.MaxPool2d(kernel_size=2,stride=2)\n",
        "        )\n",
        "        self.layer3 = nn.Sequential(\n",
        "            nn.Conv2d(64,128,kernel_size=3,stride=1),\n",
        "            nn.ReLU(),\n",
        "            nn.MaxPool2d(kernel_size=2,stride=2)\n",
        "        )\n",
        "        self.drop_out = nn.Dropout(p=0.5)\n",
        "        self.fc1   = nn.Linear(128*26*26,1024)\n",
        "        self.fc2   = nn.Linear(1024,5)\n",
        "        \n",
        "    def forward(self,X):\n",
        "        X = self.layer1(X)\n",
        "        X = self.layer2(X)\n",
        "        X = self.layer3(X)\n",
        "        X = X.view(-1,128*26*26)\n",
        "        X = self.drop_out(X)\n",
        "        X = F.relu(self.fc1(X))\n",
        "        X = self.fc2(X)\n",
        "        return F.log_softmax(X,dim =1)"
      ],
      "execution_count": 9,
      "outputs": []
    },
    {
      "cell_type": "markdown",
      "metadata": {
        "id": "S0iSuTNhNgve",
        "colab_type": "text"
      },
      "source": [
        "# Check GPU"
      ]
    },
    {
      "cell_type": "code",
      "metadata": {
        "id": "lpAabLumMoR2",
        "colab_type": "code",
        "colab": {
          "base_uri": "https://localhost:8080/",
          "height": 52
        },
        "outputId": "46bf3525-cce2-41ae-b836-cce4e52a7c63"
      },
      "source": [
        "# We are going to use pytorch GPU therefore we need to convert datatypes into .cuda() format\n",
        "from torch.autograd import Variable\n",
        "\n",
        "use_gpu = torch.cuda.is_available()\n",
        "if use_gpu:\n",
        "  print(torch.cuda.device_count())\n",
        "  print(torch.cuda.get_device_name(0))\n",
        "else:\n",
        "  print(\"GPU not avaliable\")"
      ],
      "execution_count": 10,
      "outputs": [
        {
          "output_type": "stream",
          "text": [
            "1\n",
            "Tesla P100-PCIE-16GB\n"
          ],
          "name": "stdout"
        }
      ]
    },
    {
      "cell_type": "markdown",
      "metadata": {
        "id": "NfyYisQmOuoe",
        "colab_type": "text"
      },
      "source": [
        "> scheduler stands for learning rate decay.\n"
      ]
    },
    {
      "cell_type": "code",
      "metadata": {
        "id": "pNL8Q9_zNK2m",
        "colab_type": "code",
        "colab": {
          "base_uri": "https://localhost:8080/",
          "height": 372
        },
        "outputId": "dea1adc5-2fee-4aac-d52f-cf7d99714751"
      },
      "source": [
        "CNN_model=ConvNet()\n",
        "if use_gpu:\n",
        "    CNN_model.cuda() \n",
        "criterion= nn.CrossEntropyLoss()\n",
        "if use_gpu:\n",
        "     criterion = criterion.cuda()\n",
        "optimizer = torch.optim.Adam(CNN_model.parameters(),lr=0.0001,weight_decay=0.001)\n",
        "scheduler = torch.optim.lr_scheduler.ExponentialLR(optimizer, gamma = 0.95)\n",
        "CNN_model"
      ],
      "execution_count": 11,
      "outputs": [
        {
          "output_type": "execute_result",
          "data": {
            "text/plain": [
              "ConvNet(\n",
              "  (layer1): Sequential(\n",
              "    (0): Conv2d(3, 32, kernel_size=(3, 3), stride=(1, 1))\n",
              "    (1): ReLU()\n",
              "    (2): MaxPool2d(kernel_size=2, stride=2, padding=0, dilation=1, ceil_mode=False)\n",
              "  )\n",
              "  (layer2): Sequential(\n",
              "    (0): Conv2d(32, 64, kernel_size=(3, 3), stride=(1, 1))\n",
              "    (1): ReLU()\n",
              "    (2): MaxPool2d(kernel_size=2, stride=2, padding=0, dilation=1, ceil_mode=False)\n",
              "  )\n",
              "  (layer3): Sequential(\n",
              "    (0): Conv2d(64, 128, kernel_size=(3, 3), stride=(1, 1))\n",
              "    (1): ReLU()\n",
              "    (2): MaxPool2d(kernel_size=2, stride=2, padding=0, dilation=1, ceil_mode=False)\n",
              "  )\n",
              "  (drop_out): Dropout(p=0.5, inplace=False)\n",
              "  (fc1): Linear(in_features=86528, out_features=1024, bias=True)\n",
              "  (fc2): Linear(in_features=1024, out_features=5, bias=True)\n",
              ")"
            ]
          },
          "metadata": {
            "tags": []
          },
          "execution_count": 11
        }
      ]
    },
    {
      "cell_type": "markdown",
      "metadata": {
        "id": "nga8A3kBWGes",
        "colab_type": "text"
      },
      "source": [
        "# Train and Test\n",
        "\n",
        "`trn_corr+=(predicted == y_train).sum()`:<br>\n",
        "`predicted` and `y_train` are matrixs of the same size (normally (1,20)).<br>\n",
        "`np.sum()` will calculate the total number of result that satisfy the condition. \n",
        "[source](https://note.nkmk.me/en/python-numpy-count/)."
      ]
    },
    {
      "cell_type": "code",
      "metadata": {
        "id": "gyhl_QK7OBvA",
        "colab_type": "code",
        "colab": {
          "base_uri": "https://localhost:8080/",
          "height": 1000
        },
        "outputId": "d07f4b08-a951-4424-8044-7295f7b43c01"
      },
      "source": [
        "%%time\n",
        "epochs = 100\n",
        "train_losses =[]\n",
        "test_losses = []\n",
        "train_correct =[]\n",
        "test_correct=[]\n",
        "for epoch in range(epochs):\n",
        "    \n",
        "    trn_corr =0\n",
        "    tst_corr =0\n",
        "\n",
        "    for batch,(X_train,y_train) in enumerate(train_loader):\n",
        "        batch+=1\n",
        "        if torch.cuda.is_available():\n",
        "            X_train = Variable(X_train).cuda()\n",
        "            y_train = Variable(y_train).cuda()\n",
        "        \n",
        "        y_pred = CNN_model(X_train)\n",
        "        loss   = criterion(y_pred,y_train)\n",
        "        predicted =torch.max(y_pred.data,1)[1]\n",
        "        trn_corr+=(predicted == y_train).sum()\n",
        "        \n",
        "        optimizer.zero_grad()\n",
        "        loss.backward()\n",
        "        optimizer.step()\n",
        "        \n",
        "        if batch%100 ==0:\n",
        "            print(f'epoch:{epoch} batch:{batch} loss:{loss.item()} accuracy:{trn_corr.item()*100/(batch*train_btch_size)}')\n",
        "            \n",
        "    scheduler.step()    \n",
        "    train_losses.append(loss)\n",
        "    train_correct.append(trn_corr.item()*100/(batch*train_btch_size))\n",
        "    \n",
        "\n",
        "    with torch.no_grad():\n",
        "        for batch,(X_test,y_test) in enumerate(test_loader):\n",
        "            if torch.cuda.is_available():\n",
        "                X_test = Variable(X_test).cuda()\n",
        "                y_test = Variable(y_test).cuda()\n",
        "\n",
        "            y_val= CNN_model(X_test)\n",
        "            predicted_test = torch.max(y_val.data,1)[1]\n",
        "            tst_corr +=(predicted_test==y_test).sum()\n",
        "\n",
        "        loss =criterion(y_val,y_test)\n",
        "        test_losses.append(loss)\n",
        "        test_correct.append(tst_corr.item()*100/(batch*test_btch_size))  \n",
        "    "
      ],
      "execution_count": 12,
      "outputs": [
        {
          "output_type": "stream",
          "text": [
            "epoch:0 batch:100 loss:1.0153858661651611 accuracy:42.65625\n",
            "epoch:1 batch:100 loss:0.9761195778846741 accuracy:54.53125\n",
            "epoch:2 batch:100 loss:0.9183287620544434 accuracy:60.53125\n",
            "epoch:3 batch:100 loss:0.6097550988197327 accuracy:63.5\n",
            "epoch:4 batch:100 loss:0.951274573802948 accuracy:65.34375\n",
            "epoch:5 batch:100 loss:0.67368483543396 accuracy:66.875\n",
            "epoch:6 batch:100 loss:0.8848186135292053 accuracy:68.9375\n",
            "epoch:7 batch:100 loss:0.7243707180023193 accuracy:70.3125\n",
            "epoch:8 batch:100 loss:0.7584807872772217 accuracy:70.71875\n",
            "epoch:9 batch:100 loss:0.8510032296180725 accuracy:71.78125\n",
            "epoch:10 batch:100 loss:0.5959534645080566 accuracy:73.46875\n",
            "epoch:11 batch:100 loss:0.48525816202163696 accuracy:74.625\n",
            "epoch:12 batch:100 loss:1.1341185569763184 accuracy:74.4375\n",
            "epoch:13 batch:100 loss:0.7970590591430664 accuracy:75.65625\n",
            "epoch:14 batch:100 loss:0.6476244926452637 accuracy:76.65625\n",
            "epoch:15 batch:100 loss:0.924462080001831 accuracy:77.21875\n",
            "epoch:16 batch:100 loss:0.8827638030052185 accuracy:77.90625\n",
            "epoch:17 batch:100 loss:0.7534051537513733 accuracy:79.09375\n",
            "epoch:18 batch:100 loss:0.5607590079307556 accuracy:79.78125\n",
            "epoch:19 batch:100 loss:0.6473377346992493 accuracy:80.4375\n",
            "epoch:20 batch:100 loss:0.641958475112915 accuracy:79.96875\n",
            "epoch:21 batch:100 loss:0.5069576501846313 accuracy:81.46875\n",
            "epoch:22 batch:100 loss:0.519737184047699 accuracy:83.125\n",
            "epoch:23 batch:100 loss:0.3314380645751953 accuracy:82.53125\n",
            "epoch:24 batch:100 loss:0.8370292782783508 accuracy:83.53125\n",
            "epoch:25 batch:100 loss:0.5139943361282349 accuracy:83.53125\n",
            "epoch:26 batch:100 loss:0.6103135943412781 accuracy:84.625\n",
            "epoch:27 batch:100 loss:0.4834671914577484 accuracy:84.0625\n",
            "epoch:28 batch:100 loss:0.3544069528579712 accuracy:85.34375\n",
            "epoch:29 batch:100 loss:0.44436004757881165 accuracy:85.15625\n",
            "epoch:30 batch:100 loss:0.5492319464683533 accuracy:86.28125\n",
            "epoch:31 batch:100 loss:0.30405643582344055 accuracy:85.53125\n",
            "epoch:32 batch:100 loss:0.3123323321342468 accuracy:86.5\n",
            "epoch:33 batch:100 loss:0.5212289690971375 accuracy:87.4375\n",
            "epoch:34 batch:100 loss:0.49094876646995544 accuracy:86.78125\n",
            "epoch:35 batch:100 loss:0.3254789710044861 accuracy:87.0\n",
            "epoch:36 batch:100 loss:0.2637118101119995 accuracy:86.71875\n",
            "epoch:37 batch:100 loss:0.3993757367134094 accuracy:87.65625\n",
            "epoch:38 batch:100 loss:0.3494628071784973 accuracy:88.28125\n",
            "epoch:39 batch:100 loss:0.49197670817375183 accuracy:88.46875\n",
            "epoch:40 batch:100 loss:0.17678506672382355 accuracy:88.875\n",
            "epoch:41 batch:100 loss:0.2745968997478485 accuracy:88.53125\n",
            "epoch:42 batch:100 loss:0.18634405732154846 accuracy:89.03125\n",
            "epoch:43 batch:100 loss:0.2708243727684021 accuracy:89.53125\n",
            "epoch:44 batch:100 loss:0.29558682441711426 accuracy:89.28125\n",
            "epoch:45 batch:100 loss:0.2632655203342438 accuracy:89.28125\n",
            "epoch:46 batch:100 loss:0.25105252861976624 accuracy:89.5625\n",
            "epoch:47 batch:100 loss:0.2337018847465515 accuracy:89.21875\n",
            "epoch:48 batch:100 loss:0.3714289665222168 accuracy:90.28125\n",
            "epoch:49 batch:100 loss:0.38141265511512756 accuracy:89.65625\n",
            "epoch:50 batch:100 loss:0.3023201525211334 accuracy:90.53125\n",
            "epoch:51 batch:100 loss:0.35346630215644836 accuracy:91.0\n",
            "epoch:52 batch:100 loss:0.3263413906097412 accuracy:90.59375\n",
            "epoch:53 batch:100 loss:0.2605209946632385 accuracy:90.78125\n",
            "epoch:54 batch:100 loss:0.28534939885139465 accuracy:90.625\n",
            "epoch:55 batch:100 loss:0.27716079354286194 accuracy:90.6875\n",
            "epoch:56 batch:100 loss:0.20404189825057983 accuracy:90.78125\n",
            "epoch:57 batch:100 loss:0.32052043080329895 accuracy:90.84375\n",
            "epoch:58 batch:100 loss:0.23404811322689056 accuracy:91.1875\n",
            "epoch:59 batch:100 loss:0.2331058531999588 accuracy:91.25\n",
            "epoch:60 batch:100 loss:0.2095940262079239 accuracy:91.625\n",
            "epoch:61 batch:100 loss:0.25954803824424744 accuracy:91.40625\n",
            "epoch:62 batch:100 loss:0.391923725605011 accuracy:91.46875\n",
            "epoch:63 batch:100 loss:0.13143432140350342 accuracy:91.65625\n",
            "epoch:64 batch:100 loss:0.33488577604293823 accuracy:91.6875\n",
            "epoch:65 batch:100 loss:0.20512007176876068 accuracy:91.71875\n",
            "epoch:66 batch:100 loss:0.2580512762069702 accuracy:92.0625\n",
            "epoch:67 batch:100 loss:0.25077682733535767 accuracy:91.5625\n",
            "epoch:68 batch:100 loss:0.14978352189064026 accuracy:91.25\n",
            "epoch:69 batch:100 loss:0.22475343942642212 accuracy:91.46875\n",
            "epoch:70 batch:100 loss:0.3903440237045288 accuracy:92.0625\n",
            "epoch:71 batch:100 loss:0.12331695109605789 accuracy:91.9375\n",
            "epoch:72 batch:100 loss:0.2617195248603821 accuracy:91.875\n",
            "epoch:73 batch:100 loss:0.2534435987472534 accuracy:91.46875\n",
            "epoch:74 batch:100 loss:0.39545345306396484 accuracy:91.96875\n",
            "epoch:75 batch:100 loss:0.23770806193351746 accuracy:92.25\n",
            "epoch:76 batch:100 loss:0.39468473196029663 accuracy:91.375\n",
            "epoch:77 batch:100 loss:0.2737855315208435 accuracy:91.8125\n",
            "epoch:78 batch:100 loss:0.22919899225234985 accuracy:92.84375\n",
            "epoch:79 batch:100 loss:0.2789445221424103 accuracy:92.4375\n",
            "epoch:80 batch:100 loss:0.14955945312976837 accuracy:92.90625\n",
            "epoch:81 batch:100 loss:0.26607099175453186 accuracy:92.59375\n",
            "epoch:82 batch:100 loss:0.2590748071670532 accuracy:92.34375\n",
            "epoch:83 batch:100 loss:0.3590955138206482 accuracy:92.125\n",
            "epoch:84 batch:100 loss:0.2137913703918457 accuracy:92.1875\n",
            "epoch:85 batch:100 loss:0.17400339245796204 accuracy:92.4375\n",
            "epoch:86 batch:100 loss:0.31277933716773987 accuracy:92.9375\n",
            "epoch:87 batch:100 loss:0.1765151470899582 accuracy:92.875\n",
            "epoch:88 batch:100 loss:0.22180047631263733 accuracy:91.875\n",
            "epoch:89 batch:100 loss:0.317568302154541 accuracy:92.0\n",
            "epoch:90 batch:100 loss:0.27493515610694885 accuracy:92.25\n",
            "epoch:91 batch:100 loss:0.25880667567253113 accuracy:92.78125\n",
            "epoch:92 batch:100 loss:0.23935241997241974 accuracy:92.78125\n",
            "epoch:93 batch:100 loss:0.24534378945827484 accuracy:92.6875\n",
            "epoch:94 batch:100 loss:0.19131183624267578 accuracy:92.125\n",
            "epoch:95 batch:100 loss:0.2312655746936798 accuracy:92.25\n",
            "epoch:96 batch:100 loss:0.24765285849571228 accuracy:92.9375\n",
            "epoch:97 batch:100 loss:0.23962393403053284 accuracy:92.78125\n",
            "epoch:98 batch:100 loss:0.29761427640914917 accuracy:91.8125\n",
            "epoch:99 batch:100 loss:0.11633733659982681 accuracy:93.0\n",
            "CPU times: user 3min 27s, sys: 2min 14s, total: 5min 41s\n",
            "Wall time: 59min 7s\n"
          ],
          "name": "stdout"
        }
      ]
    },
    {
      "cell_type": "markdown",
      "metadata": {
        "id": "2RKR2m3fWCBB",
        "colab_type": "text"
      },
      "source": [
        "# Visualize Result"
      ]
    },
    {
      "cell_type": "code",
      "metadata": {
        "id": "6foDh5s6OKMu",
        "colab_type": "code",
        "colab": {
          "base_uri": "https://localhost:8080/",
          "height": 995
        },
        "outputId": "115e76bf-25ce-4723-b6ce-ba28b0e75deb"
      },
      "source": [
        "#  Plot train loss and test loss \n",
        "plt.figure(figsize=(12,8))\n",
        "plt.xlabel(\"Epoch\")\n",
        "plt.ylabel(\"Loss\")\n",
        "plt.plot(train_losses,label = 'train loss')\n",
        "plt.plot(test_losses,label  = 'test loss')\n",
        "plt.legend()\n",
        "\n",
        "#  Plot train and test accuracy\n",
        "plt.figure(figsize=(12,8))\n",
        "plt.xlabel(\"Epoch\")\n",
        "plt.ylabel(\"Accuracy(%)\")\n",
        "plt.plot(train_correct,label = 'train correct')\n",
        "plt.plot(test_correct, label = 'test correct')\n",
        "plt.legend()"
      ],
      "execution_count": 13,
      "outputs": [
        {
          "output_type": "execute_result",
          "data": {
            "text/plain": [
              "<matplotlib.legend.Legend at 0x7f18174353c8>"
            ]
          },
          "metadata": {
            "tags": []
          },
          "execution_count": 13
        },
        {
          "output_type": "display_data",
          "data": {
            "image/png": "[encoded data removed]",
            "text/plain": [
              "<Figure size 864x576 with 1 Axes>"
            ]
          },
          "metadata": {
            "tags": [],
            "needs_background": "light"
          }
        },
        {
          "output_type": "display_data",
          "data": {
            "image/png": "[encoded data removed]",
            "text/plain": [
              "<Figure size 864x576 with 1 Axes>"
            ]
          },
          "metadata": {
            "tags": [],
            "needs_background": "light"
          }
        }
      ]
    },
    {
      "cell_type": "markdown",
      "metadata": {
        "id": "On9Ice2TZAMA",
        "colab_type": "text"
      },
      "source": [
        "## Use TensorBoard to visualize"
      ]
    },
    {
      "cell_type": "code",
      "metadata": {
        "id": "-Hzt68gweWkC",
        "colab_type": "code",
        "colab": {}
      },
      "source": [
        ""
      ],
      "execution_count": 13,
      "outputs": []
    }
  ]
}