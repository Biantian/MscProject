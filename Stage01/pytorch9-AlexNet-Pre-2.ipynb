{
  "nbformat": 4,
  "nbformat_minor": 0,
  "metadata": {
    "colab": {
      "name": "pytorch9-AlexNet-Pre.ipynb",
      "provenance": [],
      "collapsed_sections": []
    },
    "kernelspec": {
      "name": "python3",
      "display_name": "Python 3"
    },
    "accelerator": "GPU"
  },
  "cells": [
    {
      "cell_type": "code",
      "metadata": {
        "id": "v2XUq6ujZbYA",
        "colab_type": "code",
        "colab": {
          "base_uri": "https://localhost:8080/",
          "height": 35
        },
        "outputId": "c8fde23e-dccb-4172-f773-8137a8747e67"
      },
      "source": [
        "from google.colab import drive\n",
        "drive.mount('/content/drive/')"
      ],
      "execution_count": 1,
      "outputs": [
        {
          "output_type": "stream",
          "text": [
            "Drive already mounted at /content/drive/; to attempt to forcibly remount, call drive.mount(\"/content/drive/\", force_remount=True).\n"
          ],
          "name": "stdout"
        }
      ]
    },
    {
      "cell_type": "code",
      "metadata": {
        "id": "dZdngK6UZo5Q",
        "colab_type": "code",
        "colab": {
          "base_uri": "https://localhost:8080/",
          "height": 35
        },
        "outputId": "789e28d3-2450-468a-aa6a-dc26cfe92437"
      },
      "source": [
        "import numpy as np\n",
        "import matplotlib.pyplot as plt\n",
        "import torchvision\n",
        "import torch\n",
        "import torch.nn as nn \n",
        "import torch.nn.functional as F\n",
        "from torch.utils.data import DataLoader\n",
        "from torchvision import datasets, transforms, models\n",
        "import cv2\n",
        "import os\n",
        "np.random.seed(0)\n",
        "torch.manual_seed(0)"
      ],
      "execution_count": 2,
      "outputs": [
        {
          "output_type": "execute_result",
          "data": {
            "text/plain": [
              "<torch._C.Generator at 0x7f3963cb0150>"
            ]
          },
          "metadata": {
            "tags": []
          },
          "execution_count": 2
        }
      ]
    },
    {
      "cell_type": "code",
      "metadata": {
        "id": "VoKkAat7vhCm",
        "colab_type": "code",
        "colab": {
          "base_uri": "https://localhost:8080/",
          "height": 35
        },
        "outputId": "ac0191a2-f23a-4a36-cef2-753f1f466253"
      },
      "source": [
        "path='/content/drive/My Drive/Colab Notebooks/Data/flowers/flowers/'\n",
        "\n",
        "img_names = []\n",
        "for folder,_,filenames in os.walk(path):\n",
        "    for img in filenames:\n",
        "        img_names.append(folder+'/'+img)\n",
        "print(\"images len:\",len(img_names))\n"
      ],
      "execution_count": 3,
      "outputs": [
        {
          "output_type": "stream",
          "text": [
            "images len: 4326\n"
          ],
          "name": "stdout"
        }
      ]
    },
    {
      "cell_type": "markdown",
      "metadata": {
        "id": "IfkLECQTvwAd",
        "colab_type": "text"
      },
      "source": [
        "## Calculate mean and variance for Normalization\n",
        "\n"
      ]
    },
    {
      "cell_type": "code",
      "metadata": {
        "id": "Rp2vjUULvvaO",
        "colab_type": "code",
        "colab": {
          "base_uri": "https://localhost:8080/",
          "height": 124
        },
        "outputId": "fe260b35-26a6-481d-b1fa-4edddca27bd7"
      },
      "source": [
        "root='/content/drive/My Drive/Colab Notebooks/Data/flowers/'\n",
        "\n",
        "transform_norm = transforms.Compose([\n",
        "  transforms.Resize(224),\n",
        "  transforms.ToTensor()\n",
        "])\n",
        "\n",
        "dataset_ = datasets.ImageFolder(os.path.join(root,'flowers'), transform=transform_norm)\n",
        "\n",
        "means = []\n",
        "stds = []\n",
        "\n",
        "## Subset ##\n",
        "indices = list(range(0,len(dataset_),10))\n",
        "dataset_sub = torch.utils.data.Subset(dataset_,indices)\n",
        "\n",
        "\n",
        "for img in dataset_sub:\n",
        "  for channel in img[0]:\n",
        "    means.append(torch.mean(channel))\n",
        "    stds.append(torch.std(channel))\n",
        "\n",
        "means = torch.tensor(means).view(-1,3,1)\n",
        "stds = torch.tensor(stds).view(-1,3,1)\n",
        "\n",
        "mean = means.mean(0)\n",
        "std = stds.mean(0)\n",
        "\n",
        "print(mean)\n",
        "print(std)"
      ],
      "execution_count": 4,
      "outputs": [
        {
          "output_type": "stream",
          "text": [
            "tensor([[0.4522],\n",
            "        [0.4134],\n",
            "        [0.2943]])\n",
            "tensor([[0.2480],\n",
            "        [0.2183],\n",
            "        [0.2212]])\n"
          ],
          "name": "stdout"
        }
      ]
    },
    {
      "cell_type": "markdown",
      "metadata": {
        "id": "lv6ncTfUwca2",
        "colab_type": "text"
      },
      "source": [
        "## Data Augmentation\n"
      ]
    },
    {
      "cell_type": "code",
      "metadata": {
        "id": "mkFBr6GEvrVh",
        "colab_type": "code",
        "colab": {}
      },
      "source": [
        "transform = {\n",
        "    \"train\": transforms.Compose([\n",
        "        transforms.RandomRotation(10),\n",
        "        transforms.RandomHorizontalFlip(),\n",
        "        transforms.ColorJitter(brightness=0.5),\n",
        "        transforms.Resize(224),\n",
        "        transforms.CenterCrop(224),\n",
        "        transforms.ToTensor(),\n",
        "        transforms.Normalize(mean =[0.452,0.413,0.294], std =[0.248,0.218,0.221])\n",
        "    ]),\n",
        "    \"Test\": transforms.Compose({\n",
        "        transforms.Resize(224),\n",
        "        transforms.CenterCrop(224),\n",
        "        transforms.ToTensor(),\n",
        "        transforms.Normalize(mean =[0.452,0.413,0.294], std =[0.248,0.218,0.221])\n",
        "    })\n",
        "}"
      ],
      "execution_count": 5,
      "outputs": []
    },
    {
      "cell_type": "markdown",
      "metadata": {
        "id": "Bop5O1_3DlEV",
        "colab_type": "text"
      },
      "source": [
        "## Load data"
      ]
    },
    {
      "cell_type": "code",
      "metadata": {
        "id": "XHvA9R1FDZGH",
        "colab_type": "code",
        "colab": {
          "base_uri": "https://localhost:8080/",
          "height": 248
        },
        "outputId": "b79cdc9b-f9b7-4cef-cb1f-8e61aef0a96e"
      },
      "source": [
        "root='/content/drive/My Drive/Colab Notebooks/Data/flowers/'\n",
        "\n",
        "full_dataset = datasets.ImageFolder(os.path.join(root,'flowers'),transform=transform[\"train\"])\n",
        "print('full dataset:',full_dataset)"
      ],
      "execution_count": 6,
      "outputs": [
        {
          "output_type": "stream",
          "text": [
            "full dataset: Dataset ImageFolder\n",
            "    Number of datapoints: 4323\n",
            "    Root location: /content/drive/My Drive/Colab Notebooks/Data/flowers/flowers\n",
            "    StandardTransform\n",
            "Transform: Compose(\n",
            "               RandomRotation(degrees=(-10, 10), resample=False, expand=False)\n",
            "               RandomHorizontalFlip(p=0.5)\n",
            "               ColorJitter(brightness=[0.5, 1.5], contrast=None, saturation=None, hue=None)\n",
            "               Resize(size=224, interpolation=PIL.Image.BILINEAR)\n",
            "               CenterCrop(size=(224, 224))\n",
            "               ToTensor()\n",
            "               Normalize(mean=[0.452, 0.413, 0.294], std=[0.248, 0.218, 0.221])\n",
            "           )\n"
          ],
          "name": "stdout"
        }
      ]
    },
    {
      "cell_type": "code",
      "metadata": {
        "id": "ibapjQpFDwWT",
        "colab_type": "code",
        "colab": {
          "base_uri": "https://localhost:8080/",
          "height": 52
        },
        "outputId": "ca9f4704-a453-4f2e-b7c1-fbf47d0c9d19"
      },
      "source": [
        "train_size = int(0.8 * len(full_dataset))\n",
        "test_size = len(full_dataset) - train_size\n",
        "\n",
        "print('train size:',train_size)\n",
        "print('test size:',test_size)\n",
        "train_data, test_data = torch.utils.data.random_split(full_dataset, [train_size, test_size])"
      ],
      "execution_count": 7,
      "outputs": [
        {
          "output_type": "stream",
          "text": [
            "train size: 3458\n",
            "test size: 865\n"
          ],
          "name": "stdout"
        }
      ]
    },
    {
      "cell_type": "code",
      "metadata": {
        "id": "upMeZQY8EWaC",
        "colab_type": "code",
        "colab": {
          "base_uri": "https://localhost:8080/",
          "height": 35
        },
        "outputId": "5c47b786-0a0c-4fe0-8cbd-7ba177b60fbb"
      },
      "source": [
        "train_btch_size =32\n",
        "test_btch_size = 16\n",
        "\n",
        "train_loader = DataLoader(train_data,batch_size=train_btch_size, shuffle = True,num_workers = 8)\n",
        "test_loader =  DataLoader(test_data,batch_size =test_btch_size ,shuffle = False,num_workers = 8)\n",
        "\n",
        "class_names = full_dataset.classes\n",
        "print(class_names)"
      ],
      "execution_count": 8,
      "outputs": [
        {
          "output_type": "stream",
          "text": [
            "['daisy', 'dandelion', 'rose', 'sunflower', 'tulip']\n"
          ],
          "name": "stdout"
        }
      ]
    },
    {
      "cell_type": "markdown",
      "metadata": {
        "id": "24A5ZRKKXsJD",
        "colab_type": "text"
      },
      "source": [
        "## CNN Model: Pretrained AlexNet"
      ]
    },
    {
      "cell_type": "code",
      "metadata": {
        "id": "QjhxLbL-EaEz",
        "colab_type": "code",
        "colab": {
          "base_uri": "https://localhost:8080/",
          "height": 497
        },
        "outputId": "73ab02eb-da65-4495-dadb-859e4dcc1e87"
      },
      "source": [
        "Alex_model = models.alexnet(pretrained=True)\n",
        "\n",
        "## set parameter requires grad ##\n",
        "for param in Alex_model.parameters():\n",
        "  param.requires_grad = False\n",
        "\n",
        "num_ftrs = Alex_model.classifier[6].in_features\n",
        "Alex_model.classifier[6] = nn.Linear(num_ftrs,5) # 5 classes\n",
        "\n",
        "print(Alex_model)"
      ],
      "execution_count": 9,
      "outputs": [
        {
          "output_type": "stream",
          "text": [
            "AlexNet(\n",
            "  (features): Sequential(\n",
            "    (0): Conv2d(3, 64, kernel_size=(11, 11), stride=(4, 4), padding=(2, 2))\n",
            "    (1): ReLU(inplace=True)\n",
            "    (2): MaxPool2d(kernel_size=3, stride=2, padding=0, dilation=1, ceil_mode=False)\n",
            "    (3): Conv2d(64, 192, kernel_size=(5, 5), stride=(1, 1), padding=(2, 2))\n",
            "    (4): ReLU(inplace=True)\n",
            "    (5): MaxPool2d(kernel_size=3, stride=2, padding=0, dilation=1, ceil_mode=False)\n",
            "    (6): Conv2d(192, 384, kernel_size=(3, 3), stride=(1, 1), padding=(1, 1))\n",
            "    (7): ReLU(inplace=True)\n",
            "    (8): Conv2d(384, 256, kernel_size=(3, 3), stride=(1, 1), padding=(1, 1))\n",
            "    (9): ReLU(inplace=True)\n",
            "    (10): Conv2d(256, 256, kernel_size=(3, 3), stride=(1, 1), padding=(1, 1))\n",
            "    (11): ReLU(inplace=True)\n",
            "    (12): MaxPool2d(kernel_size=3, stride=2, padding=0, dilation=1, ceil_mode=False)\n",
            "  )\n",
            "  (avgpool): AdaptiveAvgPool2d(output_size=(6, 6))\n",
            "  (classifier): Sequential(\n",
            "    (0): Dropout(p=0.5, inplace=False)\n",
            "    (1): Linear(in_features=9216, out_features=4096, bias=True)\n",
            "    (2): ReLU(inplace=True)\n",
            "    (3): Dropout(p=0.5, inplace=False)\n",
            "    (4): Linear(in_features=4096, out_features=4096, bias=True)\n",
            "    (5): ReLU(inplace=True)\n",
            "    (6): Linear(in_features=4096, out_features=5, bias=True)\n",
            "  )\n",
            ")\n"
          ],
          "name": "stdout"
        }
      ]
    },
    {
      "cell_type": "markdown",
      "metadata": {
        "id": "mQVz0n5Za0ms",
        "colab_type": "text"
      },
      "source": [
        "## Check GPU"
      ]
    },
    {
      "cell_type": "code",
      "metadata": {
        "id": "0TCKHAFAZuh0",
        "colab_type": "code",
        "colab": {
          "base_uri": "https://localhost:8080/",
          "height": 52
        },
        "outputId": "300a001e-0589-4106-8e81-a0562f108d82"
      },
      "source": [
        "# We are going to use pytorch GPU therefore we need to convert datatypes into .cuda() format\n",
        "from torch.autograd import Variable\n",
        "\n",
        "use_gpu = torch.cuda.is_available()\n",
        "if use_gpu:\n",
        "  print(torch.cuda.device_count())\n",
        "  print(torch.cuda.get_device_name(0))\n",
        "else:\n",
        "  print(\"GPU not avaliable\")"
      ],
      "execution_count": 10,
      "outputs": [
        {
          "output_type": "stream",
          "text": [
            "1\n",
            "Tesla T4\n"
          ],
          "name": "stdout"
        }
      ]
    },
    {
      "cell_type": "markdown",
      "metadata": {
        "id": "wsUDs7dldPGb",
        "colab_type": "text"
      },
      "source": [
        "## Optimizer\n",
        "Only updates the last layer"
      ]
    },
    {
      "cell_type": "code",
      "metadata": {
        "id": "QQJ0dPJGdluK",
        "colab_type": "code",
        "colab": {
          "base_uri": "https://localhost:8080/",
          "height": 52
        },
        "outputId": "2cf931a0-e0bd-4321-e5c0-cd5f0c59ac33"
      },
      "source": [
        "params_to_update=[]\n",
        "for name,param in Alex_model.named_parameters():\n",
        "  if param.requires_grad == True:\n",
        "    params_to_update.append(param)\n",
        "    print(\"\\t\",name)\n",
        "\n",
        "# Loss Function\n",
        "if use_gpu:\n",
        "    Alex_model.cuda() \n",
        "criterion= nn.CrossEntropyLoss()\n",
        "if use_gpu:\n",
        "     criterion = criterion.cuda()\n",
        "\n",
        "# Optimizer\n",
        "optimizer = torch.optim.Adam(params_to_update,lr=0.001)# default betas=(0.9,0.999)"
      ],
      "execution_count": 11,
      "outputs": [
        {
          "output_type": "stream",
          "text": [
            "\t classifier.6.weight\n",
            "\t classifier.6.bias\n"
          ],
          "name": "stdout"
        }
      ]
    },
    {
      "cell_type": "markdown",
      "metadata": {
        "id": "Ul3BwI4oha-5",
        "colab_type": "text"
      },
      "source": [
        "## Train and Test"
      ]
    },
    {
      "cell_type": "code",
      "metadata": {
        "id": "iahP64cGhd8q",
        "colab_type": "code",
        "colab": {
          "base_uri": "https://localhost:8080/",
          "height": 941
        },
        "outputId": "7ef16d2d-54f7-4231-a65e-a2288a541780"
      },
      "source": [
        "%%time\n",
        "epochs = 50\n",
        "train_losses =[]\n",
        "test_losses = []\n",
        "train_correct =[]\n",
        "test_correct=[]\n",
        "for epoch in range(epochs):\n",
        "    \n",
        "    trn_corr =0\n",
        "    tst_corr =0\n",
        "    for batch,(X_train,y_train) in enumerate(train_loader):\n",
        "        batch+=1\n",
        "        if torch.cuda.is_available():\n",
        "            X_train = Variable(X_train).cuda()\n",
        "            y_train = Variable(y_train).cuda()\n",
        "        \n",
        "        y_pred = Alex_model(X_train)\n",
        "        loss   = criterion(y_pred,y_train)\n",
        "        predicted =torch.max(y_pred.data,1)[1]\n",
        "        trn_corr+=(predicted == y_train).sum()\n",
        "        \n",
        "        optimizer.zero_grad()\n",
        "        loss.backward()\n",
        "        optimizer.step()\n",
        "        \n",
        "        if batch%100 ==0:\n",
        "            print(f'epoch:{epoch} batch:{batch} loss:{loss.item()} accuracy:{trn_corr.item()*100/(batch*train_btch_size)}')\n",
        "            \n",
        "        \n",
        "    train_losses.append(loss)\n",
        "    train_correct.append(trn_corr.item()*100/(batch*train_btch_size))\n",
        "    \n",
        "    with torch.no_grad():\n",
        "        for batch,(X_test,y_test) in enumerate(test_loader):\n",
        "            \n",
        "            if torch.cuda.is_available():\n",
        "                X_test = Variable(X_test).cuda()\n",
        "                y_test = Variable(y_test).cuda()\n",
        "\n",
        "            y_val= Alex_model(X_test)\n",
        "            predicted_test = torch.max(y_val.data,1)[1]\n",
        "            tst_corr +=(predicted_test==y_test).sum()\n",
        "\n",
        "        loss =criterion(y_val,y_test)\n",
        "        test_losses.append(loss)\n",
        "        test_correct.append(tst_corr.item()*100/(batch*test_btch_size))  \n",
        "    "
      ],
      "execution_count": 12,
      "outputs": [
        {
          "output_type": "stream",
          "text": [
            "epoch:0 batch:100 loss:0.6032592058181763 accuracy:77.28125\n",
            "epoch:1 batch:100 loss:0.311426043510437 accuracy:85.3125\n",
            "epoch:2 batch:100 loss:0.25537270307540894 accuracy:87.65625\n",
            "epoch:3 batch:100 loss:0.11358113586902618 accuracy:88.53125\n",
            "epoch:4 batch:100 loss:0.2873378396034241 accuracy:89.6875\n",
            "epoch:5 batch:100 loss:0.10680181533098221 accuracy:90.03125\n",
            "epoch:6 batch:100 loss:0.2553604543209076 accuracy:91.5\n",
            "epoch:7 batch:100 loss:0.187169149518013 accuracy:91.21875\n",
            "epoch:8 batch:100 loss:0.21457484364509583 accuracy:92.78125\n",
            "epoch:9 batch:100 loss:0.3017248511314392 accuracy:92.6875\n",
            "epoch:10 batch:100 loss:0.4152902066707611 accuracy:92.125\n",
            "epoch:11 batch:100 loss:0.22513233125209808 accuracy:93.25\n",
            "epoch:12 batch:100 loss:0.14213275909423828 accuracy:93.0\n",
            "epoch:13 batch:100 loss:0.21210746467113495 accuracy:91.34375\n",
            "epoch:14 batch:100 loss:0.1235414445400238 accuracy:93.375\n",
            "epoch:15 batch:100 loss:0.16824515163898468 accuracy:93.21875\n",
            "epoch:16 batch:100 loss:0.2004966288805008 accuracy:94.1875\n",
            "epoch:17 batch:100 loss:0.14953020215034485 accuracy:93.9375\n",
            "epoch:18 batch:100 loss:0.18119749426841736 accuracy:93.46875\n",
            "epoch:19 batch:100 loss:0.048429060727357864 accuracy:93.78125\n",
            "epoch:20 batch:100 loss:0.45045170187950134 accuracy:93.4375\n",
            "epoch:21 batch:100 loss:0.32507506012916565 accuracy:93.28125\n",
            "epoch:22 batch:100 loss:0.34967321157455444 accuracy:93.40625\n",
            "epoch:23 batch:100 loss:0.3273794651031494 accuracy:94.15625\n",
            "epoch:24 batch:100 loss:0.07608647644519806 accuracy:93.4375\n",
            "epoch:25 batch:100 loss:0.48100745677948 accuracy:93.6875\n",
            "epoch:26 batch:100 loss:0.10659363865852356 accuracy:93.46875\n",
            "epoch:27 batch:100 loss:0.06498600542545319 accuracy:93.625\n",
            "epoch:28 batch:100 loss:0.016768792644143105 accuracy:94.375\n",
            "epoch:29 batch:100 loss:0.09576079994440079 accuracy:94.71875\n",
            "epoch:30 batch:100 loss:0.1194046288728714 accuracy:94.78125\n",
            "epoch:31 batch:100 loss:0.13368941843509674 accuracy:94.75\n",
            "epoch:32 batch:100 loss:0.1888779252767563 accuracy:94.09375\n",
            "epoch:33 batch:100 loss:0.05512312054634094 accuracy:94.40625\n",
            "epoch:34 batch:100 loss:0.09004581719636917 accuracy:94.75\n",
            "epoch:35 batch:100 loss:0.05752382427453995 accuracy:94.46875\n",
            "epoch:36 batch:100 loss:0.2606419622898102 accuracy:94.84375\n",
            "epoch:37 batch:100 loss:0.08135117590427399 accuracy:95.25\n",
            "epoch:38 batch:100 loss:0.10209470242261887 accuracy:94.84375\n",
            "epoch:39 batch:100 loss:0.11073105037212372 accuracy:95.4375\n",
            "epoch:40 batch:100 loss:0.18043340742588043 accuracy:95.0\n",
            "epoch:41 batch:100 loss:0.4656873941421509 accuracy:94.28125\n",
            "epoch:42 batch:100 loss:0.09146903455257416 accuracy:94.75\n",
            "epoch:43 batch:100 loss:0.1935054510831833 accuracy:94.03125\n",
            "epoch:44 batch:100 loss:0.08223677426576614 accuracy:94.53125\n",
            "epoch:45 batch:100 loss:0.021335691213607788 accuracy:94.875\n",
            "epoch:46 batch:100 loss:0.16600804030895233 accuracy:94.96875\n",
            "epoch:47 batch:100 loss:0.009322121739387512 accuracy:94.875\n",
            "epoch:48 batch:100 loss:0.037846580147743225 accuracy:94.5625\n",
            "epoch:49 batch:100 loss:0.1119462251663208 accuracy:94.53125\n",
            "CPU times: user 1min 5s, sys: 50.3 s, total: 1min 55s\n",
            "Wall time: 24min 40s\n"
          ],
          "name": "stdout"
        }
      ]
    },
    {
      "cell_type": "markdown",
      "metadata": {
        "id": "jiWaNmx4hqM_",
        "colab_type": "text"
      },
      "source": [
        "## Visualize Result"
      ]
    },
    {
      "cell_type": "code",
      "metadata": {
        "id": "-5fG1PGihpF6",
        "colab_type": "code",
        "colab": {
          "base_uri": "https://localhost:8080/",
          "height": 995
        },
        "outputId": "c2ab01c5-fa24-4afd-c782-a84afc982390"
      },
      "source": [
        "#  Plot train loss and test loss \n",
        "plt.figure(figsize=(12,8))\n",
        "plt.xlabel(\"Epoch\")\n",
        "plt.ylabel(\"Loss\")\n",
        "plt.plot(train_losses,label = 'train loss')\n",
        "plt.plot(test_losses,label  = 'test loss')\n",
        "plt.legend()\n",
        "\n",
        "#  Plot train and test accuracy\n",
        "plt.figure(figsize=(12,8))\n",
        "plt.xlabel(\"Epoch\")\n",
        "plt.ylabel(\"Accuracy(%)\")\n",
        "plt.plot(train_correct,label = 'train correct')\n",
        "plt.plot(test_correct, label = 'test correct')\n",
        "plt.legend()"
      ],
      "execution_count": 13,
      "outputs": [
        {
          "output_type": "execute_result",
          "data": {
            "text/plain": [
              "<matplotlib.legend.Legend at 0x7f3906e683c8>"
            ]
          },
          "metadata": {
            "tags": []
          },
          "execution_count": 13
        },
        {
          "output_type": "display_data",
          "data": {
            "image/png": "[encoded data removed]",
            "text/plain": [
              "<Figure size 864x576 with 1 Axes>"
            ]
          },
          "metadata": {
            "tags": [],
            "needs_background": "light"
          }
        },
        {
          "output_type": "display_data",
          "data": {
            "image/png": "[encoded data removed]",
            "text/plain": [
              "<Figure size 864x576 with 1 Axes>"
            ]
          },
          "metadata": {
            "tags": [],
            "needs_background": "light"
          }
        }
      ]
    }
  ]
}