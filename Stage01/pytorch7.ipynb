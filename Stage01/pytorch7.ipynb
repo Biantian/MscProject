{
 "cells": [
  {
   "cell_type": "code",
   "execution_count": 30,
   "metadata": {},
   "outputs": [],
   "source": [
    "import numpy as np # linear algebra\n",
    "import pandas as pd # data processing,\n",
    "\n",
    "import matplotlib.pyplot as plt\n",
    "#from IPython.display import display\n",
    "\n",
    "import torchvision\n",
    "import torch\n",
    "import torch.nn as nn\n",
    "import torch.nn.functional as F\n",
    "from torch.utils.data import DataLoader\n",
    "from torchvision import datasets, transforms,models\n",
    "from torchvision.utils import make_grid\n",
    "import cv2 # cv2.imread\n",
    "\n",
    "import os # os.path"
   ]
  },
  {
   "cell_type": "code",
   "execution_count": 24,
   "metadata": {},
   "outputs": [],
   "source": [
    "path='flowers/flowers/'"
   ]
  },
  {
   "cell_type": "code",
   "execution_count": 25,
   "metadata": {},
   "outputs": [
    {
     "name": "stdout",
     "output_type": "stream",
     "text": [
      "images len: 4326\n"
     ]
    }
   ],
   "source": [
    "img_names = []\n",
    "for folder,subfolders,filenames in os.walk(path):\n",
    "    for img in filenames:\n",
    "        img_names.append(folder+'/'+img)\n",
    "print(\"images len:\",len(img_names))\n"
   ]
  },
  {
   "cell_type": "code",
   "execution_count": 29,
   "metadata": {},
   "outputs": [
    {
     "name": "stdout",
     "output_type": "stream",
     "text": [
      "images:4323\n",
      "rejected:3\n"
     ]
    }
   ],
   "source": [
    "img_sizes = []\n",
    "rejected = []\n",
    "for item in img_names:\n",
    "    try:\n",
    "        img = cv2.imread(item)\n",
    "        img_sizes.append(img.shape[1::-1]) # img.shape -> (height,width,channel)->(width,height)\n",
    "    except:\n",
    "        rejected.append(item)\n",
    "print(f'images:{len(img_sizes)}')\n",
    "print(f'rejected:{len(rejected)}')"
   ]
  },
  {
   "cell_type": "markdown",
   "metadata": {},
   "source": [
    "## Data Augmentation\n",
    "\n",
    "## Calculate Parameter of Normalization"
   ]
  },
  {
   "cell_type": "code",
   "execution_count": 31,
   "metadata": {},
   "outputs": [],
   "source": [
    "transform = {\n",
    "    \"train\": transforms.Compose([\n",
    "        transforms.RandomRotation(10),\n",
    "        transforms.RandomHorizontalFlip(),\n",
    "        transforms.ColorJitter(brightness=0.5),\n",
    "        transforms.Resize(224),\n",
    "        transforms.CenterCrop(224),\n",
    "        transforms.ToTensor(),\n",
    "        transforms.Normalize(mean =[0.485,0.456,0.406], std = [0.229,0.224,0.225])\n",
    "    ]),\n",
    "    \"Test\": transforms.Compose({\n",
    "        transforms.Resize(224),\n",
    "        transforms.CenterCrop(224),\n",
    "        transforms.ToTensor(),\n",
    "        transforms.Normalize(mean =[0.485,0.456,0.406], std = [0.229,0.224,0.225])\n",
    "    })\n",
    "}"
   ]
  },
  {
   "cell_type": "code",
   "execution_count": 32,
   "metadata": {},
   "outputs": [
    {
     "name": "stdout",
     "output_type": "stream",
     "text": [
      "full dataset: Dataset ImageFolder\n",
      "    Number of datapoints: 4323\n",
      "    Root location: flowers/flowers\n",
      "    StandardTransform\n",
      "Transform: Compose(\n",
      "               RandomRotation(degrees=(-10, 10), resample=False, expand=False)\n",
      "               RandomHorizontalFlip(p=0.5)\n",
      "               ColorJitter(brightness=[0.5, 1.5], contrast=None, saturation=None, hue=None)\n",
      "               Resize(size=224, interpolation=PIL.Image.BILINEAR)\n",
      "               CenterCrop(size=(224, 224))\n",
      "               ToTensor()\n",
      "               Normalize(mean=[0.485, 0.456, 0.406], std=[0.229, 0.224, 0.225])\n",
      "           )\n"
     ]
    }
   ],
   "source": [
    "root='flowers/'\n",
    "\n",
    "full_dataset = datasets.ImageFolder(os.path.join(root,'flowers'),transform=transform[\"train\"])\n",
    "print('full dataset:',full_dataset)"
   ]
  },
  {
   "cell_type": "code",
   "execution_count": 33,
   "metadata": {},
   "outputs": [
    {
     "name": "stdout",
     "output_type": "stream",
     "text": [
      "train size: 3458\n",
      "test size: 865\n"
     ]
    }
   ],
   "source": [
    "train_size = int(0.8 * len(full_dataset))\n",
    "test_size = len(full_dataset) - train_size\n",
    "\n",
    "print('train size:',train_size)\n",
    "print('test size:',test_size)\n",
    "train_data, test_data = torch.utils.data.random_split(full_dataset, [train_size, test_size])"
   ]
  },
  {
   "cell_type": "code",
   "execution_count": 34,
   "metadata": {},
   "outputs": [
    {
     "name": "stdout",
     "output_type": "stream",
     "text": [
      "['daisy', 'dandelion', 'rose', 'sunflower', 'tulip']\n"
     ]
    }
   ],
   "source": [
    "train_btch_size =20\n",
    "test_btch_size = 10\n",
    "\n",
    "train_loader = DataLoader(train_data,batch_size=train_btch_size, shuffle = True,num_workers = 8)\n",
    "test_loader =  DataLoader(test_data,batch_size =test_btch_size ,shuffle = False,num_workers = 8)\n",
    "\n",
    "class_names = full_dataset.classes\n",
    "print(class_names)"
   ]
  },
  {
   "cell_type": "code",
   "execution_count": 35,
   "metadata": {},
   "outputs": [],
   "source": [
    "class ConvolutionalNetworks(nn.Module):\n",
    "    def __init__(self):\n",
    "        super().__init__()\n",
    "        self.conv1 = nn.Conv2d(3,32,3,1)\n",
    "        self.conv2 = nn.Conv2d(32,64,3,1)\n",
    "        self.conv3 = nn.Conv2d(64,128,3,1)\n",
    "        self.fc1   = nn.Linear(128*26*26,16)\n",
    "        self.fc2   = nn.Linear(16,8)\n",
    "        self.fc3   = nn.Linear(8,6)\n",
    "        \n",
    "    def forward(self,X):\n",
    "        X = F.relu(self.conv1(X))\n",
    "        X = F.max_pool2d(X,2,2)\n",
    "        X = F.relu(self.conv2(X))\n",
    "        X = F.max_pool2d(X,2,2)\n",
    "        X = F.relu(self.conv3(X))\n",
    "        X = F.max_pool2d(X,2,2)\n",
    "        \n",
    "        X = X.view(-1,128*26*26)\n",
    "        X = F.relu(self.fc1(X))\n",
    "        X = F.relu(self.fc2(X))\n",
    "        X = self.fc3(X)\n",
    "        return F.log_softmax(X,dim =1)"
   ]
  },
  {
   "cell_type": "code",
   "execution_count": 36,
   "metadata": {},
   "outputs": [
    {
     "data": {
      "text/plain": [
       "False"
      ]
     },
     "execution_count": 36,
     "metadata": {},
     "output_type": "execute_result"
    }
   ],
   "source": [
    "# We are going to use pytorch GPU therefore we need to convert datatypes into .cuda() format\n",
    "from torch.autograd import Variable\n",
    "\n",
    "use_gpu = torch.cuda.is_available()\n",
    "use_gpu"
   ]
  },
  {
   "cell_type": "code",
   "execution_count": 37,
   "metadata": {},
   "outputs": [
    {
     "data": {
      "text/plain": [
       "ConvolutionalNetworks(\n",
       "  (conv1): Conv2d(3, 32, kernel_size=(3, 3), stride=(1, 1))\n",
       "  (conv2): Conv2d(32, 64, kernel_size=(3, 3), stride=(1, 1))\n",
       "  (conv3): Conv2d(64, 128, kernel_size=(3, 3), stride=(1, 1))\n",
       "  (fc1): Linear(in_features=86528, out_features=16, bias=True)\n",
       "  (fc2): Linear(in_features=16, out_features=8, bias=True)\n",
       "  (fc3): Linear(in_features=8, out_features=6, bias=True)\n",
       ")"
      ]
     },
     "execution_count": 37,
     "metadata": {},
     "output_type": "execute_result"
    }
   ],
   "source": [
    "CNN_model=ConvolutionalNetworks()\n",
    "if torch.cuda.is_available():\n",
    "    CNN_model.cuda() \n",
    "criterion= nn.CrossEntropyLoss()\n",
    "if use_gpu:\n",
    "     criterion = criterion.cuda()\n",
    "optimizer = torch.optim.Adam(CNN_model.parameters(),lr=0.001)\n",
    "CNN_model"
   ]
  },
  {
   "cell_type": "markdown",
   "metadata": {},
   "source": [
    "## Epoch\n",
    "\n",
    "3+6 epochs."
   ]
  },
  {
   "cell_type": "code",
   "execution_count": 39,
   "metadata": {},
   "outputs": [
    {
     "name": "stdout",
     "output_type": "stream",
     "text": [
      "epoch:0 batch:100 loss:0.7769767045974731 accuracy:60.35\n",
      "epoch:1 batch:100 loss:0.9560750126838684 accuracy:63.8\n",
      "epoch:2 batch:100 loss:0.8768895268440247 accuracy:67.4\n",
      "epoch:3 batch:100 loss:0.9846696853637695 accuracy:70.1\n",
      "epoch:4 batch:100 loss:0.3255961537361145 accuracy:71.0\n",
      "epoch:5 batch:100 loss:1.1607993841171265 accuracy:73.75\n"
     ]
    }
   ],
   "source": [
    "epochs = 6\n",
    "train_losses =[]\n",
    "test_losses = []\n",
    "train_correct =[]\n",
    "test_correct=[]\n",
    "for epoch in range(epochs):\n",
    "    \n",
    "    trn_corr =0\n",
    "    tst_corr =0\n",
    "    for batch,(X_train,y_train) in enumerate(train_loader):\n",
    "        batch+=1\n",
    "        if torch.cuda.is_available():\n",
    "            X_train = Variable(X_train).cuda()\n",
    "            y_train = Variable(y_train).cuda()\n",
    "        \n",
    "        y_pred = CNN_model(X_train)\n",
    "        loss   = criterion(y_pred,y_train)\n",
    "        predicted =torch.max(y_pred.data,1)[1]\n",
    "        trn_corr+=(predicted == y_train).sum()\n",
    "        \n",
    "        optimizer.zero_grad()\n",
    "        loss.backward()\n",
    "        optimizer.step()\n",
    "        \n",
    "        if batch%100 ==0:\n",
    "            print(f'epoch:{epoch} batch:{batch} loss:{loss.item()} accuracy:{trn_corr.item()*100/(batch*train_btch_size)}')\n",
    "            \n",
    "        \n",
    "    train_losses.append(loss)\n",
    "    train_correct.append(trn_corr.item()*100/(batch*train_btch_size))\n",
    "    \n",
    "    with torch.no_grad():\n",
    "        for X_test,y_test in test_loader:\n",
    "            \n",
    "            if torch.cuda.is_available():\n",
    "                X_test = Variable(X_test).cuda()\n",
    "                y_test = Variable(y_test).cuda()\n",
    "\n",
    "            y_val= CNN_model(X_test)\n",
    "            predicted_test = torch.max(y_val.data,1)[1]\n",
    "            tst_corr +=(predicted_test==y_test).sum()\n",
    "\n",
    "        loss =criterion(y_val,y_test)\n",
    "        test_losses.append(loss)\n",
    "        test_correct.append(tst_corr.item()*100/(batch*test_btch_size))  \n",
    "    "
   ]
  },
  {
   "cell_type": "code",
   "execution_count": 41,
   "metadata": {},
   "outputs": [
    {
     "data": {
      "text/plain": [
       "<matplotlib.legend.Legend at 0x24c01162688>"
      ]
     },
     "execution_count": 41,
     "metadata": {},
     "output_type": "execute_result"
    },
    {
     "data": {
      "image/png": "[encoded data removed]",
      "text/plain": [
       "<Figure size 864x576 with 1 Axes>"
      ]
     },
     "metadata": {
      "needs_background": "light"
     },
     "output_type": "display_data"
    },
    {
     "data": {
      "image/png": "[encoded data removed]",
      "text/plain": [
       "<Figure size 864x576 with 1 Axes>"
      ]
     },
     "metadata": {
      "needs_background": "light"
     },
     "output_type": "display_data"
    }
   ],
   "source": [
    "#  Plot train loss and test loss \n",
    "plt.figure(figsize=(12,8))\n",
    "plt.xlabel(\"Epoch\")\n",
    "plt.ylabel(\"Loss\")\n",
    "plt.plot(train_losses,label = 'train loss')\n",
    "plt.plot(test_losses,label  = 'test loss')\n",
    "plt.legend()\n",
    "\n",
    "#  Plot train and test accuracy\n",
    "plt.figure(figsize=(12,8))\n",
    "plt.xlabel(\"Epoch\")\n",
    "plt.ylabel(\"Accuracy(%)\")\n",
    "plt.plot(train_correct,label = 'train correct')\n",
    "plt.plot(test_correct, label = 'test correct')\n",
    "plt.legend()"
   ]
  },
  {
   "cell_type": "code",
   "execution_count": null,
   "metadata": {},
   "outputs": [],
   "source": []
  }
 ],
 "metadata": {
  "kernelspec": {
   "display_name": "Python 3",
   "language": "python",
   "name": "python3"
  },
  "language_info": {
   "codemirror_mode": {
    "name": "ipython",
    "version": 3
   },
   "file_extension": ".py",
   "mimetype": "text/x-python",
   "name": "python",
   "nbconvert_exporter": "python",
   "pygments_lexer": "ipython3",
   "version": "3.7.7"
  }
 },
 "nbformat": 4,
 "nbformat_minor": 4
}
